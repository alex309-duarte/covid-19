{
 "cells": [
  {
   "cell_type": "code",
   "execution_count": 4,
   "metadata": {},
   "outputs": [],
   "source": [
    "#setwd('6to Semestre')\n",
    "#setwd('Temas Selectos de Matemáticas')\n",
    "#setwd('Covid')\n",
    "suppressMessages(library(dplyr))\n",
    "suppressMessages(library(verification))\n",
    "\n",
    "\n",
    "cv=read.csv(\"covid.csv\",header=T)\n",
    "cv <- na.omit(cv)\n",
    "cv=cv%>%tbl_df()\n",
    "cv=cv%>%filter(as.numeric(RESULTADO)<=2)\n",
    "\n",
    "p = cv %>% filter(RESULTADO == 2) %>% summarize(p=n())  \n",
    "num_negativo = p[[1]] #total de casos negativos\n",
    "p = cv %>% filter(RESULTADO == 1) %>% summarize(p=n())\n",
    "num_positivos = p[[1]] #numero de casos positivos\n",
    "\n",
    "cv_covid_negativo = cv %>% filter(RESULTADO == 2)\n",
    "cv_covid_positivo = cv %>% filter(RESULTADO == 1)\n",
    "h = sample(1:num_negativo,num_positivos,replace = FALSE) #generamos numeros aleatorios\n",
    "cv_int = cv_covid_negativo %>% slice(h)\n",
    "cv <- bind_rows(cv_int,cv_covid_positivo)\n"
   ]
  },
  {
   "cell_type": "code",
   "execution_count": 5,
   "metadata": {},
   "outputs": [
    {
     "name": "stdout",
     "output_type": "stream",
     "text": [
      "Classes 'tbl_df', 'tbl' and 'data.frame':\t125054 obs. of  35 variables:\n",
      " $ FECHA_ACTUALIZACION: Factor w/ 1 level \"2020-05-22\": 1 1 1 1 1 1 1 1 1 1 ...\n",
      " $ ID_REGISTRO        : Factor w/ 210070 levels \"000013\",\"000023\",..: 115524 148361 103775 114685 170696 738 112582 30798 46761 64302 ...\n",
      " $ ORIGEN             : int  2 1 2 1 2 2 1 2 2 2 ...\n",
      " $ SECTOR             : int  9 12 12 12 4 12 99 12 12 4 ...\n",
      " $ ENTIDAD_UM         : int  9 15 9 14 9 31 32 28 1 31 ...\n",
      " $ SEXO               : int  1 1 1 2 2 1 1 2 1 1 ...\n",
      " $ ENTIDAD_NAC        : int  15 15 15 14 15 31 32 28 14 30 ...\n",
      " $ ENTIDAD_RES        : int  9 15 15 14 9 31 32 28 1 31 ...\n",
      " $ MUNICIPIO_RES      : int  5 5 58 85 7 102 48 22 1 50 ...\n",
      " $ TIPO_PACIENTE      : int  1 1 2 1 1 1 2 1 1 1 ...\n",
      " $ FECHA_INGRESO      : Factor w/ 143 levels \"2020-01-01\",\"2020-01-02\",..: 136 132 131 113 133 140 127 108 128 125 ...\n",
      " $ FECHA_SINTOMAS     : Factor w/ 143 levels \"2020-01-01\",\"2020-01-02\",..: 136 126 129 109 133 140 126 101 127 121 ...\n",
      " $ FECHA_DEF          : Factor w/ 82 levels \"2020-01-14\",\"2020-01-15\",..: 82 82 82 82 82 82 82 82 82 82 ...\n",
      " $ INTUBADO           : int  97 97 2 97 97 97 2 97 97 97 ...\n",
      " $ NEUMONIA           : int  2 2 1 2 1 2 2 2 2 2 ...\n",
      " $ EDAD               : int  26 58 69 45 52 29 59 27 44 30 ...\n",
      " $ NACIONALIDAD       : int  1 1 1 1 1 1 1 1 1 1 ...\n",
      " $ EMBARAZO           : int  2 2 2 97 97 2 2 97 2 2 ...\n",
      " $ HABLA_LENGUA_INDIG : int  2 2 2 2 2 2 1 2 99 2 ...\n",
      " $ DIABETES           : int  2 2 1 2 1 2 1 2 2 2 ...\n",
      " $ EPOC               : int  2 2 2 2 2 2 2 2 2 2 ...\n",
      " $ ASMA               : int  2 2 2 2 2 2 2 2 2 2 ...\n",
      " $ INMUSUPR           : int  2 2 2 2 2 2 2 2 2 2 ...\n",
      " $ HIPERTENSION       : int  2 1 1 2 2 2 1 2 2 2 ...\n",
      " $ OTRA_COM           : int  2 2 2 2 2 2 2 2 2 2 ...\n",
      " $ CARDIOVASCULAR     : int  2 2 2 2 2 2 2 2 2 2 ...\n",
      " $ OBESIDAD           : int  2 2 2 1 1 2 2 2 1 2 ...\n",
      " $ RENAL_CRONICA      : int  2 1 2 2 2 2 1 2 2 2 ...\n",
      " $ TABAQUISMO         : int  2 2 2 2 2 2 2 2 2 2 ...\n",
      " $ OTRO_CASO          : int  2 1 2 2 99 1 99 1 1 99 ...\n",
      " $ RESULTADO          : int  2 2 2 2 2 2 2 2 2 2 ...\n",
      " $ MIGRANTE           : int  99 99 99 99 99 99 99 99 99 99 ...\n",
      " $ PAIS_NACIONALIDAD  : Factor w/ 80 levels \"Alemania\",\"ArchipiÃ©lago de Svalbard\",..: 49 49 49 49 49 49 49 49 49 49 ...\n",
      " $ PAIS_ORIGEN        : Factor w/ 41 levels \"99\",\"Alemania\",..: 1 1 1 1 1 1 1 1 1 1 ...\n",
      " $ UCI                : int  97 97 2 97 97 97 2 97 97 97 ...\n"
     ]
    },
    {
     "name": "stderr",
     "output_type": "stream",
     "text": [
      "The following objects are masked from cv (pos = 3):\n",
      "\n",
      "    ASMA, CARDIOVASCULAR, DIABETES, EDAD, EMBARAZO, ENTIDAD_NAC,\n",
      "    ENTIDAD_RES, ENTIDAD_UM, EPOC, FECHA_ACTUALIZACION, FECHA_DEF,\n",
      "    FECHA_INGRESO, FECHA_SINTOMAS, HABLA_LENGUA_INDI,\n",
      "    HABLA_LENGUA_INDIG, HIPERTENSION, ID_REGISTRO, INMUSUPR, INTUBADO,\n",
      "    MIGRANTE, MUNICIPIO_RES, NACIONALIDAD, NEUMONIA, OBESIDAD, ORIGEN,\n",
      "    OTRA_COM, OTRA_CON, OTRO_CASO, PAIS_NACIONALIDAD, PAIS_ORIGEN,\n",
      "    RENAL_CRONICA, RESULTADO, SECTOR, SEXO, TABAQUISMO, TIPO_PACIENTE,\n",
      "    UCI\n",
      "\n",
      "\n"
     ]
    },
    {
     "name": "stdout",
     "output_type": "stream",
     "text": [
      "Classes 'tbl_df', 'tbl' and 'data.frame':\t125054 obs. of  37 variables:\n",
      " $ FECHA_ACTUALIZACION: Date, format: \"2020-05-22\" \"2020-05-22\" ...\n",
      " $ ID_REGISTRO        : Factor w/ 210070 levels \"000013\",\"000023\",..: 115524 148361 103775 114685 170696 738 112582 30798 46761 64302 ...\n",
      " $ ORIGEN             : Factor w/ 2 levels \"1\",\"2\": 2 1 2 1 2 2 1 2 2 2 ...\n",
      " $ SECTOR             : Factor w/ 13 levels \"1\",\"2\",\"3\",\"4\",..: 8 11 11 11 4 11 13 11 11 4 ...\n",
      " $ ENTIDAD_UM         : Factor w/ 32 levels \"1\",\"2\",\"3\",\"4\",..: 9 15 9 14 9 31 32 28 1 31 ...\n",
      " $ SEXO               : Factor w/ 2 levels \"1\",\"2\": 1 1 1 2 2 1 1 2 1 1 ...\n",
      " $ ENTIDAD_NAC        : Factor w/ 33 levels \"1\",\"2\",\"3\",\"4\",..: 15 15 15 14 15 31 32 28 14 30 ...\n",
      " $ ENTIDAD_RES        : Factor w/ 32 levels \"1\",\"2\",\"3\",\"4\",..: 9 15 15 14 9 31 32 28 1 31 ...\n",
      " $ MUNICIPIO_RES      : Factor w/ 309 levels \"1\",\"2\",\"3\",\"4\",..: 5 5 58 85 7 102 48 22 1 50 ...\n",
      " $ TIPO_PACIENTE      : Factor w/ 2 levels \"1\",\"2\": 1 1 2 1 1 1 2 1 1 1 ...\n",
      " $ FECHA_INGRESO      : Date, format: \"2020-05-15\" \"2020-05-11\" ...\n",
      " $ FECHA_SINTOMAS     : Date, format: \"2020-05-15\" \"2020-05-05\" ...\n",
      " $ FECHA_DEF          : Factor w/ 82 levels \"2020-01-14\",\"2020-01-15\",..: 82 82 82 82 82 82 82 82 82 82 ...\n",
      " $ INTUBADO           : Factor w/ 4 levels \"1\",\"2\",\"97\",\"99\": 3 3 2 3 3 3 2 3 3 3 ...\n",
      " $ NEUMONIA           : Factor w/ 3 levels \"1\",\"2\",\"99\": 2 2 1 2 1 2 2 2 2 2 ...\n",
      " $ EDAD               : int  26 58 69 45 52 29 59 27 44 30 ...\n",
      " $ NACIONALIDAD       : Factor w/ 2 levels \"1\",\"2\": 1 1 1 1 1 1 1 1 1 1 ...\n",
      " $ EMBARAZO           : Factor w/ 4 levels \"1\",\"2\",\"97\",\"98\": 2 2 2 3 3 2 2 3 2 2 ...\n",
      " $ HABLA_LENGUA_INDIG : int  2 2 2 2 2 2 1 2 99 2 ...\n",
      " $ DIABETES           : Factor w/ 3 levels \"1\",\"2\",\"98\": 2 2 1 2 1 2 1 2 2 2 ...\n",
      " $ EPOC               : Factor w/ 3 levels \"1\",\"2\",\"98\": 2 2 2 2 2 2 2 2 2 2 ...\n",
      " $ ASMA               : Factor w/ 3 levels \"1\",\"2\",\"98\": 2 2 2 2 2 2 2 2 2 2 ...\n",
      " $ INMUSUPR           : Factor w/ 3 levels \"1\",\"2\",\"98\": 2 2 2 2 2 2 2 2 2 2 ...\n",
      " $ HIPERTENSION       : Factor w/ 3 levels \"1\",\"2\",\"98\": 2 1 1 2 2 2 1 2 2 2 ...\n",
      " $ OTRA_COM           : int  2 2 2 2 2 2 2 2 2 2 ...\n",
      " $ CARDIOVASCULAR     : Factor w/ 3 levels \"1\",\"2\",\"98\": 2 2 2 2 2 2 2 2 2 2 ...\n",
      " $ OBESIDAD           : Factor w/ 3 levels \"1\",\"2\",\"98\": 2 2 2 1 1 2 2 2 1 2 ...\n",
      " $ RENAL_CRONICA      : Factor w/ 3 levels \"1\",\"2\",\"98\": 2 1 2 2 2 2 1 2 2 2 ...\n",
      " $ TABAQUISMO         : Factor w/ 3 levels \"1\",\"2\",\"98\": 2 2 2 2 2 2 2 2 2 2 ...\n",
      " $ OTRO_CASO          : Factor w/ 3 levels \"1\",\"2\",\"99\": 2 1 2 2 3 1 3 1 1 3 ...\n",
      " $ RESULTADO          : Factor w/ 2 levels \"1\",\"2\": 2 2 2 2 2 2 2 2 2 2 ...\n",
      " $ MIGRANTE           : Factor w/ 3 levels \"1\",\"2\",\"99\": 3 3 3 3 3 3 3 3 3 3 ...\n",
      " $ PAIS_NACIONALIDAD  : Factor w/ 80 levels \"Alemania\",\"ArchipiÃ©lago de Svalbard\",..: 49 49 49 49 49 49 49 49 49 49 ...\n",
      " $ PAIS_ORIGEN        : Factor w/ 41 levels \"99\",\"Alemania\",..: 1 1 1 1 1 1 1 1 1 1 ...\n",
      " $ UCI                : Factor w/ 4 levels \"1\",\"2\",\"97\",\"99\": 3 3 2 3 3 3 2 3 3 3 ...\n",
      " $ HABLA_LENGUA_INDI  : Factor w/ 3 levels \"1\",\"2\",\"99\": 2 2 2 2 2 2 1 2 3 2 ...\n",
      " $ OTRA_CON           : Factor w/ 3 levels \"1\",\"2\",\"98\": 2 2 2 2 2 2 2 2 2 2 ...\n"
     ]
    },
    {
     "data": {
      "text/html": [
       "<style>\n",
       ".dl-inline {width: auto; margin:0; padding: 0}\n",
       ".dl-inline>dt, .dl-inline>dd {float: none; width: auto; display: inline-block}\n",
       ".dl-inline>dt::after {content: \":\\0020\"; padding-right: .5ex}\n",
       ".dl-inline>dt:not(:first-of-type) {padding-left: .5ex}\n",
       "</style><dl class=dl-inline><dt>1</dt><dd>62527</dd><dt>2</dt><dd>62527</dd></dl>\n"
      ],
      "text/latex": [
       "\\begin{description*}\n",
       "\\item[1] 62527\n",
       "\\item[2] 62527\n",
       "\\end{description*}\n"
      ],
      "text/markdown": [
       "1\n",
       ":   625272\n",
       ":   62527\n",
       "\n"
      ],
      "text/plain": [
       "    1     2 \n",
       "62527 62527 "
      ]
     },
     "metadata": {},
     "output_type": "display_data"
    },
    {
     "name": "stderr",
     "output_type": "stream",
     "text": [
      "Warning message in 1:dim(cv):\n",
      "\"numerical expression has 2 elements: only the first used\"\n"
     ]
    }
   ],
   "source": [
    "str(cv)\n",
    "cv$ORIGEN <- as.factor(cv$ORIGEN)\n",
    "cv$SECTOR <- as.factor(cv$SECTOR)\n",
    "cv$ENTIDAD_UM<- as.factor(cv$ENTIDAD_UM)\n",
    "cv$SEXO <- as.factor(cv$SEXO)\n",
    "cv$ENTIDAD_NAC <- as.factor(cv$ENTIDAD_NAC)\n",
    "cv$ENTIDAD_RES <- as.factor(cv$ENTIDAD_RES)\n",
    "cv$MUNICIPIO_RES <- as.factor(cv$MUNICIPIO_RES)\n",
    "cv$TIPO_PACIENTE <- as.factor(cv$TIPO_PACIENTE)\n",
    "cv$INTUBADO <- as.factor(cv$INTUBADO )\n",
    "cv$NEUMONIA  <- as.factor(cv$NEUMONIA )\n",
    "cv$NACIONALIDAD <- as.factor(cv$NACIONALIDAD)\n",
    "cv$EMBARAZO <- as.factor(cv$EMBARAZO)\n",
    "cv$HABLA_LENGUA_INDI <- as.factor(cv$HABLA_LENGUA_INDIG)\n",
    "cv$DIABETES <- as.factor(cv$DIABETES)\n",
    "cv$EPOC <- as.factor(cv$EPOC)\n",
    "cv$ASMA <- as.factor(cv$ASMA)\n",
    "cv$INMUSUPR  <- as.factor(cv$INMUSUPR  )\n",
    "cv$HIPERTENSION   <- as.factor(cv$HIPERTENSION  )\n",
    "cv$OTRA_CON <- as.factor(cv$OTRA_COM)\n",
    "cv$CARDIOVASCULAR <- as.factor(cv$CARDIOVASCULAR)\n",
    "cv$OBESIDAD  <- as.factor(cv$OBESIDAD )\n",
    "cv$RENAL_CRONICA  <- as.factor(cv$RENAL_CRONICA )\n",
    "cv$TABAQUISMO <- as.factor(cv$TABAQUISMO)\n",
    "cv$OTRO_CASO  <- as.factor(cv$OTRO_CASO  )\n",
    "cv$RESULTADO    <- as.factor(cv$RESULTADO  )\n",
    "cv$MIGRANTE <- as.factor(cv$MIGRANTE)\n",
    "cv$UCI <- as.factor(cv$UCI)\n",
    "cv$FECHA_ACTUALIZACION <- as.Date(cv$FECHA_ACTUALIZACION )\n",
    "cv$FECHA_INGRESO <- as.Date(cv$FECHA_INGRESO)\n",
    "cv$FECHA_SINTOMAS <- as.Date(cv$FECHA_SINTOMAS)\n",
    "cv$FECHA_ACTUALIZACION <- as.Date(cv$FECHA_ACTUALIZACION)\n",
    "attach(cv)\n",
    "str(cv)\n",
    "summary(cv$RESULTADO)\n",
    "index <- sample(1:dim(cv), (dim(cv)/2), replace = F)\n",
    "Train <- cv[index,]\n",
    "Test <- cv[-index,]\n"
   ]
  },
  {
   "cell_type": "code",
   "execution_count": 6,
   "metadata": {},
   "outputs": [
    {
     "data": {
      "text/plain": [
       "\n",
       "Call:\n",
       "glm(formula = RESULTADO ~ EDAD + ENTIDAD_RES + SEXO + NEUMONIA + \n",
       "    DIABETES + ASMA + EPOC + OTRO_CASO + OBESIDAD + HIPERTENSION + \n",
       "    CARDIOVASCULAR + INTUBADO, family = binomial, data = Train)\n",
       "\n",
       "Deviance Residuals: \n",
       "    Min       1Q   Median       3Q      Max  \n",
       "-2.3901  -1.0153  -0.3899   1.0752   2.4115  \n",
       "\n",
       "Coefficients:\n",
       "                   Estimate Std. Error z value Pr(>|z|)    \n",
       "(Intercept)       1.6986699  0.1362254  12.470  < 2e-16 ***\n",
       "EDAD             -0.0149915  0.0006175 -24.278  < 2e-16 ***\n",
       "ENTIDAD_RES2     -1.7422839  0.0807552 -21.575  < 2e-16 ***\n",
       "ENTIDAD_RES3     -0.6391918  0.1094077  -5.842 5.15e-09 ***\n",
       "ENTIDAD_RES4     -0.9096971  0.1291632  -7.043 1.88e-12 ***\n",
       "ENTIDAD_RES5      0.3331143  0.0884795   3.765 0.000167 ***\n",
       "ENTIDAD_RES6     -0.4055776  0.1921394  -2.111 0.034785 *  \n",
       "ENTIDAD_RES7     -1.3255913  0.1003031 -13.216  < 2e-16 ***\n",
       "ENTIDAD_RES8     -0.9846204  0.0953341 -10.328  < 2e-16 ***\n",
       "ENTIDAD_RES9     -1.1662151  0.0685040 -17.024  < 2e-16 ***\n",
       "ENTIDAD_RES10     0.5830278  0.1343227   4.340 1.42e-05 ***\n",
       "ENTIDAD_RES11     0.6084266  0.0839867   7.244 4.35e-13 ***\n",
       "ENTIDAD_RES12    -0.9268873  0.0964304  -9.612  < 2e-16 ***\n",
       "ENTIDAD_RES13    -1.2116145  0.0982540 -12.331  < 2e-16 ***\n",
       "ENTIDAD_RES14     0.5966350  0.0821743   7.261 3.85e-13 ***\n",
       "ENTIDAD_RES15    -1.0938050  0.0703399 -15.550  < 2e-16 ***\n",
       "ENTIDAD_RES16    -0.5280184  0.0857471  -6.158 7.37e-10 ***\n",
       "ENTIDAD_RES17    -1.2587477  0.1003580 -12.543  < 2e-16 ***\n",
       "ENTIDAD_RES18    -0.6249407  0.1204443  -5.189 2.12e-07 ***\n",
       "ENTIDAD_RES19     0.6651773  0.0828415   8.030 9.79e-16 ***\n",
       "ENTIDAD_RES20    -1.2043872  0.1019707 -11.811  < 2e-16 ***\n",
       "ENTIDAD_RES21    -0.8356072  0.0830504 -10.061  < 2e-16 ***\n",
       "ENTIDAD_RES22    -0.8197768  0.1061606  -7.722 1.14e-14 ***\n",
       "ENTIDAD_RES23    -1.6550831  0.0967287 -17.111  < 2e-16 ***\n",
       "ENTIDAD_RES24     0.0755128  0.0974849   0.775 0.438570    \n",
       "ENTIDAD_RES25    -1.3109051  0.0827932 -15.833  < 2e-16 ***\n",
       "ENTIDAD_RES26    -0.9407508  0.0899212 -10.462  < 2e-16 ***\n",
       "ENTIDAD_RES27    -1.3991439  0.0801992 -17.446  < 2e-16 ***\n",
       "ENTIDAD_RES28    -0.2241997  0.0846493  -2.649 0.008083 ** \n",
       "ENTIDAD_RES29    -0.7325594  0.1019066  -7.189 6.55e-13 ***\n",
       "ENTIDAD_RES30    -1.1860383  0.0815967 -14.535  < 2e-16 ***\n",
       "ENTIDAD_RES31    -0.9047307  0.0870615 -10.392  < 2e-16 ***\n",
       "ENTIDAD_RES32     0.2519402  0.1385618   1.818 0.069026 .  \n",
       "SEXO2            -0.3212062  0.0177226 -18.124  < 2e-16 ***\n",
       "NEUMONIA2         0.4628615  0.0302822  15.285  < 2e-16 ***\n",
       "NEUMONIA99       -0.4959390  1.2524595  -0.396 0.692126    \n",
       "DIABETES2         0.1734886  0.0286878   6.047 1.47e-09 ***\n",
       "DIABETES98        0.0708577  0.3053146   0.232 0.816475    \n",
       "ASMA2            -0.2849432  0.0467895  -6.090 1.13e-09 ***\n",
       "ASMA98           -0.4854351  0.4320528  -1.124 0.261202    \n",
       "EPOC2            -0.5008722  0.0626997  -7.988 1.37e-15 ***\n",
       "EPOC98            0.4946555  0.4448192   1.112 0.266122    \n",
       "OTRO_CASO2       -0.0944041  0.0225133  -4.193 2.75e-05 ***\n",
       "OTRO_CASO99      -0.2811245  0.0224172 -12.541  < 2e-16 ***\n",
       "OBESIDAD2         0.3543055  0.0235866  15.021  < 2e-16 ***\n",
       "OBESIDAD98       -0.8699480  0.2915683  -2.984 0.002848 ** \n",
       "HIPERTENSION2    -0.1069145  0.0264834  -4.037 5.41e-05 ***\n",
       "HIPERTENSION98   -0.4196260  0.3959388  -1.060 0.289224    \n",
       "CARDIOVASCULAR2  -0.4875506  0.0548543  -8.888  < 2e-16 ***\n",
       "CARDIOVASCULAR98 -0.7386442  0.4296888  -1.719 0.085611 .  \n",
       "INTUBADO2         0.3750377  0.0676774   5.542 3.00e-08 ***\n",
       "INTUBADO97        0.6352124  0.0705299   9.006  < 2e-16 ***\n",
       "INTUBADO99       -1.5759485  1.1143621  -1.414 0.157299    \n",
       "---\n",
       "Signif. codes:  0 '***' 0.001 '**' 0.01 '*' 0.05 '.' 0.1 ' ' 1\n",
       "\n",
       "(Dispersion parameter for binomial family taken to be 1)\n",
       "\n",
       "    Null deviance: 86681  on 62526  degrees of freedom\n",
       "Residual deviance: 75196  on 62474  degrees of freedom\n",
       "AIC: 75302\n",
       "\n",
       "Number of Fisher Scoring iterations: 4\n"
      ]
     },
     "metadata": {},
     "output_type": "display_data"
    },
    {
     "data": {
      "image/png": "[encoded data removed]",
      "text/plain": [
       "plot without title"
      ]
     },
     "metadata": {
      "image/png": {
       "height": 420,
       "width": 420
      },
      "text/plain": {
       "height": 420,
       "width": 420
      }
     },
     "output_type": "display_data"
    }
   ],
   "source": [
    "########################### LOGISTICA\n",
    "##########################\n",
    "glm1<- glm(RESULTADO~ EDAD+ENTIDAD_RES+SEXO+NEUMONIA+DIABETES+ASMA+EPOC+OTRO_CASO+OBESIDAD+HIPERTENSION+CARDIOVASCULAR+INTUBADO,family=binomial ,data = Train)\n",
    "summary(glm1)\n",
    "yhat2<- predict(glm1, newdata=Test,type=\"response\")\n",
    "#para elegir la mejor y evaluamos los posibles valores, desde 0.1 hasta 1 y vemos cual es el mean menor \n",
    "#se repite 91 veces \n",
    "size=1\n",
    "val_mean <- rep(0,91)\n",
    "for(i in seq(0.1,1,by=0.01)){\n",
    "  y=as.integer(yhat2>i)\n",
    "  y=ifelse(y ==\"0\",1,2)\n",
    "  val_mean[size]=mean(y == Test$RESULTADO)\n",
    "  size=size+1\n",
    "}\n",
    "size=2\n",
    "lugar=1\n",
    "mejor=val_mean[lugar]\n",
    "for(i in seq(0.11,1,by=0.01)){\n",
    "  if(val_mean[size]>mejor){\n",
    "    mejor=val_mean[size]\n",
    "    b=i\n",
    "    lugar=size\n",
    "  }\n",
    "  size=size+1\n",
    "}\n",
    "y=seq(0.1,1,by=0.01)\n",
    "plot(y,val_mean,xlab = \"iterador\", ylab = \"valor mean\")\n",
    "points(b, val_mean[lugar],  col = \"orange\", lwd = 10)\n"
   ]
  },
  {
   "cell_type": "code",
   "execution_count": 7,
   "metadata": {},
   "outputs": [
    {
     "data": {
      "text/html": [
       "0.48"
      ],
      "text/latex": [
       "0.48"
      ],
      "text/markdown": [
       "0.48"
      ],
      "text/plain": [
       "[1] 0.48"
      ]
     },
     "metadata": {},
     "output_type": "display_data"
    },
    {
     "data": {
      "text/html": [
       "0.669134933708638"
      ],
      "text/latex": [
       "0.669134933708638"
      ],
      "text/markdown": [
       "0.669134933708638"
      ],
      "text/plain": [
       "[1] 0.6691349"
      ]
     },
     "metadata": {},
     "output_type": "display_data"
    },
    {
     "data": {
      "image/png": "[encoded data removed]",
      "text/plain": [
       "Plot with title \"Logistic\""
      ]
     },
     "metadata": {
      "image/png": {
       "height": 420,
       "width": 420
      },
      "text/plain": {
       "height": 420,
       "width": 420
      }
     },
     "output_type": "display_data"
    }
   ],
   "source": [
    "b\n",
    "val_mean[lugar]\n",
    "####rocplot\n",
    "\n",
    "roc= ifelse(Test$RESULTADO==1,0,1)\n",
    "roc.plot(x = roc, pred =yhat2,\n",
    "         threshold = seq(0, max(yhat2), 0.05),\n",
    "         plot.thres = c(0.03, 0.05, 0.1, 0.5, 0.9), main=\"Logistic\")\n",
    "\n",
    "\n"
   ]
  },
  {
   "cell_type": "code",
   "execution_count": null,
   "metadata": {},
   "outputs": [],
   "source": []
  }
 ],
 "metadata": {
  "kernelspec": {
   "display_name": "R",
   "language": "R",
   "name": "ir"
  },
  "language_info": {
   "codemirror_mode": "r",
   "file_extension": ".r",
   "mimetype": "text/x-r-source",
   "name": "R",
   "pygments_lexer": "r",
   "version": "3.6.2"
  }
 },
 "nbformat": 4,
 "nbformat_minor": 4
}
