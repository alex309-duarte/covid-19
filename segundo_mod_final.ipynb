{
 "cells": [
  {
   "cell_type": "code",
   "execution_count": 4,
   "metadata": {},
   "outputs": [],
   "source": [
    "suppressMessages(library(dplyr))\n",
    "suppressMessages(library(verification))\n",
    "suppressMessages(library(class))\n",
    "library(tree)"
   ]
  },
  {
   "cell_type": "code",
   "execution_count": 14,
   "metadata": {},
   "outputs": [
    {
     "data": {
      "text/html": [
       "<table>\n",
       "<caption>A tibble: 7206 × 35</caption>\n",
       "<thead>\n",
       "\t<tr><th scope=col>FECHA_ACTUALIZACION</th><th scope=col>ID_REGISTRO</th><th scope=col>ORIGEN</th><th scope=col>SECTOR</th><th scope=col>ENTIDAD_UM</th><th scope=col>SEXO</th><th scope=col>ENTIDAD_NAC</th><th scope=col>ENTIDAD_RES</th><th scope=col>MUNICIPIO_RES</th><th scope=col>TIPO_PACIENTE</th><th scope=col>...</th><th scope=col>CARDIOVASCULAR</th><th scope=col>OBESIDAD</th><th scope=col>RENAL_CRONICA</th><th scope=col>TABAQUISMO</th><th scope=col>OTRO_CASO</th><th scope=col>RESULTADO</th><th scope=col>MIGRANTE</th><th scope=col>PAIS_NACIONALIDAD</th><th scope=col>PAIS_ORIGEN</th><th scope=col>UCI</th></tr>\n",
       "\t<tr><th scope=col>&lt;fct&gt;</th><th scope=col>&lt;fct&gt;</th><th scope=col>&lt;int&gt;</th><th scope=col>&lt;int&gt;</th><th scope=col>&lt;int&gt;</th><th scope=col>&lt;int&gt;</th><th scope=col>&lt;int&gt;</th><th scope=col>&lt;int&gt;</th><th scope=col>&lt;int&gt;</th><th scope=col>&lt;int&gt;</th><th scope=col>...</th><th scope=col>&lt;int&gt;</th><th scope=col>&lt;int&gt;</th><th scope=col>&lt;int&gt;</th><th scope=col>&lt;int&gt;</th><th scope=col>&lt;int&gt;</th><th scope=col>&lt;int&gt;</th><th scope=col>&lt;int&gt;</th><th scope=col>&lt;fct&gt;</th><th scope=col>&lt;fct&gt;</th><th scope=col>&lt;int&gt;</th></tr>\n",
       "</thead>\n",
       "<tbody>\n",
       "\t<tr><td>2020-06-06</td><td>04d7a7</td><td>2</td><td>12</td><td> 8</td><td>1</td><td> 5</td><td>32</td><td> 56</td><td>2</td><td>...</td><td>2</td><td>2</td><td>2</td><td> 2</td><td>99</td><td>1</td><td>99</td><td>MÃ©xico</td><td>99</td><td>1</td></tr>\n",
       "\t<tr><td>2020-06-06</td><td>15acc5</td><td>1</td><td> 6</td><td> 9</td><td>2</td><td>14</td><td>15</td><td> 33</td><td>2</td><td>...</td><td>1</td><td>2</td><td>2</td><td> 2</td><td> 2</td><td>1</td><td>99</td><td>MÃ©xico</td><td>99</td><td>2</td></tr>\n",
       "\t<tr><td>2020-06-06</td><td>0c3e95</td><td>1</td><td> 4</td><td>25</td><td>2</td><td>25</td><td>25</td><td> 18</td><td>2</td><td>...</td><td>2</td><td>2</td><td>1</td><td> 2</td><td>99</td><td>1</td><td>99</td><td>MÃ©xico</td><td>99</td><td>2</td></tr>\n",
       "\t<tr><td>2020-06-06</td><td>05a6df</td><td>2</td><td> 9</td><td>21</td><td>2</td><td>21</td><td>21</td><td>114</td><td>2</td><td>...</td><td>2</td><td>1</td><td>1</td><td>98</td><td>99</td><td>1</td><td>99</td><td>MÃ©xico</td><td>99</td><td>1</td></tr>\n",
       "\t<tr><td>2020-06-06</td><td>05f92b</td><td>2</td><td> 8</td><td> 9</td><td>2</td><td> 9</td><td>15</td><td> 92</td><td>2</td><td>...</td><td>1</td><td>2</td><td>2</td><td> 2</td><td> 1</td><td>1</td><td>99</td><td>MÃ©xico</td><td>99</td><td>2</td></tr>\n",
       "\t<tr><td>2020-06-06</td><td>1562a8</td><td>2</td><td>12</td><td> 8</td><td>2</td><td>10</td><td> 8</td><td> 37</td><td>2</td><td>...</td><td>2</td><td>2</td><td>1</td><td> 2</td><td>99</td><td>1</td><td>99</td><td>MÃ©xico</td><td>99</td><td>1</td></tr>\n",
       "\t<tr><td>2020-06-06</td><td>13e2c3</td><td>2</td><td> 4</td><td> 9</td><td>2</td><td>15</td><td>15</td><td> 25</td><td>2</td><td>...</td><td>2</td><td>2</td><td>2</td><td> 2</td><td>99</td><td>1</td><td>99</td><td>MÃ©xico</td><td>99</td><td>2</td></tr>\n",
       "\t<tr><td>2020-06-06</td><td>0566e2</td><td>1</td><td> 6</td><td>15</td><td>1</td><td> 9</td><td>15</td><td> 33</td><td>2</td><td>...</td><td>2</td><td>2</td><td>2</td><td> 2</td><td> 2</td><td>1</td><td>99</td><td>MÃ©xico</td><td>99</td><td>2</td></tr>\n",
       "\t<tr><td>2020-06-06</td><td>135565</td><td>1</td><td>12</td><td>17</td><td>1</td><td>17</td><td>17</td><td>  7</td><td>2</td><td>...</td><td>2</td><td>2</td><td>2</td><td> 2</td><td> 2</td><td>1</td><td>99</td><td>MÃ©xico</td><td>99</td><td>2</td></tr>\n",
       "\t<tr><td>2020-06-06</td><td>03d240</td><td>1</td><td> 4</td><td> 1</td><td>1</td><td> 1</td><td> 1</td><td>  1</td><td>2</td><td>...</td><td>2</td><td>2</td><td>1</td><td> 2</td><td>99</td><td>1</td><td>99</td><td>MÃ©xico</td><td>99</td><td>2</td></tr>\n",
       "\t<tr><td>2020-06-06</td><td>197cb1</td><td>1</td><td> 8</td><td> 9</td><td>2</td><td>11</td><td> 9</td><td>  6</td><td>2</td><td>...</td><td>2</td><td>1</td><td>2</td><td> 2</td><td> 2</td><td>1</td><td>99</td><td>MÃ©xico</td><td>99</td><td>1</td></tr>\n",
       "\t<tr><td>2020-06-06</td><td>1a3bd2</td><td>1</td><td> 6</td><td>15</td><td>2</td><td>20</td><td> 9</td><td> 17</td><td>2</td><td>...</td><td>1</td><td>2</td><td>2</td><td> 2</td><td> 2</td><td>1</td><td>99</td><td>MÃ©xico</td><td>99</td><td>2</td></tr>\n",
       "\t<tr><td>2020-06-06</td><td>06b5d0</td><td>2</td><td>12</td><td>15</td><td>2</td><td>15</td><td>15</td><td> 96</td><td>2</td><td>...</td><td>2</td><td>2</td><td>2</td><td> 2</td><td>99</td><td>1</td><td>99</td><td>MÃ©xico</td><td>99</td><td>2</td></tr>\n",
       "\t<tr><td>2020-06-06</td><td>02fee6</td><td>1</td><td>12</td><td>15</td><td>2</td><td>15</td><td>15</td><td>121</td><td>2</td><td>...</td><td>2</td><td>2</td><td>2</td><td> 2</td><td> 2</td><td>1</td><td>99</td><td>MÃ©xico</td><td>99</td><td>2</td></tr>\n",
       "\t<tr><td>2020-06-06</td><td>148082</td><td>1</td><td> 6</td><td> 8</td><td>2</td><td>29</td><td> 8</td><td> 37</td><td>2</td><td>...</td><td>2</td><td>2</td><td>2</td><td> 2</td><td> 2</td><td>1</td><td>99</td><td>MÃ©xico</td><td>99</td><td>1</td></tr>\n",
       "\t<tr><td>2020-06-06</td><td>09845b</td><td>1</td><td> 6</td><td>12</td><td>1</td><td>12</td><td>12</td><td>  1</td><td>2</td><td>...</td><td>2</td><td>2</td><td>2</td><td> 2</td><td>99</td><td>1</td><td>99</td><td>MÃ©xico</td><td>99</td><td>1</td></tr>\n",
       "\t<tr><td>2020-06-06</td><td>12aaaf</td><td>1</td><td>12</td><td> 9</td><td>2</td><td> 9</td><td>15</td><td> 31</td><td>2</td><td>...</td><td>2</td><td>2</td><td>2</td><td> 2</td><td>99</td><td>1</td><td>99</td><td>MÃ©xico</td><td>99</td><td>2</td></tr>\n",
       "\t<tr><td>2020-06-06</td><td>1c72d7</td><td>1</td><td>12</td><td>21</td><td>1</td><td>21</td><td>21</td><td>174</td><td>2</td><td>...</td><td>1</td><td>2</td><td>2</td><td> 2</td><td> 2</td><td>1</td><td>99</td><td>MÃ©xico</td><td>99</td><td>1</td></tr>\n",
       "\t<tr><td>2020-06-06</td><td>01d04c</td><td>1</td><td> 6</td><td>12</td><td>2</td><td>20</td><td>12</td><td>  1</td><td>2</td><td>...</td><td>2</td><td>2</td><td>2</td><td> 2</td><td> 2</td><td>1</td><td>99</td><td>MÃ©xico</td><td>99</td><td>1</td></tr>\n",
       "\t<tr><td>2020-06-06</td><td>1d9dd4</td><td>1</td><td> 8</td><td>27</td><td>1</td><td>27</td><td>27</td><td>  4</td><td>2</td><td>...</td><td>2</td><td>1</td><td>2</td><td> 2</td><td>99</td><td>1</td><td>99</td><td>MÃ©xico</td><td>99</td><td>1</td></tr>\n",
       "\t<tr><td>2020-06-06</td><td>03f3d5</td><td>2</td><td>12</td><td>11</td><td>2</td><td>11</td><td>11</td><td> 46</td><td>2</td><td>...</td><td>2</td><td>2</td><td>2</td><td> 2</td><td> 1</td><td>1</td><td>99</td><td>MÃ©xico</td><td>99</td><td>1</td></tr>\n",
       "\t<tr><td>2020-06-06</td><td>1573e4</td><td>2</td><td> 4</td><td> 9</td><td>2</td><td> 9</td><td>15</td><td> 58</td><td>2</td><td>...</td><td>2</td><td>2</td><td>2</td><td> 2</td><td>99</td><td>1</td><td>99</td><td>MÃ©xico</td><td>99</td><td>2</td></tr>\n",
       "\t<tr><td>2020-06-06</td><td>138a39</td><td>1</td><td> 4</td><td> 2</td><td>1</td><td>14</td><td> 2</td><td>  2</td><td>2</td><td>...</td><td>2</td><td>2</td><td>2</td><td> 2</td><td>99</td><td>1</td><td>99</td><td>MÃ©xico</td><td>99</td><td>2</td></tr>\n",
       "\t<tr><td>2020-06-06</td><td>0f9aa7</td><td>1</td><td>12</td><td>23</td><td>2</td><td>31</td><td>23</td><td>  5</td><td>2</td><td>...</td><td>2</td><td>2</td><td>2</td><td> 1</td><td> 2</td><td>1</td><td>99</td><td>MÃ©xico</td><td>99</td><td>2</td></tr>\n",
       "\t<tr><td>2020-06-06</td><td>0dc7cf</td><td>1</td><td>12</td><td>13</td><td>1</td><td>13</td><td>13</td><td> 67</td><td>2</td><td>...</td><td>2</td><td>1</td><td>2</td><td> 2</td><td> 2</td><td>1</td><td>99</td><td>MÃ©xico</td><td>99</td><td>1</td></tr>\n",
       "\t<tr><td>2020-06-06</td><td>0540de</td><td>1</td><td> 6</td><td> 7</td><td>2</td><td> 7</td><td> 7</td><td>101</td><td>2</td><td>...</td><td>2</td><td>1</td><td>2</td><td> 2</td><td> 2</td><td>1</td><td>99</td><td>MÃ©xico</td><td>99</td><td>2</td></tr>\n",
       "\t<tr><td>2020-06-06</td><td>03526c</td><td>1</td><td>12</td><td> 9</td><td>1</td><td> 9</td><td> 9</td><td> 12</td><td>2</td><td>...</td><td>2</td><td>2</td><td>2</td><td> 2</td><td> 2</td><td>1</td><td>99</td><td>MÃ©xico</td><td>99</td><td>1</td></tr>\n",
       "\t<tr><td>2020-06-06</td><td>152cee</td><td>1</td><td> 4</td><td> 9</td><td>2</td><td> 9</td><td> 9</td><td> 16</td><td>2</td><td>...</td><td>2</td><td>2</td><td>2</td><td> 2</td><td>99</td><td>1</td><td>99</td><td>MÃ©xico</td><td>99</td><td>2</td></tr>\n",
       "\t<tr><td>2020-06-06</td><td>185b77</td><td>1</td><td>12</td><td>13</td><td>1</td><td> 9</td><td>13</td><td> 54</td><td>2</td><td>...</td><td>2</td><td>1</td><td>2</td><td> 2</td><td> 2</td><td>1</td><td>99</td><td>MÃ©xico</td><td>99</td><td>1</td></tr>\n",
       "\t<tr><td>2020-06-06</td><td>08cbb7</td><td>1</td><td>12</td><td>29</td><td>2</td><td>29</td><td>29</td><td> 16</td><td>2</td><td>...</td><td>2</td><td>1</td><td>2</td><td> 2</td><td> 1</td><td>1</td><td>99</td><td>MÃ©xico</td><td>99</td><td>1</td></tr>\n",
       "\t<tr><td>...</td><td>...</td><td>...</td><td>...</td><td>...</td><td>...</td><td>...</td><td>...</td><td>...</td><td>...</td><td></td><td>...</td><td>...</td><td>...</td><td>...</td><td>...</td><td>...</td><td>...</td><td>...</td><td>...</td><td>...</td></tr>\n",
       "\t<tr><td>2020-06-06</td><td>189e74</td><td>1</td><td>12</td><td>17</td><td>1</td><td>21</td><td>17</td><td>  7</td><td>2</td><td>...</td><td>2</td><td>1</td><td>2</td><td>1</td><td> 2</td><td>1</td><td>99</td><td>MÃ©xico</td><td>99</td><td>2</td></tr>\n",
       "\t<tr><td>2020-06-06</td><td>1a102e</td><td>1</td><td> 4</td><td> 5</td><td>1</td><td> 5</td><td> 5</td><td> 18</td><td>2</td><td>...</td><td>1</td><td>2</td><td>1</td><td>2</td><td>99</td><td>1</td><td>99</td><td>MÃ©xico</td><td>99</td><td>2</td></tr>\n",
       "\t<tr><td>2020-06-06</td><td>07f706</td><td>2</td><td>12</td><td> 8</td><td>1</td><td> 8</td><td> 8</td><td> 37</td><td>2</td><td>...</td><td>2</td><td>2</td><td>2</td><td>2</td><td> 1</td><td>1</td><td>99</td><td>MÃ©xico</td><td>99</td><td>1</td></tr>\n",
       "\t<tr><td>2020-06-06</td><td>0913ce</td><td>2</td><td> 9</td><td> 9</td><td>1</td><td> 9</td><td> 9</td><td>  7</td><td>2</td><td>...</td><td>2</td><td>2</td><td>2</td><td>2</td><td> 2</td><td>1</td><td>99</td><td>MÃ©xico</td><td>99</td><td>2</td></tr>\n",
       "\t<tr><td>2020-06-06</td><td>1cfef9</td><td>1</td><td> 8</td><td>30</td><td>2</td><td>27</td><td>30</td><td> 39</td><td>2</td><td>...</td><td>2</td><td>1</td><td>2</td><td>2</td><td> 1</td><td>1</td><td>99</td><td>MÃ©xico</td><td>99</td><td>1</td></tr>\n",
       "\t<tr><td>2020-06-06</td><td>14c181</td><td>1</td><td>12</td><td>27</td><td>1</td><td>27</td><td>27</td><td>  2</td><td>2</td><td>...</td><td>2</td><td>1</td><td>2</td><td>2</td><td> 1</td><td>1</td><td>99</td><td>MÃ©xico</td><td>99</td><td>2</td></tr>\n",
       "\t<tr><td>2020-06-06</td><td>1db73a</td><td>2</td><td>12</td><td> 9</td><td>2</td><td>15</td><td>15</td><td> 33</td><td>2</td><td>...</td><td>2</td><td>2</td><td>2</td><td>2</td><td> 2</td><td>1</td><td>99</td><td>MÃ©xico</td><td>99</td><td>1</td></tr>\n",
       "\t<tr><td>2020-06-06</td><td>1836a6</td><td>1</td><td>12</td><td> 9</td><td>1</td><td>15</td><td> 9</td><td>  5</td><td>2</td><td>...</td><td>2</td><td>1</td><td>2</td><td>2</td><td> 2</td><td>1</td><td>99</td><td>MÃ©xico</td><td>99</td><td>2</td></tr>\n",
       "\t<tr><td>2020-06-06</td><td>0bb5b7</td><td>2</td><td> 9</td><td> 9</td><td>2</td><td> 9</td><td> 9</td><td> 13</td><td>2</td><td>...</td><td>2</td><td>2</td><td>2</td><td>2</td><td> 2</td><td>1</td><td>99</td><td>MÃ©xico</td><td>99</td><td>1</td></tr>\n",
       "\t<tr><td>2020-06-06</td><td>1ca8b2</td><td>1</td><td>12</td><td>13</td><td>1</td><td>13</td><td>13</td><td> 77</td><td>2</td><td>...</td><td>2</td><td>2</td><td>2</td><td>2</td><td> 2</td><td>1</td><td>99</td><td>MÃ©xico</td><td>99</td><td>1</td></tr>\n",
       "\t<tr><td>2020-06-06</td><td>0da0d6</td><td>2</td><td> 8</td><td>30</td><td>1</td><td>30</td><td>30</td><td>193</td><td>2</td><td>...</td><td>2</td><td>1</td><td>2</td><td>2</td><td> 1</td><td>1</td><td>99</td><td>MÃ©xico</td><td>99</td><td>2</td></tr>\n",
       "\t<tr><td>2020-06-06</td><td>01ba5f</td><td>1</td><td> 4</td><td> 9</td><td>2</td><td> 9</td><td> 9</td><td>  7</td><td>2</td><td>...</td><td>2</td><td>2</td><td>2</td><td>2</td><td>99</td><td>1</td><td>99</td><td>MÃ©xico</td><td>99</td><td>2</td></tr>\n",
       "\t<tr><td>2020-06-06</td><td>1b2506</td><td>1</td><td> 9</td><td> 9</td><td>2</td><td> 9</td><td> 9</td><td>  3</td><td>2</td><td>...</td><td>2</td><td>2</td><td>2</td><td>2</td><td> 2</td><td>1</td><td>99</td><td>MÃ©xico</td><td>99</td><td>1</td></tr>\n",
       "\t<tr><td>2020-06-06</td><td>147a09</td><td>2</td><td>12</td><td>21</td><td>2</td><td>21</td><td>21</td><td>114</td><td>2</td><td>...</td><td>2</td><td>1</td><td>2</td><td>1</td><td>99</td><td>1</td><td>99</td><td>MÃ©xico</td><td>99</td><td>1</td></tr>\n",
       "\t<tr><td>2020-06-06</td><td>16fd4d</td><td>1</td><td> 6</td><td>25</td><td>1</td><td>25</td><td>25</td><td>  6</td><td>2</td><td>...</td><td>2</td><td>2</td><td>2</td><td>2</td><td> 1</td><td>1</td><td>99</td><td>MÃ©xico</td><td>99</td><td>1</td></tr>\n",
       "\t<tr><td>2020-06-06</td><td>19429f</td><td>2</td><td>12</td><td> 9</td><td>2</td><td> 9</td><td> 9</td><td>  9</td><td>2</td><td>...</td><td>2</td><td>2</td><td>2</td><td>1</td><td> 2</td><td>1</td><td>99</td><td>MÃ©xico</td><td>99</td><td>2</td></tr>\n",
       "\t<tr><td>2020-06-06</td><td>02557d</td><td>2</td><td>12</td><td>15</td><td>1</td><td>15</td><td>15</td><td> 47</td><td>2</td><td>...</td><td>2</td><td>2</td><td>2</td><td>2</td><td> 1</td><td>1</td><td>99</td><td>MÃ©xico</td><td>99</td><td>2</td></tr>\n",
       "\t<tr><td>2020-06-06</td><td>13a1ec</td><td>1</td><td>12</td><td>29</td><td>2</td><td>29</td><td>29</td><td> 32</td><td>2</td><td>...</td><td>2</td><td>2</td><td>2</td><td>2</td><td>99</td><td>1</td><td>99</td><td>MÃ©xico</td><td>99</td><td>1</td></tr>\n",
       "\t<tr><td>2020-06-06</td><td>0f0371</td><td>1</td><td>12</td><td>15</td><td>1</td><td>15</td><td>15</td><td>106</td><td>2</td><td>...</td><td>2</td><td>2</td><td>2</td><td>2</td><td> 2</td><td>1</td><td>99</td><td>MÃ©xico</td><td>99</td><td>2</td></tr>\n",
       "\t<tr><td>2020-06-06</td><td>0a861e</td><td>2</td><td> 4</td><td>12</td><td>2</td><td>12</td><td>12</td><td> 28</td><td>2</td><td>...</td><td>2</td><td>2</td><td>2</td><td>2</td><td>99</td><td>1</td><td>99</td><td>MÃ©xico</td><td>99</td><td>2</td></tr>\n",
       "\t<tr><td>2020-06-06</td><td>117a62</td><td>1</td><td> 6</td><td>10</td><td>1</td><td>10</td><td>10</td><td>  5</td><td>2</td><td>...</td><td>2</td><td>1</td><td>1</td><td>2</td><td> 2</td><td>1</td><td>99</td><td>MÃ©xico</td><td>99</td><td>1</td></tr>\n",
       "\t<tr><td>2020-06-06</td><td>076cb4</td><td>1</td><td> 4</td><td> 9</td><td>2</td><td> 9</td><td>15</td><td> 58</td><td>2</td><td>...</td><td>2</td><td>1</td><td>2</td><td>2</td><td>99</td><td>1</td><td>99</td><td>MÃ©xico</td><td>99</td><td>2</td></tr>\n",
       "\t<tr><td>2020-06-06</td><td>1d74d8</td><td>1</td><td>12</td><td>30</td><td>2</td><td>30</td><td>30</td><td> 28</td><td>2</td><td>...</td><td>2</td><td>2</td><td>2</td><td>2</td><td> 1</td><td>1</td><td>99</td><td>MÃ©xico</td><td>99</td><td>1</td></tr>\n",
       "\t<tr><td>2020-06-06</td><td>1530c3</td><td>2</td><td> 9</td><td>19</td><td>2</td><td>19</td><td>19</td><td> 39</td><td>2</td><td>...</td><td>2</td><td>2</td><td>2</td><td>2</td><td> 2</td><td>1</td><td>99</td><td>MÃ©xico</td><td>99</td><td>1</td></tr>\n",
       "\t<tr><td>2020-06-06</td><td>1b9c25</td><td>1</td><td> 4</td><td>25</td><td>2</td><td>25</td><td>25</td><td>  6</td><td>2</td><td>...</td><td>2</td><td>2</td><td>2</td><td>2</td><td>99</td><td>1</td><td>99</td><td>MÃ©xico</td><td>99</td><td>2</td></tr>\n",
       "\t<tr><td>2020-06-06</td><td>00e136</td><td>1</td><td>12</td><td>11</td><td>1</td><td>11</td><td>11</td><td> 33</td><td>2</td><td>...</td><td>2</td><td>2</td><td>2</td><td>2</td><td> 2</td><td>1</td><td>99</td><td>MÃ©xico</td><td>99</td><td>1</td></tr>\n",
       "\t<tr><td>2020-06-06</td><td>1439b1</td><td>1</td><td>12</td><td>15</td><td>1</td><td>15</td><td>15</td><td>  1</td><td>2</td><td>...</td><td>2</td><td>2</td><td>2</td><td>2</td><td> 2</td><td>1</td><td>99</td><td>MÃ©xico</td><td>99</td><td>1</td></tr>\n",
       "\t<tr><td>2020-06-06</td><td>0806ca</td><td>2</td><td> 9</td><td> 9</td><td>2</td><td> 9</td><td>15</td><td> 33</td><td>2</td><td>...</td><td>2</td><td>2</td><td>2</td><td>1</td><td> 2</td><td>1</td><td>99</td><td>MÃ©xico</td><td>99</td><td>1</td></tr>\n",
       "\t<tr><td>2020-06-06</td><td>16cc81</td><td>1</td><td>12</td><td>12</td><td>2</td><td>12</td><td>12</td><td>  1</td><td>2</td><td>...</td><td>2</td><td>2</td><td>2</td><td>2</td><td> 2</td><td>1</td><td>99</td><td>MÃ©xico</td><td>99</td><td>1</td></tr>\n",
       "\t<tr><td>2020-06-06</td><td>12da72</td><td>1</td><td> 4</td><td> 9</td><td>2</td><td>15</td><td> 9</td><td>  7</td><td>2</td><td>...</td><td>2</td><td>2</td><td>2</td><td>2</td><td>99</td><td>1</td><td>99</td><td>MÃ©xico</td><td>99</td><td>2</td></tr>\n",
       "</tbody>\n",
       "</table>\n"
      ],
      "text/latex": [
       "A tibble: 7206 × 35\n",
       "\\begin{tabular}{lllllllllllllllllllll}\n",
       " FECHA\\_ACTUALIZACION & ID\\_REGISTRO & ORIGEN & SECTOR & ENTIDAD\\_UM & SEXO & ENTIDAD\\_NAC & ENTIDAD\\_RES & MUNICIPIO\\_RES & TIPO\\_PACIENTE & ... & CARDIOVASCULAR & OBESIDAD & RENAL\\_CRONICA & TABAQUISMO & OTRO\\_CASO & RESULTADO & MIGRANTE & PAIS\\_NACIONALIDAD & PAIS\\_ORIGEN & UCI\\\\\n",
       " <fct> & <fct> & <int> & <int> & <int> & <int> & <int> & <int> & <int> & <int> & ... & <int> & <int> & <int> & <int> & <int> & <int> & <int> & <fct> & <fct> & <int>\\\\\n",
       "\\hline\n",
       "\t 2020-06-06 & 04d7a7 & 2 & 12 &  8 & 1 &  5 & 32 &  56 & 2 & ... & 2 & 2 & 2 &  2 & 99 & 1 & 99 & MÃ©xico & 99 & 1\\\\\n",
       "\t 2020-06-06 & 15acc5 & 1 &  6 &  9 & 2 & 14 & 15 &  33 & 2 & ... & 1 & 2 & 2 &  2 &  2 & 1 & 99 & MÃ©xico & 99 & 2\\\\\n",
       "\t 2020-06-06 & 0c3e95 & 1 &  4 & 25 & 2 & 25 & 25 &  18 & 2 & ... & 2 & 2 & 1 &  2 & 99 & 1 & 99 & MÃ©xico & 99 & 2\\\\\n",
       "\t 2020-06-06 & 05a6df & 2 &  9 & 21 & 2 & 21 & 21 & 114 & 2 & ... & 2 & 1 & 1 & 98 & 99 & 1 & 99 & MÃ©xico & 99 & 1\\\\\n",
       "\t 2020-06-06 & 05f92b & 2 &  8 &  9 & 2 &  9 & 15 &  92 & 2 & ... & 1 & 2 & 2 &  2 &  1 & 1 & 99 & MÃ©xico & 99 & 2\\\\\n",
       "\t 2020-06-06 & 1562a8 & 2 & 12 &  8 & 2 & 10 &  8 &  37 & 2 & ... & 2 & 2 & 1 &  2 & 99 & 1 & 99 & MÃ©xico & 99 & 1\\\\\n",
       "\t 2020-06-06 & 13e2c3 & 2 &  4 &  9 & 2 & 15 & 15 &  25 & 2 & ... & 2 & 2 & 2 &  2 & 99 & 1 & 99 & MÃ©xico & 99 & 2\\\\\n",
       "\t 2020-06-06 & 0566e2 & 1 &  6 & 15 & 1 &  9 & 15 &  33 & 2 & ... & 2 & 2 & 2 &  2 &  2 & 1 & 99 & MÃ©xico & 99 & 2\\\\\n",
       "\t 2020-06-06 & 135565 & 1 & 12 & 17 & 1 & 17 & 17 &   7 & 2 & ... & 2 & 2 & 2 &  2 &  2 & 1 & 99 & MÃ©xico & 99 & 2\\\\\n",
       "\t 2020-06-06 & 03d240 & 1 &  4 &  1 & 1 &  1 &  1 &   1 & 2 & ... & 2 & 2 & 1 &  2 & 99 & 1 & 99 & MÃ©xico & 99 & 2\\\\\n",
       "\t 2020-06-06 & 197cb1 & 1 &  8 &  9 & 2 & 11 &  9 &   6 & 2 & ... & 2 & 1 & 2 &  2 &  2 & 1 & 99 & MÃ©xico & 99 & 1\\\\\n",
       "\t 2020-06-06 & 1a3bd2 & 1 &  6 & 15 & 2 & 20 &  9 &  17 & 2 & ... & 1 & 2 & 2 &  2 &  2 & 1 & 99 & MÃ©xico & 99 & 2\\\\\n",
       "\t 2020-06-06 & 06b5d0 & 2 & 12 & 15 & 2 & 15 & 15 &  96 & 2 & ... & 2 & 2 & 2 &  2 & 99 & 1 & 99 & MÃ©xico & 99 & 2\\\\\n",
       "\t 2020-06-06 & 02fee6 & 1 & 12 & 15 & 2 & 15 & 15 & 121 & 2 & ... & 2 & 2 & 2 &  2 &  2 & 1 & 99 & MÃ©xico & 99 & 2\\\\\n",
       "\t 2020-06-06 & 148082 & 1 &  6 &  8 & 2 & 29 &  8 &  37 & 2 & ... & 2 & 2 & 2 &  2 &  2 & 1 & 99 & MÃ©xico & 99 & 1\\\\\n",
       "\t 2020-06-06 & 09845b & 1 &  6 & 12 & 1 & 12 & 12 &   1 & 2 & ... & 2 & 2 & 2 &  2 & 99 & 1 & 99 & MÃ©xico & 99 & 1\\\\\n",
       "\t 2020-06-06 & 12aaaf & 1 & 12 &  9 & 2 &  9 & 15 &  31 & 2 & ... & 2 & 2 & 2 &  2 & 99 & 1 & 99 & MÃ©xico & 99 & 2\\\\\n",
       "\t 2020-06-06 & 1c72d7 & 1 & 12 & 21 & 1 & 21 & 21 & 174 & 2 & ... & 1 & 2 & 2 &  2 &  2 & 1 & 99 & MÃ©xico & 99 & 1\\\\\n",
       "\t 2020-06-06 & 01d04c & 1 &  6 & 12 & 2 & 20 & 12 &   1 & 2 & ... & 2 & 2 & 2 &  2 &  2 & 1 & 99 & MÃ©xico & 99 & 1\\\\\n",
       "\t 2020-06-06 & 1d9dd4 & 1 &  8 & 27 & 1 & 27 & 27 &   4 & 2 & ... & 2 & 1 & 2 &  2 & 99 & 1 & 99 & MÃ©xico & 99 & 1\\\\\n",
       "\t 2020-06-06 & 03f3d5 & 2 & 12 & 11 & 2 & 11 & 11 &  46 & 2 & ... & 2 & 2 & 2 &  2 &  1 & 1 & 99 & MÃ©xico & 99 & 1\\\\\n",
       "\t 2020-06-06 & 1573e4 & 2 &  4 &  9 & 2 &  9 & 15 &  58 & 2 & ... & 2 & 2 & 2 &  2 & 99 & 1 & 99 & MÃ©xico & 99 & 2\\\\\n",
       "\t 2020-06-06 & 138a39 & 1 &  4 &  2 & 1 & 14 &  2 &   2 & 2 & ... & 2 & 2 & 2 &  2 & 99 & 1 & 99 & MÃ©xico & 99 & 2\\\\\n",
       "\t 2020-06-06 & 0f9aa7 & 1 & 12 & 23 & 2 & 31 & 23 &   5 & 2 & ... & 2 & 2 & 2 &  1 &  2 & 1 & 99 & MÃ©xico & 99 & 2\\\\\n",
       "\t 2020-06-06 & 0dc7cf & 1 & 12 & 13 & 1 & 13 & 13 &  67 & 2 & ... & 2 & 1 & 2 &  2 &  2 & 1 & 99 & MÃ©xico & 99 & 1\\\\\n",
       "\t 2020-06-06 & 0540de & 1 &  6 &  7 & 2 &  7 &  7 & 101 & 2 & ... & 2 & 1 & 2 &  2 &  2 & 1 & 99 & MÃ©xico & 99 & 2\\\\\n",
       "\t 2020-06-06 & 03526c & 1 & 12 &  9 & 1 &  9 &  9 &  12 & 2 & ... & 2 & 2 & 2 &  2 &  2 & 1 & 99 & MÃ©xico & 99 & 1\\\\\n",
       "\t 2020-06-06 & 152cee & 1 &  4 &  9 & 2 &  9 &  9 &  16 & 2 & ... & 2 & 2 & 2 &  2 & 99 & 1 & 99 & MÃ©xico & 99 & 2\\\\\n",
       "\t 2020-06-06 & 185b77 & 1 & 12 & 13 & 1 &  9 & 13 &  54 & 2 & ... & 2 & 1 & 2 &  2 &  2 & 1 & 99 & MÃ©xico & 99 & 1\\\\\n",
       "\t 2020-06-06 & 08cbb7 & 1 & 12 & 29 & 2 & 29 & 29 &  16 & 2 & ... & 2 & 1 & 2 &  2 &  1 & 1 & 99 & MÃ©xico & 99 & 1\\\\\n",
       "\t ... & ... & ... & ... & ... & ... & ... & ... & ... & ... &  & ... & ... & ... & ... & ... & ... & ... & ... & ... & ...\\\\\n",
       "\t 2020-06-06 & 189e74 & 1 & 12 & 17 & 1 & 21 & 17 &   7 & 2 & ... & 2 & 1 & 2 & 1 &  2 & 1 & 99 & MÃ©xico & 99 & 2\\\\\n",
       "\t 2020-06-06 & 1a102e & 1 &  4 &  5 & 1 &  5 &  5 &  18 & 2 & ... & 1 & 2 & 1 & 2 & 99 & 1 & 99 & MÃ©xico & 99 & 2\\\\\n",
       "\t 2020-06-06 & 07f706 & 2 & 12 &  8 & 1 &  8 &  8 &  37 & 2 & ... & 2 & 2 & 2 & 2 &  1 & 1 & 99 & MÃ©xico & 99 & 1\\\\\n",
       "\t 2020-06-06 & 0913ce & 2 &  9 &  9 & 1 &  9 &  9 &   7 & 2 & ... & 2 & 2 & 2 & 2 &  2 & 1 & 99 & MÃ©xico & 99 & 2\\\\\n",
       "\t 2020-06-06 & 1cfef9 & 1 &  8 & 30 & 2 & 27 & 30 &  39 & 2 & ... & 2 & 1 & 2 & 2 &  1 & 1 & 99 & MÃ©xico & 99 & 1\\\\\n",
       "\t 2020-06-06 & 14c181 & 1 & 12 & 27 & 1 & 27 & 27 &   2 & 2 & ... & 2 & 1 & 2 & 2 &  1 & 1 & 99 & MÃ©xico & 99 & 2\\\\\n",
       "\t 2020-06-06 & 1db73a & 2 & 12 &  9 & 2 & 15 & 15 &  33 & 2 & ... & 2 & 2 & 2 & 2 &  2 & 1 & 99 & MÃ©xico & 99 & 1\\\\\n",
       "\t 2020-06-06 & 1836a6 & 1 & 12 &  9 & 1 & 15 &  9 &   5 & 2 & ... & 2 & 1 & 2 & 2 &  2 & 1 & 99 & MÃ©xico & 99 & 2\\\\\n",
       "\t 2020-06-06 & 0bb5b7 & 2 &  9 &  9 & 2 &  9 &  9 &  13 & 2 & ... & 2 & 2 & 2 & 2 &  2 & 1 & 99 & MÃ©xico & 99 & 1\\\\\n",
       "\t 2020-06-06 & 1ca8b2 & 1 & 12 & 13 & 1 & 13 & 13 &  77 & 2 & ... & 2 & 2 & 2 & 2 &  2 & 1 & 99 & MÃ©xico & 99 & 1\\\\\n",
       "\t 2020-06-06 & 0da0d6 & 2 &  8 & 30 & 1 & 30 & 30 & 193 & 2 & ... & 2 & 1 & 2 & 2 &  1 & 1 & 99 & MÃ©xico & 99 & 2\\\\\n",
       "\t 2020-06-06 & 01ba5f & 1 &  4 &  9 & 2 &  9 &  9 &   7 & 2 & ... & 2 & 2 & 2 & 2 & 99 & 1 & 99 & MÃ©xico & 99 & 2\\\\\n",
       "\t 2020-06-06 & 1b2506 & 1 &  9 &  9 & 2 &  9 &  9 &   3 & 2 & ... & 2 & 2 & 2 & 2 &  2 & 1 & 99 & MÃ©xico & 99 & 1\\\\\n",
       "\t 2020-06-06 & 147a09 & 2 & 12 & 21 & 2 & 21 & 21 & 114 & 2 & ... & 2 & 1 & 2 & 1 & 99 & 1 & 99 & MÃ©xico & 99 & 1\\\\\n",
       "\t 2020-06-06 & 16fd4d & 1 &  6 & 25 & 1 & 25 & 25 &   6 & 2 & ... & 2 & 2 & 2 & 2 &  1 & 1 & 99 & MÃ©xico & 99 & 1\\\\\n",
       "\t 2020-06-06 & 19429f & 2 & 12 &  9 & 2 &  9 &  9 &   9 & 2 & ... & 2 & 2 & 2 & 1 &  2 & 1 & 99 & MÃ©xico & 99 & 2\\\\\n",
       "\t 2020-06-06 & 02557d & 2 & 12 & 15 & 1 & 15 & 15 &  47 & 2 & ... & 2 & 2 & 2 & 2 &  1 & 1 & 99 & MÃ©xico & 99 & 2\\\\\n",
       "\t 2020-06-06 & 13a1ec & 1 & 12 & 29 & 2 & 29 & 29 &  32 & 2 & ... & 2 & 2 & 2 & 2 & 99 & 1 & 99 & MÃ©xico & 99 & 1\\\\\n",
       "\t 2020-06-06 & 0f0371 & 1 & 12 & 15 & 1 & 15 & 15 & 106 & 2 & ... & 2 & 2 & 2 & 2 &  2 & 1 & 99 & MÃ©xico & 99 & 2\\\\\n",
       "\t 2020-06-06 & 0a861e & 2 &  4 & 12 & 2 & 12 & 12 &  28 & 2 & ... & 2 & 2 & 2 & 2 & 99 & 1 & 99 & MÃ©xico & 99 & 2\\\\\n",
       "\t 2020-06-06 & 117a62 & 1 &  6 & 10 & 1 & 10 & 10 &   5 & 2 & ... & 2 & 1 & 1 & 2 &  2 & 1 & 99 & MÃ©xico & 99 & 1\\\\\n",
       "\t 2020-06-06 & 076cb4 & 1 &  4 &  9 & 2 &  9 & 15 &  58 & 2 & ... & 2 & 1 & 2 & 2 & 99 & 1 & 99 & MÃ©xico & 99 & 2\\\\\n",
       "\t 2020-06-06 & 1d74d8 & 1 & 12 & 30 & 2 & 30 & 30 &  28 & 2 & ... & 2 & 2 & 2 & 2 &  1 & 1 & 99 & MÃ©xico & 99 & 1\\\\\n",
       "\t 2020-06-06 & 1530c3 & 2 &  9 & 19 & 2 & 19 & 19 &  39 & 2 & ... & 2 & 2 & 2 & 2 &  2 & 1 & 99 & MÃ©xico & 99 & 1\\\\\n",
       "\t 2020-06-06 & 1b9c25 & 1 &  4 & 25 & 2 & 25 & 25 &   6 & 2 & ... & 2 & 2 & 2 & 2 & 99 & 1 & 99 & MÃ©xico & 99 & 2\\\\\n",
       "\t 2020-06-06 & 00e136 & 1 & 12 & 11 & 1 & 11 & 11 &  33 & 2 & ... & 2 & 2 & 2 & 2 &  2 & 1 & 99 & MÃ©xico & 99 & 1\\\\\n",
       "\t 2020-06-06 & 1439b1 & 1 & 12 & 15 & 1 & 15 & 15 &   1 & 2 & ... & 2 & 2 & 2 & 2 &  2 & 1 & 99 & MÃ©xico & 99 & 1\\\\\n",
       "\t 2020-06-06 & 0806ca & 2 &  9 &  9 & 2 &  9 & 15 &  33 & 2 & ... & 2 & 2 & 2 & 1 &  2 & 1 & 99 & MÃ©xico & 99 & 1\\\\\n",
       "\t 2020-06-06 & 16cc81 & 1 & 12 & 12 & 2 & 12 & 12 &   1 & 2 & ... & 2 & 2 & 2 & 2 &  2 & 1 & 99 & MÃ©xico & 99 & 1\\\\\n",
       "\t 2020-06-06 & 12da72 & 1 &  4 &  9 & 2 & 15 &  9 &   7 & 2 & ... & 2 & 2 & 2 & 2 & 99 & 1 & 99 & MÃ©xico & 99 & 2\\\\\n",
       "\\end{tabular}\n"
      ],
      "text/markdown": [
       "\n",
       "A tibble: 7206 × 35\n",
       "\n",
       "| FECHA_ACTUALIZACION &lt;fct&gt; | ID_REGISTRO &lt;fct&gt; | ORIGEN &lt;int&gt; | SECTOR &lt;int&gt; | ENTIDAD_UM &lt;int&gt; | SEXO &lt;int&gt; | ENTIDAD_NAC &lt;int&gt; | ENTIDAD_RES &lt;int&gt; | MUNICIPIO_RES &lt;int&gt; | TIPO_PACIENTE &lt;int&gt; | ... ... | CARDIOVASCULAR &lt;int&gt; | OBESIDAD &lt;int&gt; | RENAL_CRONICA &lt;int&gt; | TABAQUISMO &lt;int&gt; | OTRO_CASO &lt;int&gt; | RESULTADO &lt;int&gt; | MIGRANTE &lt;int&gt; | PAIS_NACIONALIDAD &lt;fct&gt; | PAIS_ORIGEN &lt;fct&gt; | UCI &lt;int&gt; |\n",
       "|---|---|---|---|---|---|---|---|---|---|---|---|---|---|---|---|---|---|---|---|---|\n",
       "| 2020-06-06 | 04d7a7 | 2 | 12 |  8 | 1 |  5 | 32 |  56 | 2 | ... | 2 | 2 | 2 |  2 | 99 | 1 | 99 | MÃ©xico | 99 | 1 |\n",
       "| 2020-06-06 | 15acc5 | 1 |  6 |  9 | 2 | 14 | 15 |  33 | 2 | ... | 1 | 2 | 2 |  2 |  2 | 1 | 99 | MÃ©xico | 99 | 2 |\n",
       "| 2020-06-06 | 0c3e95 | 1 |  4 | 25 | 2 | 25 | 25 |  18 | 2 | ... | 2 | 2 | 1 |  2 | 99 | 1 | 99 | MÃ©xico | 99 | 2 |\n",
       "| 2020-06-06 | 05a6df | 2 |  9 | 21 | 2 | 21 | 21 | 114 | 2 | ... | 2 | 1 | 1 | 98 | 99 | 1 | 99 | MÃ©xico | 99 | 1 |\n",
       "| 2020-06-06 | 05f92b | 2 |  8 |  9 | 2 |  9 | 15 |  92 | 2 | ... | 1 | 2 | 2 |  2 |  1 | 1 | 99 | MÃ©xico | 99 | 2 |\n",
       "| 2020-06-06 | 1562a8 | 2 | 12 |  8 | 2 | 10 |  8 |  37 | 2 | ... | 2 | 2 | 1 |  2 | 99 | 1 | 99 | MÃ©xico | 99 | 1 |\n",
       "| 2020-06-06 | 13e2c3 | 2 |  4 |  9 | 2 | 15 | 15 |  25 | 2 | ... | 2 | 2 | 2 |  2 | 99 | 1 | 99 | MÃ©xico | 99 | 2 |\n",
       "| 2020-06-06 | 0566e2 | 1 |  6 | 15 | 1 |  9 | 15 |  33 | 2 | ... | 2 | 2 | 2 |  2 |  2 | 1 | 99 | MÃ©xico | 99 | 2 |\n",
       "| 2020-06-06 | 135565 | 1 | 12 | 17 | 1 | 17 | 17 |   7 | 2 | ... | 2 | 2 | 2 |  2 |  2 | 1 | 99 | MÃ©xico | 99 | 2 |\n",
       "| 2020-06-06 | 03d240 | 1 |  4 |  1 | 1 |  1 |  1 |   1 | 2 | ... | 2 | 2 | 1 |  2 | 99 | 1 | 99 | MÃ©xico | 99 | 2 |\n",
       "| 2020-06-06 | 197cb1 | 1 |  8 |  9 | 2 | 11 |  9 |   6 | 2 | ... | 2 | 1 | 2 |  2 |  2 | 1 | 99 | MÃ©xico | 99 | 1 |\n",
       "| 2020-06-06 | 1a3bd2 | 1 |  6 | 15 | 2 | 20 |  9 |  17 | 2 | ... | 1 | 2 | 2 |  2 |  2 | 1 | 99 | MÃ©xico | 99 | 2 |\n",
       "| 2020-06-06 | 06b5d0 | 2 | 12 | 15 | 2 | 15 | 15 |  96 | 2 | ... | 2 | 2 | 2 |  2 | 99 | 1 | 99 | MÃ©xico | 99 | 2 |\n",
       "| 2020-06-06 | 02fee6 | 1 | 12 | 15 | 2 | 15 | 15 | 121 | 2 | ... | 2 | 2 | 2 |  2 |  2 | 1 | 99 | MÃ©xico | 99 | 2 |\n",
       "| 2020-06-06 | 148082 | 1 |  6 |  8 | 2 | 29 |  8 |  37 | 2 | ... | 2 | 2 | 2 |  2 |  2 | 1 | 99 | MÃ©xico | 99 | 1 |\n",
       "| 2020-06-06 | 09845b | 1 |  6 | 12 | 1 | 12 | 12 |   1 | 2 | ... | 2 | 2 | 2 |  2 | 99 | 1 | 99 | MÃ©xico | 99 | 1 |\n",
       "| 2020-06-06 | 12aaaf | 1 | 12 |  9 | 2 |  9 | 15 |  31 | 2 | ... | 2 | 2 | 2 |  2 | 99 | 1 | 99 | MÃ©xico | 99 | 2 |\n",
       "| 2020-06-06 | 1c72d7 | 1 | 12 | 21 | 1 | 21 | 21 | 174 | 2 | ... | 1 | 2 | 2 |  2 |  2 | 1 | 99 | MÃ©xico | 99 | 1 |\n",
       "| 2020-06-06 | 01d04c | 1 |  6 | 12 | 2 | 20 | 12 |   1 | 2 | ... | 2 | 2 | 2 |  2 |  2 | 1 | 99 | MÃ©xico | 99 | 1 |\n",
       "| 2020-06-06 | 1d9dd4 | 1 |  8 | 27 | 1 | 27 | 27 |   4 | 2 | ... | 2 | 1 | 2 |  2 | 99 | 1 | 99 | MÃ©xico | 99 | 1 |\n",
       "| 2020-06-06 | 03f3d5 | 2 | 12 | 11 | 2 | 11 | 11 |  46 | 2 | ... | 2 | 2 | 2 |  2 |  1 | 1 | 99 | MÃ©xico | 99 | 1 |\n",
       "| 2020-06-06 | 1573e4 | 2 |  4 |  9 | 2 |  9 | 15 |  58 | 2 | ... | 2 | 2 | 2 |  2 | 99 | 1 | 99 | MÃ©xico | 99 | 2 |\n",
       "| 2020-06-06 | 138a39 | 1 |  4 |  2 | 1 | 14 |  2 |   2 | 2 | ... | 2 | 2 | 2 |  2 | 99 | 1 | 99 | MÃ©xico | 99 | 2 |\n",
       "| 2020-06-06 | 0f9aa7 | 1 | 12 | 23 | 2 | 31 | 23 |   5 | 2 | ... | 2 | 2 | 2 |  1 |  2 | 1 | 99 | MÃ©xico | 99 | 2 |\n",
       "| 2020-06-06 | 0dc7cf | 1 | 12 | 13 | 1 | 13 | 13 |  67 | 2 | ... | 2 | 1 | 2 |  2 |  2 | 1 | 99 | MÃ©xico | 99 | 1 |\n",
       "| 2020-06-06 | 0540de | 1 |  6 |  7 | 2 |  7 |  7 | 101 | 2 | ... | 2 | 1 | 2 |  2 |  2 | 1 | 99 | MÃ©xico | 99 | 2 |\n",
       "| 2020-06-06 | 03526c | 1 | 12 |  9 | 1 |  9 |  9 |  12 | 2 | ... | 2 | 2 | 2 |  2 |  2 | 1 | 99 | MÃ©xico | 99 | 1 |\n",
       "| 2020-06-06 | 152cee | 1 |  4 |  9 | 2 |  9 |  9 |  16 | 2 | ... | 2 | 2 | 2 |  2 | 99 | 1 | 99 | MÃ©xico | 99 | 2 |\n",
       "| 2020-06-06 | 185b77 | 1 | 12 | 13 | 1 |  9 | 13 |  54 | 2 | ... | 2 | 1 | 2 |  2 |  2 | 1 | 99 | MÃ©xico | 99 | 1 |\n",
       "| 2020-06-06 | 08cbb7 | 1 | 12 | 29 | 2 | 29 | 29 |  16 | 2 | ... | 2 | 1 | 2 |  2 |  1 | 1 | 99 | MÃ©xico | 99 | 1 |\n",
       "| ... | ... | ... | ... | ... | ... | ... | ... | ... | ... | <!----> | ... | ... | ... | ... | ... | ... | ... | ... | ... | ... |\n",
       "| 2020-06-06 | 189e74 | 1 | 12 | 17 | 1 | 21 | 17 |   7 | 2 | ... | 2 | 1 | 2 | 1 |  2 | 1 | 99 | MÃ©xico | 99 | 2 |\n",
       "| 2020-06-06 | 1a102e | 1 |  4 |  5 | 1 |  5 |  5 |  18 | 2 | ... | 1 | 2 | 1 | 2 | 99 | 1 | 99 | MÃ©xico | 99 | 2 |\n",
       "| 2020-06-06 | 07f706 | 2 | 12 |  8 | 1 |  8 |  8 |  37 | 2 | ... | 2 | 2 | 2 | 2 |  1 | 1 | 99 | MÃ©xico | 99 | 1 |\n",
       "| 2020-06-06 | 0913ce | 2 |  9 |  9 | 1 |  9 |  9 |   7 | 2 | ... | 2 | 2 | 2 | 2 |  2 | 1 | 99 | MÃ©xico | 99 | 2 |\n",
       "| 2020-06-06 | 1cfef9 | 1 |  8 | 30 | 2 | 27 | 30 |  39 | 2 | ... | 2 | 1 | 2 | 2 |  1 | 1 | 99 | MÃ©xico | 99 | 1 |\n",
       "| 2020-06-06 | 14c181 | 1 | 12 | 27 | 1 | 27 | 27 |   2 | 2 | ... | 2 | 1 | 2 | 2 |  1 | 1 | 99 | MÃ©xico | 99 | 2 |\n",
       "| 2020-06-06 | 1db73a | 2 | 12 |  9 | 2 | 15 | 15 |  33 | 2 | ... | 2 | 2 | 2 | 2 |  2 | 1 | 99 | MÃ©xico | 99 | 1 |\n",
       "| 2020-06-06 | 1836a6 | 1 | 12 |  9 | 1 | 15 |  9 |   5 | 2 | ... | 2 | 1 | 2 | 2 |  2 | 1 | 99 | MÃ©xico | 99 | 2 |\n",
       "| 2020-06-06 | 0bb5b7 | 2 |  9 |  9 | 2 |  9 |  9 |  13 | 2 | ... | 2 | 2 | 2 | 2 |  2 | 1 | 99 | MÃ©xico | 99 | 1 |\n",
       "| 2020-06-06 | 1ca8b2 | 1 | 12 | 13 | 1 | 13 | 13 |  77 | 2 | ... | 2 | 2 | 2 | 2 |  2 | 1 | 99 | MÃ©xico | 99 | 1 |\n",
       "| 2020-06-06 | 0da0d6 | 2 |  8 | 30 | 1 | 30 | 30 | 193 | 2 | ... | 2 | 1 | 2 | 2 |  1 | 1 | 99 | MÃ©xico | 99 | 2 |\n",
       "| 2020-06-06 | 01ba5f | 1 |  4 |  9 | 2 |  9 |  9 |   7 | 2 | ... | 2 | 2 | 2 | 2 | 99 | 1 | 99 | MÃ©xico | 99 | 2 |\n",
       "| 2020-06-06 | 1b2506 | 1 |  9 |  9 | 2 |  9 |  9 |   3 | 2 | ... | 2 | 2 | 2 | 2 |  2 | 1 | 99 | MÃ©xico | 99 | 1 |\n",
       "| 2020-06-06 | 147a09 | 2 | 12 | 21 | 2 | 21 | 21 | 114 | 2 | ... | 2 | 1 | 2 | 1 | 99 | 1 | 99 | MÃ©xico | 99 | 1 |\n",
       "| 2020-06-06 | 16fd4d | 1 |  6 | 25 | 1 | 25 | 25 |   6 | 2 | ... | 2 | 2 | 2 | 2 |  1 | 1 | 99 | MÃ©xico | 99 | 1 |\n",
       "| 2020-06-06 | 19429f | 2 | 12 |  9 | 2 |  9 |  9 |   9 | 2 | ... | 2 | 2 | 2 | 1 |  2 | 1 | 99 | MÃ©xico | 99 | 2 |\n",
       "| 2020-06-06 | 02557d | 2 | 12 | 15 | 1 | 15 | 15 |  47 | 2 | ... | 2 | 2 | 2 | 2 |  1 | 1 | 99 | MÃ©xico | 99 | 2 |\n",
       "| 2020-06-06 | 13a1ec | 1 | 12 | 29 | 2 | 29 | 29 |  32 | 2 | ... | 2 | 2 | 2 | 2 | 99 | 1 | 99 | MÃ©xico | 99 | 1 |\n",
       "| 2020-06-06 | 0f0371 | 1 | 12 | 15 | 1 | 15 | 15 | 106 | 2 | ... | 2 | 2 | 2 | 2 |  2 | 1 | 99 | MÃ©xico | 99 | 2 |\n",
       "| 2020-06-06 | 0a861e | 2 |  4 | 12 | 2 | 12 | 12 |  28 | 2 | ... | 2 | 2 | 2 | 2 | 99 | 1 | 99 | MÃ©xico | 99 | 2 |\n",
       "| 2020-06-06 | 117a62 | 1 |  6 | 10 | 1 | 10 | 10 |   5 | 2 | ... | 2 | 1 | 1 | 2 |  2 | 1 | 99 | MÃ©xico | 99 | 1 |\n",
       "| 2020-06-06 | 076cb4 | 1 |  4 |  9 | 2 |  9 | 15 |  58 | 2 | ... | 2 | 1 | 2 | 2 | 99 | 1 | 99 | MÃ©xico | 99 | 2 |\n",
       "| 2020-06-06 | 1d74d8 | 1 | 12 | 30 | 2 | 30 | 30 |  28 | 2 | ... | 2 | 2 | 2 | 2 |  1 | 1 | 99 | MÃ©xico | 99 | 1 |\n",
       "| 2020-06-06 | 1530c3 | 2 |  9 | 19 | 2 | 19 | 19 |  39 | 2 | ... | 2 | 2 | 2 | 2 |  2 | 1 | 99 | MÃ©xico | 99 | 1 |\n",
       "| 2020-06-06 | 1b9c25 | 1 |  4 | 25 | 2 | 25 | 25 |   6 | 2 | ... | 2 | 2 | 2 | 2 | 99 | 1 | 99 | MÃ©xico | 99 | 2 |\n",
       "| 2020-06-06 | 00e136 | 1 | 12 | 11 | 1 | 11 | 11 |  33 | 2 | ... | 2 | 2 | 2 | 2 |  2 | 1 | 99 | MÃ©xico | 99 | 1 |\n",
       "| 2020-06-06 | 1439b1 | 1 | 12 | 15 | 1 | 15 | 15 |   1 | 2 | ... | 2 | 2 | 2 | 2 |  2 | 1 | 99 | MÃ©xico | 99 | 1 |\n",
       "| 2020-06-06 | 0806ca | 2 |  9 |  9 | 2 |  9 | 15 |  33 | 2 | ... | 2 | 2 | 2 | 1 |  2 | 1 | 99 | MÃ©xico | 99 | 1 |\n",
       "| 2020-06-06 | 16cc81 | 1 | 12 | 12 | 2 | 12 | 12 |   1 | 2 | ... | 2 | 2 | 2 | 2 |  2 | 1 | 99 | MÃ©xico | 99 | 1 |\n",
       "| 2020-06-06 | 12da72 | 1 |  4 |  9 | 2 | 15 |  9 |   7 | 2 | ... | 2 | 2 | 2 | 2 | 99 | 1 | 99 | MÃ©xico | 99 | 2 |\n",
       "\n"
      ],
      "text/plain": [
       "     FECHA_ACTUALIZACION ID_REGISTRO ORIGEN SECTOR ENTIDAD_UM SEXO ENTIDAD_NAC\n",
       "1    2020-06-06          04d7a7      2      12      8         1     5         \n",
       "2    2020-06-06          15acc5      1       6      9         2    14         \n",
       "3    2020-06-06          0c3e95      1       4     25         2    25         \n",
       "4    2020-06-06          05a6df      2       9     21         2    21         \n",
       "5    2020-06-06          05f92b      2       8      9         2     9         \n",
       "6    2020-06-06          1562a8      2      12      8         2    10         \n",
       "7    2020-06-06          13e2c3      2       4      9         2    15         \n",
       "8    2020-06-06          0566e2      1       6     15         1     9         \n",
       "9    2020-06-06          135565      1      12     17         1    17         \n",
       "10   2020-06-06          03d240      1       4      1         1     1         \n",
       "11   2020-06-06          197cb1      1       8      9         2    11         \n",
       "12   2020-06-06          1a3bd2      1       6     15         2    20         \n",
       "13   2020-06-06          06b5d0      2      12     15         2    15         \n",
       "14   2020-06-06          02fee6      1      12     15         2    15         \n",
       "15   2020-06-06          148082      1       6      8         2    29         \n",
       "16   2020-06-06          09845b      1       6     12         1    12         \n",
       "17   2020-06-06          12aaaf      1      12      9         2     9         \n",
       "18   2020-06-06          1c72d7      1      12     21         1    21         \n",
       "19   2020-06-06          01d04c      1       6     12         2    20         \n",
       "20   2020-06-06          1d9dd4      1       8     27         1    27         \n",
       "21   2020-06-06          03f3d5      2      12     11         2    11         \n",
       "22   2020-06-06          1573e4      2       4      9         2     9         \n",
       "23   2020-06-06          138a39      1       4      2         1    14         \n",
       "24   2020-06-06          0f9aa7      1      12     23         2    31         \n",
       "25   2020-06-06          0dc7cf      1      12     13         1    13         \n",
       "26   2020-06-06          0540de      1       6      7         2     7         \n",
       "27   2020-06-06          03526c      1      12      9         1     9         \n",
       "28   2020-06-06          152cee      1       4      9         2     9         \n",
       "29   2020-06-06          185b77      1      12     13         1     9         \n",
       "30   2020-06-06          08cbb7      1      12     29         2    29         \n",
       "...  ...                 ...         ...    ...    ...        ...  ...        \n",
       "7177 2020-06-06          189e74      1      12     17         1    21         \n",
       "7178 2020-06-06          1a102e      1       4      5         1     5         \n",
       "7179 2020-06-06          07f706      2      12      8         1     8         \n",
       "7180 2020-06-06          0913ce      2       9      9         1     9         \n",
       "7181 2020-06-06          1cfef9      1       8     30         2    27         \n",
       "7182 2020-06-06          14c181      1      12     27         1    27         \n",
       "7183 2020-06-06          1db73a      2      12      9         2    15         \n",
       "7184 2020-06-06          1836a6      1      12      9         1    15         \n",
       "7185 2020-06-06          0bb5b7      2       9      9         2     9         \n",
       "7186 2020-06-06          1ca8b2      1      12     13         1    13         \n",
       "7187 2020-06-06          0da0d6      2       8     30         1    30         \n",
       "7188 2020-06-06          01ba5f      1       4      9         2     9         \n",
       "7189 2020-06-06          1b2506      1       9      9         2     9         \n",
       "7190 2020-06-06          147a09      2      12     21         2    21         \n",
       "7191 2020-06-06          16fd4d      1       6     25         1    25         \n",
       "7192 2020-06-06          19429f      2      12      9         2     9         \n",
       "7193 2020-06-06          02557d      2      12     15         1    15         \n",
       "7194 2020-06-06          13a1ec      1      12     29         2    29         \n",
       "7195 2020-06-06          0f0371      1      12     15         1    15         \n",
       "7196 2020-06-06          0a861e      2       4     12         2    12         \n",
       "7197 2020-06-06          117a62      1       6     10         1    10         \n",
       "7198 2020-06-06          076cb4      1       4      9         2     9         \n",
       "7199 2020-06-06          1d74d8      1      12     30         2    30         \n",
       "7200 2020-06-06          1530c3      2       9     19         2    19         \n",
       "7201 2020-06-06          1b9c25      1       4     25         2    25         \n",
       "7202 2020-06-06          00e136      1      12     11         1    11         \n",
       "7203 2020-06-06          1439b1      1      12     15         1    15         \n",
       "7204 2020-06-06          0806ca      2       9      9         2     9         \n",
       "7205 2020-06-06          16cc81      1      12     12         2    12         \n",
       "7206 2020-06-06          12da72      1       4      9         2    15         \n",
       "     ENTIDAD_RES MUNICIPIO_RES TIPO_PACIENTE ... CARDIOVASCULAR OBESIDAD\n",
       "1    32           56           2             ... 2              2       \n",
       "2    15           33           2             ... 1              2       \n",
       "3    25           18           2             ... 2              2       \n",
       "4    21          114           2             ... 2              1       \n",
       "5    15           92           2             ... 1              2       \n",
       "6     8           37           2             ... 2              2       \n",
       "7    15           25           2             ... 2              2       \n",
       "8    15           33           2             ... 2              2       \n",
       "9    17            7           2             ... 2              2       \n",
       "10    1            1           2             ... 2              2       \n",
       "11    9            6           2             ... 2              1       \n",
       "12    9           17           2             ... 1              2       \n",
       "13   15           96           2             ... 2              2       \n",
       "14   15          121           2             ... 2              2       \n",
       "15    8           37           2             ... 2              2       \n",
       "16   12            1           2             ... 2              2       \n",
       "17   15           31           2             ... 2              2       \n",
       "18   21          174           2             ... 1              2       \n",
       "19   12            1           2             ... 2              2       \n",
       "20   27            4           2             ... 2              1       \n",
       "21   11           46           2             ... 2              2       \n",
       "22   15           58           2             ... 2              2       \n",
       "23    2            2           2             ... 2              2       \n",
       "24   23            5           2             ... 2              2       \n",
       "25   13           67           2             ... 2              1       \n",
       "26    7          101           2             ... 2              1       \n",
       "27    9           12           2             ... 2              2       \n",
       "28    9           16           2             ... 2              2       \n",
       "29   13           54           2             ... 2              1       \n",
       "30   29           16           2             ... 2              1       \n",
       "...  ...         ...           ...               ...            ...     \n",
       "7177 17            7           2             ... 2              1       \n",
       "7178  5           18           2             ... 1              2       \n",
       "7179  8           37           2             ... 2              2       \n",
       "7180  9            7           2             ... 2              2       \n",
       "7181 30           39           2             ... 2              1       \n",
       "7182 27            2           2             ... 2              1       \n",
       "7183 15           33           2             ... 2              2       \n",
       "7184  9            5           2             ... 2              1       \n",
       "7185  9           13           2             ... 2              2       \n",
       "7186 13           77           2             ... 2              2       \n",
       "7187 30          193           2             ... 2              1       \n",
       "7188  9            7           2             ... 2              2       \n",
       "7189  9            3           2             ... 2              2       \n",
       "7190 21          114           2             ... 2              1       \n",
       "7191 25            6           2             ... 2              2       \n",
       "7192  9            9           2             ... 2              2       \n",
       "7193 15           47           2             ... 2              2       \n",
       "7194 29           32           2             ... 2              2       \n",
       "7195 15          106           2             ... 2              2       \n",
       "7196 12           28           2             ... 2              2       \n",
       "7197 10            5           2             ... 2              1       \n",
       "7198 15           58           2             ... 2              1       \n",
       "7199 30           28           2             ... 2              2       \n",
       "7200 19           39           2             ... 2              2       \n",
       "7201 25            6           2             ... 2              2       \n",
       "7202 11           33           2             ... 2              2       \n",
       "7203 15            1           2             ... 2              2       \n",
       "7204 15           33           2             ... 2              2       \n",
       "7205 12            1           2             ... 2              2       \n",
       "7206  9            7           2             ... 2              2       \n",
       "     RENAL_CRONICA TABAQUISMO OTRO_CASO RESULTADO MIGRANTE PAIS_NACIONALIDAD\n",
       "1    2              2         99        1         99       MÃ©xico          \n",
       "2    2              2          2        1         99       MÃ©xico          \n",
       "3    1              2         99        1         99       MÃ©xico          \n",
       "4    1             98         99        1         99       MÃ©xico          \n",
       "5    2              2          1        1         99       MÃ©xico          \n",
       "6    1              2         99        1         99       MÃ©xico          \n",
       "7    2              2         99        1         99       MÃ©xico          \n",
       "8    2              2          2        1         99       MÃ©xico          \n",
       "9    2              2          2        1         99       MÃ©xico          \n",
       "10   1              2         99        1         99       MÃ©xico          \n",
       "11   2              2          2        1         99       MÃ©xico          \n",
       "12   2              2          2        1         99       MÃ©xico          \n",
       "13   2              2         99        1         99       MÃ©xico          \n",
       "14   2              2          2        1         99       MÃ©xico          \n",
       "15   2              2          2        1         99       MÃ©xico          \n",
       "16   2              2         99        1         99       MÃ©xico          \n",
       "17   2              2         99        1         99       MÃ©xico          \n",
       "18   2              2          2        1         99       MÃ©xico          \n",
       "19   2              2          2        1         99       MÃ©xico          \n",
       "20   2              2         99        1         99       MÃ©xico          \n",
       "21   2              2          1        1         99       MÃ©xico          \n",
       "22   2              2         99        1         99       MÃ©xico          \n",
       "23   2              2         99        1         99       MÃ©xico          \n",
       "24   2              1          2        1         99       MÃ©xico          \n",
       "25   2              2          2        1         99       MÃ©xico          \n",
       "26   2              2          2        1         99       MÃ©xico          \n",
       "27   2              2          2        1         99       MÃ©xico          \n",
       "28   2              2         99        1         99       MÃ©xico          \n",
       "29   2              2          2        1         99       MÃ©xico          \n",
       "30   2              2          1        1         99       MÃ©xico          \n",
       "...  ...           ...        ...       ...       ...      ...              \n",
       "7177 2             1           2        1         99       MÃ©xico          \n",
       "7178 1             2          99        1         99       MÃ©xico          \n",
       "7179 2             2           1        1         99       MÃ©xico          \n",
       "7180 2             2           2        1         99       MÃ©xico          \n",
       "7181 2             2           1        1         99       MÃ©xico          \n",
       "7182 2             2           1        1         99       MÃ©xico          \n",
       "7183 2             2           2        1         99       MÃ©xico          \n",
       "7184 2             2           2        1         99       MÃ©xico          \n",
       "7185 2             2           2        1         99       MÃ©xico          \n",
       "7186 2             2           2        1         99       MÃ©xico          \n",
       "7187 2             2           1        1         99       MÃ©xico          \n",
       "7188 2             2          99        1         99       MÃ©xico          \n",
       "7189 2             2           2        1         99       MÃ©xico          \n",
       "7190 2             1          99        1         99       MÃ©xico          \n",
       "7191 2             2           1        1         99       MÃ©xico          \n",
       "7192 2             1           2        1         99       MÃ©xico          \n",
       "7193 2             2           1        1         99       MÃ©xico          \n",
       "7194 2             2          99        1         99       MÃ©xico          \n",
       "7195 2             2           2        1         99       MÃ©xico          \n",
       "7196 2             2          99        1         99       MÃ©xico          \n",
       "7197 1             2           2        1         99       MÃ©xico          \n",
       "7198 2             2          99        1         99       MÃ©xico          \n",
       "7199 2             2           1        1         99       MÃ©xico          \n",
       "7200 2             2           2        1         99       MÃ©xico          \n",
       "7201 2             2          99        1         99       MÃ©xico          \n",
       "7202 2             2           2        1         99       MÃ©xico          \n",
       "7203 2             2           2        1         99       MÃ©xico          \n",
       "7204 2             1           2        1         99       MÃ©xico          \n",
       "7205 2             2           2        1         99       MÃ©xico          \n",
       "7206 2             2          99        1         99       MÃ©xico          \n",
       "     PAIS_ORIGEN UCI\n",
       "1    99          1  \n",
       "2    99          2  \n",
       "3    99          2  \n",
       "4    99          1  \n",
       "5    99          2  \n",
       "6    99          1  \n",
       "7    99          2  \n",
       "8    99          2  \n",
       "9    99          2  \n",
       "10   99          2  \n",
       "11   99          1  \n",
       "12   99          2  \n",
       "13   99          2  \n",
       "14   99          2  \n",
       "15   99          1  \n",
       "16   99          1  \n",
       "17   99          2  \n",
       "18   99          1  \n",
       "19   99          1  \n",
       "20   99          1  \n",
       "21   99          1  \n",
       "22   99          2  \n",
       "23   99          2  \n",
       "24   99          2  \n",
       "25   99          1  \n",
       "26   99          2  \n",
       "27   99          1  \n",
       "28   99          2  \n",
       "29   99          1  \n",
       "30   99          1  \n",
       "...  ...         ...\n",
       "7177 99          2  \n",
       "7178 99          2  \n",
       "7179 99          1  \n",
       "7180 99          2  \n",
       "7181 99          1  \n",
       "7182 99          2  \n",
       "7183 99          1  \n",
       "7184 99          2  \n",
       "7185 99          1  \n",
       "7186 99          1  \n",
       "7187 99          2  \n",
       "7188 99          2  \n",
       "7189 99          1  \n",
       "7190 99          1  \n",
       "7191 99          1  \n",
       "7192 99          2  \n",
       "7193 99          2  \n",
       "7194 99          1  \n",
       "7195 99          2  \n",
       "7196 99          2  \n",
       "7197 99          1  \n",
       "7198 99          2  \n",
       "7199 99          1  \n",
       "7200 99          1  \n",
       "7201 99          2  \n",
       "7202 99          1  \n",
       "7203 99          1  \n",
       "7204 99          1  \n",
       "7205 99          1  \n",
       "7206 99          2  "
      ]
     },
     "metadata": {},
     "output_type": "display_data"
    },
    {
     "name": "stderr",
     "output_type": "stream",
     "text": [
      "The following objects are masked from cv (pos = 3):\n",
      "\n",
      "    ASMA, CARDIOVASCULAR, DIABETES, EDAD, EMBARAZO, ENTIDAD_NAC,\n",
      "    ENTIDAD_RES, ENTIDAD_UM, EPOC, FECHA_ACTUALIZACION, FECHA_DEF,\n",
      "    FECHA_INGRESO, FECHA_SINTOMAS, HABLA_LENGUA_INDI,\n",
      "    HABLA_LENGUA_INDIG, HIPERTENSION, ID_REGISTRO, INMUSUPR, INTUBADO,\n",
      "    MIGRANTE, MUNICIPIO_RES, NACIONALIDAD, NEUMONIA, OBESIDAD, ORIGEN,\n",
      "    OTRA_COM, OTRA_CON, OTRO_CASO, PAIS_NACIONALIDAD, PAIS_ORIGEN,\n",
      "    RENAL_CRONICA, RESULTADO, SECTOR, SEXO, TABAQUISMO, TIPO_PACIENTE,\n",
      "    UCI\n",
      "\n",
      "\n",
      "Warning message in 1:dim(cv):\n",
      "\"numerical expression has 2 elements: only the first used\"\n"
     ]
    }
   ],
   "source": [
    "#setwd('6to Semestre')\n",
    "#setwd('Temas Selectos de Matemáticas')\n",
    "#setwd('Covid')\n",
    "\n",
    "#setwd(\"C:/Users/sole-/Documents/Tecnologia/Sexto semestre/Temas compu\")\n",
    "cv=read.csv(\"200606COVID19MEXICO.csv\",header=T)\n",
    "\n",
    "cv <- na.omit(cv)\n",
    "cv=cv%>%tbl_df()\n",
    "cv=cv%>%filter(as.numeric(RESULTADO)<=1)%>%filter(as.numeric(UCI)<=2)\n",
    "\n",
    "p = cv %>% filter(UCI == 2) %>% summarize(p=n())  \n",
    "num_negativo = p[[1]] #total de casos negativos en UCI\n",
    "p = cv %>% filter(UCI == 1) %>% summarize(p=n())\n",
    "num_positivos = p[[1]] #numero de casos positivos en UCI\n",
    "\n",
    "cv_covid_negativo = cv %>% filter(UCI == 2) #numero de los que no necesitaron UCI(cuidado intensivos)\n",
    "cv_covid_positivo = cv %>% filter(UCI == 1) #numero de los que necesitaron UCI(cuidado intensivos)\n",
    "h = sample(1:num_negativo,num_positivos,replace = FALSE) #generamos numeros aleatorios\n",
    "cv_int = cv_covid_negativo %>% slice(h)\n",
    "cv <- bind_rows(cv_int,cv_covid_positivo)\n",
    "\n",
    "h = sample(1:dim(cv)[1],dim(cv)[1],replace = FALSE)\n",
    "cv = cv %>% slice(h)\n",
    "cv\n",
    "#cv # 50% contagiados 50% no contagiados, escogidos al azar los no contagiados\n",
    "\n",
    "#str(cv)\n",
    "cv$ORIGEN <- as.factor(cv$ORIGEN)\n",
    "cv$SECTOR <- as.factor(cv$SECTOR)\n",
    "cv$ENTIDAD_UM<- as.factor(cv$ENTIDAD_UM)\n",
    "cv$SEXO <- as.factor(cv$SEXO)\n",
    "cv$ENTIDAD_NAC <- as.factor(cv$ENTIDAD_NAC)\n",
    "cv$ENTIDAD_RES <- as.factor(cv$ENTIDAD_RES)\n",
    "cv$MUNICIPIO_RES <- as.factor(cv$MUNICIPIO_RES)\n",
    "cv$TIPO_PACIENTE <- as.factor(cv$TIPO_PACIENTE)\n",
    "cv$INTUBADO <- as.factor(cv$INTUBADO )\n",
    "cv$NEUMONIA  <- as.factor(cv$NEUMONIA )\n",
    "cv$NACIONALIDAD <- as.factor(cv$NACIONALIDAD)\n",
    "cv$EMBARAZO <- as.factor(cv$EMBARAZO)\n",
    "cv$HABLA_LENGUA_INDI <- as.factor(cv$HABLA_LENGUA_INDIG)\n",
    "cv$DIABETES <- as.factor(cv$DIABETES)\n",
    "cv$EPOC <- as.factor(cv$EPOC)\n",
    "cv$ASMA <- as.factor(cv$ASMA)\n",
    "cv$INMUSUPR  <- as.factor(cv$INMUSUPR  )\n",
    "cv$HIPERTENSION   <- as.factor(cv$HIPERTENSION  )\n",
    "cv$OTRA_CON <- as.factor(cv$OTRA_COM)\n",
    "cv$CARDIOVASCULAR <- as.factor(cv$CARDIOVASCULAR)\n",
    "cv$OBESIDAD  <- as.factor(cv$OBESIDAD )\n",
    "cv$RENAL_CRONICA  <- as.factor(cv$RENAL_CRONICA )\n",
    "cv$TABAQUISMO <- as.factor(cv$TABAQUISMO)\n",
    "cv$OTRO_CASO  <- as.factor(cv$OTRO_CASO  )\n",
    "cv$RESULTADO    <- as.factor(cv$RESULTADO  )\n",
    "cv$MIGRANTE <- as.factor(cv$MIGRANTE)\n",
    "cv$UCI <- as.factor(cv$UCI)\n",
    "cv$FECHA_ACTUALIZACION <- as.Date(cv$FECHA_ACTUALIZACION )\n",
    "cv$FECHA_INGRESO <- as.Date(cv$FECHA_INGRESO)\n",
    "cv$FECHA_SINTOMAS <- as.Date(cv$FECHA_SINTOMAS)\n",
    "cv$FECHA_ACTUALIZACION <- as.Date(cv$FECHA_ACTUALIZACION)\n",
    "attach(cv)\n",
    "#str(cv)\n",
    "#summary(UCI)\n",
    "index <- sample(1:dim(cv), (dim(cv)/2), replace = F)\n",
    "Train <- cv[index,]\n",
    "Test <- cv[-index,]\n"
   ]
  },
  {
   "cell_type": "code",
   "execution_count": 15,
   "metadata": {},
   "outputs": [
    {
     "data": {
      "text/plain": [
       "\n",
       "Call:\n",
       "glm(formula = UCI ~ NEUMONIA + SEXO + EPOC + HIPERTENSION + INMUSUPR + \n",
       "    TABAQUISMO + CARDIOVASCULAR + DIABETES + ASMA + OBESIDAD + \n",
       "    RENAL_CRONICA + OTRO_CASO, family = \"binomial\", data = Train)\n",
       "\n",
       "Deviance Residuals: \n",
       "    Min       1Q   Median       3Q      Max  \n",
       "-2.1205  -0.9268  -0.6996   1.0071   1.9169  \n",
       "\n",
       "Coefficients:\n",
       "                 Estimate Std. Error z value Pr(>|z|)    \n",
       "(Intercept)      -1.34285    0.43953  -3.055  0.00225 ** \n",
       "NEUMONIA2         1.35873    0.09552  14.225  < 2e-16 ***\n",
       "SEXO2            -0.19547    0.07799  -2.506  0.01220 *  \n",
       "EPOC2            -0.15040    0.21767  -0.691  0.48960    \n",
       "EPOC98            0.56147    1.31593   0.427  0.66962    \n",
       "HIPERTENSION2     0.06578    0.08223   0.800  0.42377    \n",
       "HIPERTENSION98    0.62414    1.09274   0.571  0.56789    \n",
       "INMUSUPR2         0.61751    0.23769   2.598  0.00938 ** \n",
       "INMUSUPR98        0.34965    0.78233   0.447  0.65492    \n",
       "TABAQUISMO2      -0.29753    0.13659  -2.178  0.02939 *  \n",
       "TABAQUISMO98     -0.59972    0.83185  -0.721  0.47094    \n",
       "CARDIOVASCULAR2   0.24339    0.18725   1.300  0.19368    \n",
       "CARDIOVASCULAR98 -0.75269    1.13053  -0.666  0.50555    \n",
       "DIABETES2         0.09956    0.08172   1.218  0.22311    \n",
       "DIABETES98        0.34742    0.81634   0.426  0.67041    \n",
       "ASMA2             0.24028    0.24060   0.999  0.31795    \n",
       "ASMA98           -2.14098    1.57527  -1.359  0.17411    \n",
       "OBESIDAD2         0.26747    0.08513   3.142  0.00168 ** \n",
       "OBESIDAD98        0.02540    0.48536   0.052  0.95827    \n",
       "RENAL_CRONICA2   -0.09844    0.17461  -0.564  0.57291    \n",
       "RENAL_CRONICA98   0.98713    1.01780   0.970  0.33211    \n",
       "OTRO_CASO2       -0.11444    0.10089  -1.134  0.25663    \n",
       "OTRO_CASO99       1.03113    0.10776   9.569  < 2e-16 ***\n",
       "---\n",
       "Signif. codes:  0 '***' 0.001 '**' 0.01 '*' 0.05 '.' 0.1 ' ' 1\n",
       "\n",
       "(Dispersion parameter for binomial family taken to be 1)\n",
       "\n",
       "    Null deviance: 4994.2  on 3602  degrees of freedom\n",
       "Residual deviance: 4403.3  on 3580  degrees of freedom\n",
       "AIC: 4449.3\n",
       "\n",
       "Number of Fisher Scoring iterations: 4\n"
      ]
     },
     "metadata": {},
     "output_type": "display_data"
    },
    {
     "data": {
      "text/html": [
       "0.53"
      ],
      "text/latex": [
       "0.53"
      ],
      "text/markdown": [
       "0.53"
      ],
      "text/plain": [
       "[1] 0.53"
      ]
     },
     "metadata": {},
     "output_type": "display_data"
    },
    {
     "data": {
      "text/html": [
       "0.665834027199556"
      ],
      "text/latex": [
       "0.665834027199556"
      ],
      "text/markdown": [
       "0.665834027199556"
      ],
      "text/plain": [
       "[1] 0.665834"
      ]
     },
     "metadata": {},
     "output_type": "display_data"
    },
    {
     "data": {
      "image/png": "[encoded data removed]",
      "text/plain": [
       "plot without title"
      ]
     },
     "metadata": {
      "image/png": {
       "height": 420,
       "width": 420
      },
      "text/plain": {
       "height": 420,
       "width": 420
      }
     },
     "output_type": "display_data"
    }
   ],
   "source": [
    "#########LOGISTIC####\n",
    "glm1<- glm(UCI~ NEUMONIA+SEXO+EPOC+HIPERTENSION+INMUSUPR+TABAQUISMO+CARDIOVASCULAR+DIABETES+ASMA+OBESIDAD+RENAL_CRONICA+OTRO_CASO,family=\"binomial\" ,data = Train)\n",
    "summary(glm1)\n",
    "yhat2<- predict(glm1, Test,type=\"response\")\n",
    "\n",
    "#para elegir la mejor y evaluamos los posibles valores, desde 0.1 hasta 1 y vemos cual es el mean menor \n",
    "#se repite 91 veces \n",
    "size=1\n",
    "val_mean <- rep(0,91)\n",
    "for(i in seq(0.1,1,by=0.01)){\n",
    "  y=as.integer(yhat2>i)\n",
    "  y=ifelse(y ==\"0\",1,2)\n",
    "  val_mean[size]=mean(y == Test$UCI)\n",
    "  size=size+1\n",
    "}\n",
    "size=2\n",
    "lugar=1\n",
    "mejor=val_mean[lugar]\n",
    "for(i in seq(0.11,1,by=0.01)){\n",
    "  if(val_mean[size]>mejor){\n",
    "    mejor=val_mean[size]\n",
    "    b=i\n",
    "    lugar=size\n",
    "  }\n",
    "  size=size+1\n",
    "}\n",
    "y=seq(0.1,1,by=0.01)\n",
    "plot(y,val_mean,xlab = \"iterador\", ylab = \"valor mean\")\n",
    "points(b, val_mean[lugar],  col = \"orange\", lwd = 10)\n",
    "###valores\n",
    "b\n",
    "val_mean[lugar]\n"
   ]
  },
  {
   "cell_type": "code",
   "execution_count": 20,
   "metadata": {},
   "outputs": [
    {
     "data": {
      "text/html": [
       "0.663337571274464"
      ],
      "text/latex": [
       "0.663337571274464"
      ],
      "text/markdown": [
       "0.663337571274464"
      ],
      "text/plain": [
       "[1] 0.6633376"
      ]
     },
     "metadata": {},
     "output_type": "display_data"
    },
    {
     "data": {
      "image/png": "[encoded data removed]",
      "text/plain": [
       "Plot with title \"Accuracy using  10 - fold CV\""
      ]
     },
     "metadata": {
      "image/png": {
       "height": 420,
       "width": 420
      },
      "text/plain": {
       "height": 420,
       "width": 420
      }
     },
     "output_type": "display_data"
    },
    {
     "data": {
      "image/png": "[encoded data removed]",
      "text/plain": [
       "Plot with title \"precisión\""
      ]
     },
     "metadata": {
      "image/png": {
       "height": 420,
       "width": 420
      },
      "text/plain": {
       "height": 420,
       "width": 420
      }
     },
     "output_type": "display_data"
    }
   ],
   "source": [
    "\n",
    "#################### k-folds glm\n",
    "n <- dim(cv)[1]\n",
    "k <- 10\n",
    "\n",
    "\n",
    "folds <- cut(1:n,k,labels = F)\n",
    "acc = rep(0,k) #presicion del modelo\n",
    "for (i in 1:k){\n",
    "  index = folds == i\n",
    "  test = cv[index,]\n",
    "  train = cv[-index,]\n",
    "  reg = glm.c <- glm(UCI~ NEUMONIA+EPOC+HIPERTENSION+INMUSUPR+TABAQUISMO+DIABETES+ASMA+OBESIDAD+OTRO_CASO,family=\"binomial\" ,data = train)\n",
    "  y=test$UCI\n",
    "  yhat = predict(reg,test,type = \"response\")\n",
    "  res = ifelse(yhat >b,2,1) #Si yhat > 0.5 entonces 1, si no 0\n",
    "  \n",
    "  clasiferror <- mean(y != res)\n",
    "  \n",
    "  acc[i] = 1 - clasiferror\n",
    "}\n",
    "mean(acc) #Presicion promedio del modelo\n",
    "hist(acc, main = paste(\"Accuracy using \", k, \"- fold CV\"))\n",
    "boxplot(acc,main=\"precisión\")"
   ]
  },
  {
   "cell_type": "code",
   "execution_count": 21,
   "metadata": {},
   "outputs": [
    {
     "data": {
      "text/plain": [
       "     \n",
       "yhat1    1    2\n",
       "    1 1286  720\n",
       "    2  491 1106"
      ]
     },
     "metadata": {},
     "output_type": "display_data"
    },
    {
     "data": {
      "text/html": [
       "0.663891201776298"
      ],
      "text/latex": [
       "0.663891201776298"
      ],
      "text/markdown": [
       "0.663891201776298"
      ],
      "text/plain": [
       "[1] 0.6638912"
      ]
     },
     "metadata": {},
     "output_type": "display_data"
    }
   ],
   "source": [
    "lda1 <- lda(UCI~ NEUMONIA+SEXO+EPOC+HIPERTENSION+INMUSUPR+TABAQUISMO+CARDIOVASCULAR+DIABETES+ASMA+OBESIDAD+RENAL_CRONICA+OTRO_CASO,family=\"binomial\" ,data = Train)\n",
    "yhat1 <- predict(lda1, Test)$class\n",
    "\n",
    "table(yhat1,Test$UCI)\n",
    "mean(yhat1 == Test$UCI)"
   ]
  },
  {
   "cell_type": "code",
   "execution_count": 27,
   "metadata": {},
   "outputs": [
    {
     "data": {
      "image/png": "[encoded data removed]",
      "text/plain": [
       "Plot with title \"acp\""
      ]
     },
     "metadata": {
      "image/png": {
       "height": 420,
       "width": 420
      },
      "text/plain": {
       "height": 420,
       "width": 420
      }
     },
     "output_type": "display_data"
    },
    {
     "data": {
      "image/png": "[encoded data removed]",
      "text/plain": [
       "plot without title"
      ]
     },
     "metadata": {
      "image/png": {
       "height": 420,
       "width": 420
      },
      "text/plain": {
       "height": 420,
       "width": 420
      }
     },
     "output_type": "display_data"
    }
   ],
   "source": [
    "#####################3 PCA\n",
    "covid = cv\n",
    "UCI_list = covid$UCI\n",
    "#def_list = covid$FECHA_DEF\n",
    "def_list = covid$FECHA_DEF\n",
    "covid <- as.data.frame(sapply(covid, as.numeric))\n",
    "covid$FECHA_ACTUALIZACION <-NULL\n",
    "covid$ID_REGISTRO <-NULL\n",
    "covid$FECHA_INGRESO <-NULL\n",
    "covid$FECHA_SINTOMAS <-NULL\n",
    "covid$FECHA_DEF <- NULL\n",
    "covid$PAIS_NACIONALIDAD <-NULL\n",
    "covid$PAIS_ORIGEN <-NULL\n",
    "covid$UCI <- NULL\n",
    "covid$HABLA_LENGUA_INDIG <- NULL\n",
    "covid$HABLA_LENGUA_INDI <- NULL\n",
    "covid$MUNICIPIO_RES <- NULL\n",
    "covid$MIGRANTE <- NULL\n",
    "covid$ORIGEN <- NULL\n",
    "covid$ENTIDAD_NAC <- NULL\n",
    "covid$ENTIDAD_UM <- NULL\n",
    "covid$ENTIDAD_RES <- NULL\n",
    "covid$RESULTADO <- NULL\n",
    "covid$SECTOR <- NULL\n",
    "covid$OTRA_CON <- NULL\n",
    "covid$TIPO_PACIENTE <- NULL\n",
    "covid$NACIONALIDAD <- NULL\n",
    "#covid$RENAL_CRONICA <- NULL\n",
    "#covid$CARDIOVASCULAR <- NULL\n",
    "covid$EMBARAZO <- NULL\n",
    "#covid$TABAQUISMO <- NULL\n",
    "covid$FECHA_DEF <- NULL\n",
    "covid$INTUBADO <- NULL\n",
    "#centrar las funcionalidades, usando el método prcm\n",
    "acp <- prcomp(covid, center = TRUE, scale = TRUE) \n",
    "#normalizamos las variables, con center  cada variable sera restada de la media\n",
    "#dividir por la desviación, estandarizamos las variables, para que no domine la varianza de uno\n",
    "plot(acp, type = \"l\") \n",
    "plot(acp$x[,1],acp$x[,2],col=c(\"blue\",\"red\")[UCI_list],xlab=\"PC1\",ylab=\"PC2\")"
   ]
  },
  {
   "cell_type": "code",
   "execution_count": 22,
   "metadata": {},
   "outputs": [
    {
     "data": {
      "text/html": [
       "0.66347588226229"
      ],
      "text/latex": [
       "0.66347588226229"
      ],
      "text/markdown": [
       "0.66347588226229"
      ],
      "text/plain": [
       "[1] 0.6634759"
      ]
     },
     "metadata": {},
     "output_type": "display_data"
    },
    {
     "data": {
      "image/png": "[encoded data removed]",
      "text/plain": [
       "Plot with title \"Accuracy using  10 - fold CV\""
      ]
     },
     "metadata": {
      "image/png": {
       "height": 420,
       "width": 420
      },
      "text/plain": {
       "height": 420,
       "width": 420
      }
     },
     "output_type": "display_data"
    },
    {
     "data": {
      "image/png": "[encoded data removed]",
      "text/plain": [
       "Plot with title \"LDA\""
      ]
     },
     "metadata": {
      "image/png": {
       "height": 420,
       "width": 420
      },
      "text/plain": {
       "height": 420,
       "width": 420
      }
     },
     "output_type": "display_data"
    },
    {
     "data": {
      "image/png": "[encoded data removed]",
      "text/plain": [
       "plot without title"
      ]
     },
     "metadata": {
      "image/png": {
       "height": 420,
       "width": 420
      },
      "text/plain": {
       "height": 420,
       "width": 420
      }
     },
     "output_type": "display_data"
    }
   ],
   "source": [
    "######kfolds lda\n",
    "n <- dim(cv)[1]\n",
    "k <- 10\n",
    "folds <- cut(1:n,k,labels = F)\n",
    "acc = rep(0,k) #presicion del modelo\n",
    "for (i in 1:k){\n",
    "  index = folds == i\n",
    "  test = cv[index,]\n",
    "  train = cv[-index,]\n",
    "  reg = lda(UCI~ NEUMONIA+SEXO+EPOC+HIPERTENSION+INMUSUPR+TABAQUISMO+CARDIOVASCULAR+DIABETES+ASMA+OBESIDAD+RENAL_CRONICA+OTRO_CASO,family=\"binomial\" ,data = train)\n",
    "  \n",
    "  y = test$UCI\n",
    "  res = predict(reg, test)$class #Si yhat > 0.5 entonces 1, si no 0\n",
    "  \n",
    "  clasiferror <- mean(y != res)\n",
    "  \n",
    "  acc[i] = 1 - clasiferror\n",
    "}\n",
    "mean(acc) #Presicion promedio del modelo\n",
    "hist(acc, main = paste(\"Accuracy using \", k, \"- fold CV\"))\n",
    "boxplot(acc,main=\"LDA\",xlabel=\"Precisión\")\n",
    "y = as.factor(test$UCI)\n",
    "plot(predict(reg, test)$posterior,col=c(y))"
   ]
  },
  {
   "cell_type": "code",
   "execution_count": 24,
   "metadata": {},
   "outputs": [
    {
     "name": "stdout",
     "output_type": "stream",
     "text": [
      "[1] \"la mejor k fue: \"\n"
     ]
    },
    {
     "data": {
      "text/html": [
       "4"
      ],
      "text/latex": [
       "4"
      ],
      "text/markdown": [
       "4"
      ],
      "text/plain": [
       "[1] 4"
      ]
     },
     "metadata": {},
     "output_type": "display_data"
    },
    {
     "data": {
      "text/html": [
       "0.666944213155704"
      ],
      "text/latex": [
       "0.666944213155704"
      ],
      "text/markdown": [
       "0.666944213155704"
      ],
      "text/plain": [
       "[1] 0.6669442"
      ]
     },
     "metadata": {},
     "output_type": "display_data"
    },
    {
     "data": {
      "image/png": "[encoded data removed]",
      "text/plain": [
       "plot without title"
      ]
     },
     "metadata": {
      "image/png": {
       "height": 420,
       "width": 420
      },
      "text/plain": {
       "height": 420,
       "width": 420
      }
     },
     "output_type": "display_data"
    }
   ],
   "source": [
    "#############KNN#####\n",
    "knn_val <- rep(1:20)\n",
    "end= nrow(cv_covid_positivo)#numero de valores\n",
    "mayor=0\n",
    "for(n in 1:20){\n",
    "  knn.pred <- knn(cbind(Train$NEUMONIA,Train$DIABETES,Train$CARDIOVASCULAR,Train$ASMA,\n",
    "                        Train$OBESIDAD,Train$OTRO_CASO), \n",
    "                  cbind(Test$NEUMONIA,Test$DIABETES,Test$CARDIOVASCULAR,Test$ASMA,\n",
    "                        Test$OBESIDAD,Test$OTRO_CASO), Train$UCI, k=n)\n",
    "  error= mean(Test$UCI == knn.pred)\n",
    "  knn_val[n]=error\n",
    "  if(error>mayor){\n",
    "    mayor=error\n",
    "    k_best=n\n",
    "  }\n",
    "}\n",
    "print(\"la mejor k fue: \")\n",
    "k_best\n",
    "mayor\n",
    "boxplot(knn_val)"
   ]
  },
  {
   "cell_type": "code",
   "execution_count": 25,
   "metadata": {},
   "outputs": [
    {
     "data": {
      "text/plain": [
       "\n",
       "Classification tree:\n",
       "tree(formula = UCI ~ NEUMONIA + SEXO + EPOC + HIPERTENSION + \n",
       "    INMUSUPR + TABAQUISMO + CARDIOVASCULAR + DIABETES + ASMA + \n",
       "    OBESIDAD + RENAL_CRONICA + OTRO_CASO, data = Train)\n",
       "Variables actually used in tree construction:\n",
       "[1] \"NEUMONIA\"  \"OTRO_CASO\"\n",
       "Number of terminal nodes:  4 \n",
       "Residual mean deviance:  1.231 = 4429 / 3599 \n",
       "Misclassification error rate: 0.3397 = 1224 / 3603 "
      ]
     },
     "metadata": {},
     "output_type": "display_data"
    },
    {
     "data": {
      "text/plain": [
       "         \n",
       "tree.pred    1    2\n",
       "        1 1254  684\n",
       "        2  523 1142"
      ]
     },
     "metadata": {},
     "output_type": "display_data"
    },
    {
     "data": {
      "text/html": [
       "0.665001387732445"
      ],
      "text/latex": [
       "0.665001387732445"
      ],
      "text/markdown": [
       "0.665001387732445"
      ],
      "text/plain": [
       "[1] 0.6650014"
      ]
     },
     "metadata": {},
     "output_type": "display_data"
    },
    {
     "data": {
      "text/html": [
       "<style>\n",
       ".list-inline {list-style: none; margin:0; padding: 0}\n",
       ".list-inline>li {display: inline-block}\n",
       ".list-inline>li:not(:last-child)::after {content: \"\\00b7\"; padding: 0 .5ex}\n",
       "</style>\n",
       "<ol class=list-inline><li>'size'</li><li>'dev'</li><li>'k'</li><li>'method'</li></ol>\n"
      ],
      "text/latex": [
       "\\begin{enumerate*}\n",
       "\\item 'size'\n",
       "\\item 'dev'\n",
       "\\item 'k'\n",
       "\\item 'method'\n",
       "\\end{enumerate*}\n"
      ],
      "text/markdown": [
       "1. 'size'\n",
       "2. 'dev'\n",
       "3. 'k'\n",
       "4. 'method'\n",
       "\n",
       "\n"
      ],
      "text/plain": [
       "[1] \"size\"   \"dev\"    \"k\"      \"method\""
      ]
     },
     "metadata": {},
     "output_type": "display_data"
    },
    {
     "data": {
      "text/plain": [
       "$size\n",
       "[1] 4 3 2 1\n",
       "\n",
       "$dev\n",
       "[1] 1224 1224 1363 1740\n",
       "\n",
       "$k\n",
       "[1] -Inf    0  113  440\n",
       "\n",
       "$method\n",
       "[1] \"misclass\"\n",
       "\n",
       "attr(,\"class\")\n",
       "[1] \"prune\"         \"tree.sequence\""
      ]
     },
     "metadata": {},
     "output_type": "display_data"
    },
    {
     "data": {
      "image/png": "[encoded data removed]",
      "text/plain": [
       "plot without title"
      ]
     },
     "metadata": {
      "image/png": {
       "height": 420,
       "width": 420
      },
      "text/plain": {
       "height": 420,
       "width": 420
      }
     },
     "output_type": "display_data"
    },
    {
     "data": {
      "image/png": "[encoded data removed]",
      "text/plain": [
       "plot without title"
      ]
     },
     "metadata": {
      "image/png": {
       "height": 420,
       "width": 420
      },
      "text/plain": {
       "height": 420,
       "width": 420
      }
     },
     "output_type": "display_data"
    },
    {
     "data": {
      "image/png": "[encoded data removed]",
      "text/plain": [
       "plot without title"
      ]
     },
     "metadata": {
      "image/png": {
       "height": 420,
       "width": 420
      },
      "text/plain": {
       "height": 420,
       "width": 420
      }
     },
     "output_type": "display_data"
    }
   ],
   "source": [
    "#########decision tree#####\n",
    "tree.UCI = tree(UCI~ NEUMONIA+SEXO+EPOC+HIPERTENSION+INMUSUPR+TABAQUISMO+CARDIOVASCULAR+DIABETES+ASMA+OBESIDAD+RENAL_CRONICA+OTRO_CASO ,data = Train)\n",
    "summary(tree.UCI)\n",
    "plot(tree.UCI)\n",
    "text(tree.UCI, pretty=0)\n",
    "tree.pred = predict(tree.UCI, Test, type=\"class\")\n",
    "table(tree.pred,Test$UCI)\n",
    "mean(tree.pred==Test$UCI)\n",
    "\n",
    "cv.tree.uci = cv.tree(tree.UCI, FUN = prune.misclass)\n",
    "names(cv.tree.uci)\n",
    "cv.tree.uci\n",
    "plot(cv.tree.uci$size, cv.tree.uci$dev,type=\"b\")\n",
    "plot(cv.tree.uci$k,cv.tree.uci$dev,type=\"b\")\n"
   ]
  },
  {
   "cell_type": "code",
   "execution_count": 26,
   "metadata": {},
   "outputs": [
    {
     "data": {
      "text/html": [
       "0.662642934196332"
      ],
      "text/latex": [
       "0.662642934196332"
      ],
      "text/markdown": [
       "0.662642934196332"
      ],
      "text/plain": [
       "[1] 0.6626429"
      ]
     },
     "metadata": {},
     "output_type": "display_data"
    },
    {
     "data": {
      "image/png": "[encoded data removed]",
      "text/plain": [
       "Plot with title \"Accuracy using  10 - fold CV\""
      ]
     },
     "metadata": {
      "image/png": {
       "height": 420,
       "width": 420
      },
      "text/plain": {
       "height": 420,
       "width": 420
      }
     },
     "output_type": "display_data"
    },
    {
     "data": {
      "image/png": "[encoded data removed]",
      "text/plain": [
       "Plot with title \"Árbol\""
      ]
     },
     "metadata": {
      "image/png": {
       "height": 420,
       "width": 420
      },
      "text/plain": {
       "height": 420,
       "width": 420
      }
     },
     "output_type": "display_data"
    }
   ],
   "source": [
    "######kfolds tree\n",
    "n <- dim(cv)[1]\n",
    "k <- 10\n",
    "\n",
    "\n",
    "folds <- cut(1:n,k,labels = F)\n",
    "acc = rep(0,k) #presicion del modelo\n",
    "for (i in 1:k){\n",
    "  index = folds == i\n",
    "  test = cv[index,]\n",
    "  train = cv[-index,]\n",
    "  reg =tree(UCI~ NEUMONIA+SEXO+EPOC+HIPERTENSION+INMUSUPR+TABAQUISMO+CARDIOVASCULAR+DIABETES+ASMA+OBESIDAD+RENAL_CRONICA+OTRO_CASO ,data = train)\n",
    "  \n",
    "  y = test$UCI\n",
    "  res = predict(reg, test, type=\"class\") #Si yhat > 0.5 entonces 1, si no 0\n",
    "  \n",
    "  clasiferror <- mean(y != res)\n",
    "  \n",
    "  acc[i] = 1 - clasiferror\n",
    "}\n",
    "mean(acc) #Presicion promedio del modelo\n",
    "\n",
    "hist(acc, main = paste(\"Accuracy using \", k, \"- fold CV\"))\n",
    "boxplot(acc,main=\"Árbol\",xlabel=\"Precisión\")\n"
   ]
  },
  {
   "cell_type": "code",
   "execution_count": null,
   "metadata": {},
   "outputs": [],
   "source": []
  }
 ],
 "metadata": {
  "kernelspec": {
   "display_name": "R",
   "language": "R",
   "name": "ir"
  },
  "language_info": {
   "codemirror_mode": "r",
   "file_extension": ".r",
   "mimetype": "text/x-r-source",
   "name": "R",
   "pygments_lexer": "r",
   "version": "3.6.2"
  }
 },
 "nbformat": 4,
 "nbformat_minor": 4
}
