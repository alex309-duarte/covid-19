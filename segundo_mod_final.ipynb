{
 "cells": [
  {
   "cell_type": "code",
   "execution_count": 1,
   "metadata": {},
   "outputs": [
    {
     "name": "stderr",
     "output_type": "stream",
     "text": [
      "Warning message:\n",
      "\"package 'dplyr' was built under R version 3.6.3\"\n",
      "Warning message:\n",
      "\"package 'verification' was built under R version 3.6.3\"\n",
      "Warning message:\n",
      "\"package 'fields' was built under R version 3.6.3\"\n",
      "Warning message:\n",
      "\"package 'spam' was built under R version 3.6.3\"\n",
      "Warning message:\n",
      "\"package 'dotCall64' was built under R version 3.6.3\"\n",
      "Warning message:\n",
      "\"package 'maps' was built under R version 3.6.3\"\n",
      "Warning message:\n",
      "\"package 'CircStats' was built under R version 3.6.3\"\n",
      "Warning message:\n",
      "\"package 'dtw' was built under R version 3.6.3\"\n",
      "Warning message:\n",
      "\"package 'proxy' was built under R version 3.6.3\"\n",
      "Warning message:\n",
      "\"package 'class' was built under R version 3.6.3\"\n",
      "Warning message:\n",
      "\"package 'tree' was built under R version 3.6.3\"\n"
     ]
    }
   ],
   "source": [
    "suppressMessages(library(dplyr))\n",
    "suppressMessages(library(verification))\n",
    "suppressMessages(library(class))\n",
    "library(tree)"
   ]
  },
  {
   "cell_type": "code",
   "execution_count": 2,
   "metadata": {},
   "outputs": [
    {
     "name": "stderr",
     "output_type": "stream",
     "text": [
      "Warning message in 1:dim(cv):\n",
      "\"numerical expression has 2 elements: only the first used\"\n"
     ]
    }
   ],
   "source": [
    "#setwd('6to Semestre')\n",
    "#setwd('Temas Selectos de Matemáticas')\n",
    "#setwd('Covid')\n",
    "\n",
    "setwd(\"C:/Users/sole-/Documents/Tecnologia/Sexto semestre/Temas compu\")\n",
    "cv=read.csv(\"covid.csv\",header=T)\n",
    "\n",
    "cv <- na.omit(cv)\n",
    "cv=cv%>%tbl_df()\n",
    "cv=cv%>%filter(as.numeric(RESULTADO)<=1)%>%filter(as.numeric(UCI)<=2)\n",
    "\n",
    "p = cv %>% filter(UCI == 2) %>% summarize(p=n())  \n",
    "num_negativo = p[[1]] #total de casos negativos en UCI\n",
    "p = cv %>% filter(UCI == 1) %>% summarize(p=n())\n",
    "num_positivos = p[[1]] #numero de casos positivos en UCI\n",
    "\n",
    "cv_covid_negativo = cv %>% filter(UCI == 2) #numero de los que no necesitaron UCI(cuidado intensivos)\n",
    "cv_covid_positivo = cv %>% filter(UCI == 1) #numero de los que necesitaron UCI(cuidado intensivos)\n",
    "h = sample(1:num_negativo,num_positivos,replace = FALSE) #generamos numeros aleatorios\n",
    "cv_int = cv_covid_negativo %>% slice(h)\n",
    "cv <- bind_rows(cv_int,cv_covid_positivo)\n",
    "#cv # 50% contagiados 50% no contagiados, escogidos al azar los no contagiados\n",
    "\n",
    "#str(cv)\n",
    "cv$ORIGEN <- as.factor(cv$ORIGEN)\n",
    "cv$SECTOR <- as.factor(cv$SECTOR)\n",
    "cv$ENTIDAD_UM<- as.factor(cv$ENTIDAD_UM)\n",
    "cv$SEXO <- as.factor(cv$SEXO)\n",
    "cv$ENTIDAD_NAC <- as.factor(cv$ENTIDAD_NAC)\n",
    "cv$ENTIDAD_RES <- as.factor(cv$ENTIDAD_RES)\n",
    "cv$MUNICIPIO_RES <- as.factor(cv$MUNICIPIO_RES)\n",
    "cv$TIPO_PACIENTE <- as.factor(cv$TIPO_PACIENTE)\n",
    "cv$INTUBADO <- as.factor(cv$INTUBADO )\n",
    "cv$NEUMONIA  <- as.factor(cv$NEUMONIA )\n",
    "cv$NACIONALIDAD <- as.factor(cv$NACIONALIDAD)\n",
    "cv$EMBARAZO <- as.factor(cv$EMBARAZO)\n",
    "cv$HABLA_LENGUA_INDI <- as.factor(cv$HABLA_LENGUA_INDIG)\n",
    "cv$DIABETES <- as.factor(cv$DIABETES)\n",
    "cv$EPOC <- as.factor(cv$EPOC)\n",
    "cv$ASMA <- as.factor(cv$ASMA)\n",
    "cv$INMUSUPR  <- as.factor(cv$INMUSUPR  )\n",
    "cv$HIPERTENSION   <- as.factor(cv$HIPERTENSION  )\n",
    "cv$OTRA_CON <- as.factor(cv$OTRA_COM)\n",
    "cv$CARDIOVASCULAR <- as.factor(cv$CARDIOVASCULAR)\n",
    "cv$OBESIDAD  <- as.factor(cv$OBESIDAD )\n",
    "cv$RENAL_CRONICA  <- as.factor(cv$RENAL_CRONICA )\n",
    "cv$TABAQUISMO <- as.factor(cv$TABAQUISMO)\n",
    "cv$OTRO_CASO  <- as.factor(cv$OTRO_CASO  )\n",
    "cv$RESULTADO    <- as.factor(cv$RESULTADO  )\n",
    "cv$MIGRANTE <- as.factor(cv$MIGRANTE)\n",
    "cv$UCI <- as.factor(cv$UCI)\n",
    "cv$FECHA_ACTUALIZACION <- as.Date(cv$FECHA_ACTUALIZACION )\n",
    "cv$FECHA_INGRESO <- as.Date(cv$FECHA_INGRESO)\n",
    "cv$FECHA_SINTOMAS <- as.Date(cv$FECHA_SINTOMAS)\n",
    "cv$FECHA_ACTUALIZACION <- as.Date(cv$FECHA_ACTUALIZACION)\n",
    "attach(cv)\n",
    "#str(cv)\n",
    "#summary(UCI)\n",
    "index <- sample(1:dim(cv), (dim(cv)/2), replace = F)\n",
    "Train <- cv[index,]\n",
    "Test <- cv[-index,]\n"
   ]
  },
  {
   "cell_type": "code",
   "execution_count": 3,
   "metadata": {},
   "outputs": [
    {
     "data": {
      "text/plain": [
       "\n",
       "Call:\n",
       "glm(formula = UCI ~ NEUMONIA + INTUBADO + DIABETES + ASMA + OBESIDAD + \n",
       "    OTRO_CASO, family = \"binomial\", data = Train)\n",
       "\n",
       "Deviance Residuals: \n",
       "    Min       1Q   Median       3Q      Max  \n",
       "-2.0284  -0.5666  -0.3399   0.8114   2.5492  \n",
       "\n",
       "Coefficients:\n",
       "            Estimate Std. Error z value Pr(>|z|)    \n",
       "(Intercept) -3.48028    0.28865 -12.057  < 2e-16 ***\n",
       "NEUMONIA2    0.71127    0.09955   7.145 9.02e-13 ***\n",
       "INTUBADO2    2.80167    0.11654  24.041  < 2e-16 ***\n",
       "DIABETES2    0.11160    0.08583   1.300   0.1935    \n",
       "DIABETES98  -1.47527    0.62422  -2.363   0.0181 *  \n",
       "ASMA2        0.65778    0.24640   2.670   0.0076 ** \n",
       "ASMA98       1.63602    0.86048   1.901   0.0573 .  \n",
       "OBESIDAD2    0.15899    0.09213   1.726   0.0844 .  \n",
       "OBESIDAD98   0.51696    0.60773   0.851   0.3950    \n",
       "OTRO_CASO2   0.09118    0.11049   0.825   0.4092    \n",
       "OTRO_CASO99  0.80395    0.11432   7.032 2.03e-12 ***\n",
       "---\n",
       "Signif. codes:  0 '***' 0.001 '**' 0.01 '*' 0.05 '.' 0.1 ' ' 1\n",
       "\n",
       "(Dispersion parameter for binomial family taken to be 1)\n",
       "\n",
       "    Null deviance: 5303.1  on 3825  degrees of freedom\n",
       "Residual deviance: 3854.4  on 3815  degrees of freedom\n",
       "AIC: 3876.4\n",
       "\n",
       "Number of Fisher Scoring iterations: 5\n"
      ]
     },
     "metadata": {},
     "output_type": "display_data"
    },
    {
     "data": {
      "text/html": [
       "0.54"
      ],
      "text/latex": [
       "0.54"
      ],
      "text/markdown": [
       "0.54"
      ],
      "text/plain": [
       "[1] 0.54"
      ]
     },
     "metadata": {},
     "output_type": "display_data"
    },
    {
     "data": {
      "text/html": [
       "0.753267119707266"
      ],
      "text/latex": [
       "0.753267119707266"
      ],
      "text/markdown": [
       "0.753267119707266"
      ],
      "text/plain": [
       "[1] 0.7532671"
      ]
     },
     "metadata": {},
     "output_type": "display_data"
    },
    {
     "data": {
      "image/png": "[encoded data removed]",
      "text/plain": [
       "plot without title"
      ]
     },
     "metadata": {
      "image/png": {
       "height": 420,
       "width": 420
      }
     },
     "output_type": "display_data"
    }
   ],
   "source": [
    "#########LOGISTIC####\n",
    "glm1<- glm(UCI~ NEUMONIA+INTUBADO+DIABETES+ASMA+OBESIDAD+OTRO_CASO,family=\"binomial\" ,data = Train)\n",
    "summary(glm1)\n",
    "yhat2<- predict(glm1, Test,type=\"response\")\n",
    "\n",
    "#para elegir la mejor y evaluamos los posibles valores, desde 0.1 hasta 1 y vemos cual es el mean menor \n",
    "#se repite 91 veces \n",
    "size=1\n",
    "val_mean <- rep(0,91)\n",
    "for(i in seq(0.1,1,by=0.01)){\n",
    "  y=as.integer(yhat2>i)\n",
    "  y=ifelse(y ==\"0\",1,2)\n",
    "  val_mean[size]=mean(y == Test$UCI)\n",
    "  size=size+1\n",
    "}\n",
    "size=2\n",
    "lugar=1\n",
    "mejor=val_mean[lugar]\n",
    "for(i in seq(0.11,1,by=0.01)){\n",
    "  if(val_mean[size]>mejor){\n",
    "    mejor=val_mean[size]\n",
    "    b=i\n",
    "    lugar=size\n",
    "  }\n",
    "  size=size+1\n",
    "}\n",
    "y=seq(0.1,1,by=0.01)\n",
    "plot(y,val_mean,xlab = \"iterador\", ylab = \"valor mean\")\n",
    "points(b, val_mean[lugar],  col = \"orange\", lwd = 10)\n",
    "###valores\n",
    "b\n",
    "val_mean[lugar]\n"
   ]
  },
  {
   "cell_type": "code",
   "execution_count": 4,
   "metadata": {},
   "outputs": [
    {
     "data": {
      "text/html": [
       "0.747515827915152"
      ],
      "text/latex": [
       "0.747515827915152"
      ],
      "text/markdown": [
       "0.747515827915152"
      ],
      "text/plain": [
       "[1] 0.7475158"
      ]
     },
     "metadata": {},
     "output_type": "display_data"
    },
    {
     "data": {
      "image/png": "[encoded data removed]",
      "text/plain": [
       "Plot with title \"Accuracy using  10 - fold CV\""
      ]
     },
     "metadata": {
      "image/png": {
       "height": 420,
       "width": 420
      }
     },
     "output_type": "display_data"
    },
    {
     "data": {
      "image/png": "[encoded data removed]",
      "text/plain": [
       "Plot with title \"precisión\""
      ]
     },
     "metadata": {
      "image/png": {
       "height": 420,
       "width": 420
      }
     },
     "output_type": "display_data"
    }
   ],
   "source": [
    "\n",
    "#################### k-folds glm\n",
    "n <- dim(cv)[1]\n",
    "k <- 10\n",
    "\n",
    "\n",
    "folds <- cut(1:n,k,labels = F)\n",
    "acc = rep(0,k) #presicion del modelo\n",
    "for (i in 1:k){\n",
    "  index = folds == i\n",
    "  test = cv[index,]\n",
    "  train = cv[-index,]\n",
    "  reg = glm.c <- glm(UCI~ NEUMONIA+INTUBADO+DIABETES+ASMA+OBESIDAD+OTRO_CASO,family=\"binomial\" ,data = train)\n",
    "  y=test$UCI\n",
    "  yhat = predict(reg,test,type = \"response\")\n",
    "  res = ifelse(yhat >b,2,1) #Si yhat > 0.5 entonces 1, si no 0\n",
    "  \n",
    "  clasiferror <- mean(y != res)\n",
    "  \n",
    "  acc[i] = 1 - clasiferror\n",
    "}\n",
    "mean(acc) #Presicion promedio del modelo\n",
    "hist(acc, main = paste(\"Accuracy using \", k, \"- fold CV\"))\n",
    "boxplot(acc,main=\"precisión\")"
   ]
  },
  {
   "cell_type": "code",
   "execution_count": 10,
   "metadata": {},
   "outputs": [
    {
     "data": {
      "text/plain": [
       "     \n",
       "yhat1    1    2\n",
       "    1 1052  121\n",
       "    2  833 1820"
      ]
     },
     "metadata": {},
     "output_type": "display_data"
    },
    {
     "data": {
      "text/html": [
       "0.750653423941453"
      ],
      "text/latex": [
       "0.750653423941453"
      ],
      "text/markdown": [
       "0.750653423941453"
      ],
      "text/plain": [
       "[1] 0.7506534"
      ]
     },
     "metadata": {},
     "output_type": "display_data"
    }
   ],
   "source": [
    "lda1 <- lda(UCI~ NEUMONIA+INTUBADO+DIABETES+ASMA+OBESIDAD+OTRO_CASO,family=\"binomial\" ,data = Train)\n",
    "yhat1 <- predict(lda1, Test)$class\n",
    "table(yhat1,Test$UCI)\n",
    "mean(yhat1 == Test$UCI)"
   ]
  },
  {
   "cell_type": "code",
   "execution_count": 6,
   "metadata": {},
   "outputs": [
    {
     "data": {
      "text/html": [
       "0.749476612228878"
      ],
      "text/latex": [
       "0.749476612228878"
      ],
      "text/markdown": [
       "0.749476612228878"
      ],
      "text/plain": [
       "[1] 0.7494766"
      ]
     },
     "metadata": {},
     "output_type": "display_data"
    },
    {
     "data": {
      "image/png": "[encoded data removed]",
      "text/plain": [
       "Plot with title \"Accuracy using  10 - fold CV\""
      ]
     },
     "metadata": {
      "image/png": {
       "height": 420,
       "width": 420
      }
     },
     "output_type": "display_data"
    },
    {
     "data": {
      "image/png": "[encoded data removed]",
      "text/plain": [
       "Plot with title \"LDA\""
      ]
     },
     "metadata": {
      "image/png": {
       "height": 420,
       "width": 420
      }
     },
     "output_type": "display_data"
    }
   ],
   "source": [
    "######kfolds lda\n",
    "n <- dim(cv)[1]\n",
    "k <- 10\n",
    "folds <- cut(1:n,k,labels = F)\n",
    "acc = rep(0,k) #presicion del modelo\n",
    "for (i in 1:k){\n",
    "  index = folds == i\n",
    "  test = cv[index,]\n",
    "  train = cv[-index,]\n",
    "  reg = lda(UCI~ NEUMONIA+INTUBADO+DIABETES+ASMA+OBESIDAD+OTRO_CASO,family=\"binomial\" ,data = train)\n",
    "  \n",
    "  y = test$UCI\n",
    "  res = predict(reg, test)$class #Si yhat > 0.5 entonces 1, si no 0\n",
    "  \n",
    "  clasiferror <- mean(y != res)\n",
    "  \n",
    "  acc[i] = 1 - clasiferror\n",
    "}\n",
    "mean(acc) #Presicion promedio del modelo\n",
    "hist(acc, main = paste(\"Accuracy using \", k, \"- fold CV\"))\n",
    "boxplot(acc,main=\"LDA\",xlabel=\"Precisión\")"
   ]
  },
  {
   "cell_type": "code",
   "execution_count": 7,
   "metadata": {},
   "outputs": [
    {
     "name": "stdout",
     "output_type": "stream",
     "text": [
      "[1] \"la mejor k fue: \"\n"
     ]
    },
    {
     "data": {
      "text/html": [
       "9"
      ],
      "text/latex": [
       "9"
      ],
      "text/markdown": [
       "9"
      ],
      "text/plain": [
       "[1] 9"
      ]
     },
     "metadata": {},
     "output_type": "display_data"
    },
    {
     "data": {
      "text/html": [
       "0.750392054364872"
      ],
      "text/latex": [
       "0.750392054364872"
      ],
      "text/markdown": [
       "0.750392054364872"
      ],
      "text/plain": [
       "[1] 0.7503921"
      ]
     },
     "metadata": {},
     "output_type": "display_data"
    },
    {
     "data": {
      "image/png": "[encoded data removed]",
      "text/plain": [
       "plot without title"
      ]
     },
     "metadata": {
      "image/png": {
       "height": 420,
       "width": 420
      }
     },
     "output_type": "display_data"
    }
   ],
   "source": [
    "#############KNN#####\n",
    "knn_val <- rep(1:20)\n",
    "end= nrow(cv_covid_positivo)#numero de valores\n",
    "mayor=0\n",
    "for(n in 1:20){\n",
    "  knn.pred <- knn(cbind(Train$NEUMONIA,Train$DIABETES,Train$INTUBADO,Train$ASMA,\n",
    "                        Train$OBESIDAD,Train$OTRO_CASO), \n",
    "                  cbind(Test$NEUMONIA,Test$DIABETES,Test$INTUBADO,Test$ASMA,\n",
    "                        Test$OBESIDAD,Test$OTRO_CASO), Train$UCI, k=n)\n",
    "  error= mean(Test$UCI == knn.pred)\n",
    "  knn_val[n]=error\n",
    "  if(error>mayor){\n",
    "    mayor=error\n",
    "    k_best=n\n",
    "  }\n",
    "}\n",
    "print(\"la mejor k fue: \")\n",
    "k_best\n",
    "mayor\n",
    "boxplot(knn_val)"
   ]
  },
  {
   "cell_type": "code",
   "execution_count": 8,
   "metadata": {},
   "outputs": [
    {
     "data": {
      "text/plain": [
       "\n",
       "Classification tree:\n",
       "tree(formula = UCI ~ NEUMONIA + INTUBADO + DIABETES + ASMA + \n",
       "    OBESIDAD + OTRO_CASO, data = Train)\n",
       "Variables actually used in tree construction:\n",
       "[1] \"INTUBADO\"  \"OTRO_CASO\" \"NEUMONIA\" \n",
       "Number of terminal nodes:  4 \n",
       "Residual mean deviance:  1.009 = 3857 / 3822 \n",
       "Misclassification error rate: 0.2533 = 969 / 3826 "
      ]
     },
     "metadata": {},
     "output_type": "display_data"
    },
    {
     "data": {
      "text/plain": [
       "         \n",
       "tree.pred    1    2\n",
       "        1 1036  102\n",
       "        2  849 1839"
      ]
     },
     "metadata": {},
     "output_type": "display_data"
    },
    {
     "data": {
      "text/html": [
       "0.751437532671197"
      ],
      "text/latex": [
       "0.751437532671197"
      ],
      "text/markdown": [
       "0.751437532671197"
      ],
      "text/plain": [
       "[1] 0.7514375"
      ]
     },
     "metadata": {},
     "output_type": "display_data"
    },
    {
     "data": {
      "text/html": [
       "<style>\n",
       ".list-inline {list-style: none; margin:0; padding: 0}\n",
       ".list-inline>li {display: inline-block}\n",
       ".list-inline>li:not(:last-child)::after {content: \"\\00b7\"; padding: 0 .5ex}\n",
       "</style>\n",
       "<ol class=list-inline><li>'size'</li><li>'dev'</li><li>'k'</li><li>'method'</li></ol>\n"
      ],
      "text/latex": [
       "\\begin{enumerate*}\n",
       "\\item 'size'\n",
       "\\item 'dev'\n",
       "\\item 'k'\n",
       "\\item 'method'\n",
       "\\end{enumerate*}\n"
      ],
      "text/markdown": [
       "1. 'size'\n",
       "2. 'dev'\n",
       "3. 'k'\n",
       "4. 'method'\n",
       "\n",
       "\n"
      ],
      "text/plain": [
       "[1] \"size\"   \"dev\"    \"k\"      \"method\""
      ]
     },
     "metadata": {},
     "output_type": "display_data"
    },
    {
     "data": {
      "text/plain": [
       "$size\n",
       "[1] 4 2 1\n",
       "\n",
       "$dev\n",
       "[1]  969  969 1885\n",
       "\n",
       "$k\n",
       "[1] -Inf    0  916\n",
       "\n",
       "$method\n",
       "[1] \"misclass\"\n",
       "\n",
       "attr(,\"class\")\n",
       "[1] \"prune\"         \"tree.sequence\""
      ]
     },
     "metadata": {},
     "output_type": "display_data"
    },
    {
     "data": {
      "image/png": "[encoded data removed]",
      "text/plain": [
       "plot without title"
      ]
     },
     "metadata": {
      "image/png": {
       "height": 420,
       "width": 420
      }
     },
     "output_type": "display_data"
    },
    {
     "data": {
      "image/png": "[encoded data removed]",
      "text/plain": [
       "plot without title"
      ]
     },
     "metadata": {
      "image/png": {
       "height": 420,
       "width": 420
      }
     },
     "output_type": "display_data"
    },
    {
     "data": {
      "image/png": "[encoded data removed]",
      "text/plain": [
       "plot without title"
      ]
     },
     "metadata": {
      "image/png": {
       "height": 420,
       "width": 420
      }
     },
     "output_type": "display_data"
    }
   ],
   "source": [
    "#########decision tree#####\n",
    "tree.UCI = tree(UCI~ NEUMONIA+INTUBADO+DIABETES+ASMA+OBESIDAD+OTRO_CASO ,data = Train)\n",
    "summary(tree.UCI)\n",
    "plot(tree.UCI)\n",
    "text(tree.UCI, pretty=0)\n",
    "tree.pred = predict(tree.UCI, Test, type=\"class\")\n",
    "table(tree.pred,Test$UCI)\n",
    "mean(tree.pred==Test$UCI)\n",
    "\n",
    "cv.tree.uci = cv.tree(tree.UCI, FUN = prune.misclass)\n",
    "names(cv.tree.uci)\n",
    "cv.tree.uci\n",
    "plot(cv.tree.uci$size, cv.tree.uci$dev,type=\"b\")\n",
    "plot(cv.tree.uci$k,cv.tree.uci$dev,type=\"b\")\n"
   ]
  },
  {
   "cell_type": "code",
   "execution_count": 9,
   "metadata": {},
   "outputs": [
    {
     "data": {
      "text/html": [
       "0.749084626017509"
      ],
      "text/latex": [
       "0.749084626017509"
      ],
      "text/markdown": [
       "0.749084626017509"
      ],
      "text/plain": [
       "[1] 0.7490846"
      ]
     },
     "metadata": {},
     "output_type": "display_data"
    },
    {
     "data": {
      "image/png": "[encoded data removed]",
      "text/plain": [
       "Plot with title \"Accuracy using  10 - fold CV\""
      ]
     },
     "metadata": {
      "image/png": {
       "height": 420,
       "width": 420
      }
     },
     "output_type": "display_data"
    },
    {
     "data": {
      "image/png": "[encoded data removed]",
      "text/plain": [
       "Plot with title \"Árbol\""
      ]
     },
     "metadata": {
      "image/png": {
       "height": 420,
       "width": 420
      }
     },
     "output_type": "display_data"
    }
   ],
   "source": [
    "######kfolds tree\n",
    "n <- dim(cv)[1]\n",
    "k <- 10\n",
    "\n",
    "\n",
    "folds <- cut(1:n,k,labels = F)\n",
    "acc = rep(0,k) #presicion del modelo\n",
    "for (i in 1:k){\n",
    "  index = folds == i\n",
    "  test = cv[index,]\n",
    "  train = cv[-index,]\n",
    "  reg =tree(UCI~ NEUMONIA+INTUBADO+DIABETES+ASMA+OBESIDAD+OTRO_CASO ,data = train)\n",
    "  \n",
    "  y = test$UCI\n",
    "  res = predict(reg, test, type=\"class\") #Si yhat > 0.5 entonces 1, si no 0\n",
    "  \n",
    "  clasiferror <- mean(y != res)\n",
    "  \n",
    "  acc[i] = 1 - clasiferror\n",
    "}\n",
    "mean(acc) #Presicion promedio del modelo\n",
    "\n",
    "hist(acc, main = paste(\"Accuracy using \", k, \"- fold CV\"))\n",
    "boxplot(acc,main=\"Árbol\",xlabel=\"Precisión\")\n"
   ]
  }
 ],
 "metadata": {
  "kernelspec": {
   "display_name": "R",
   "language": "R",
   "name": "ir"
  },
  "language_info": {
   "codemirror_mode": "r",
   "file_extension": ".r",
   "mimetype": "text/x-r-source",
   "name": "R",
   "pygments_lexer": "r",
   "version": "3.6.2"
  }
 },
 "nbformat": 4,
 "nbformat_minor": 2
}
