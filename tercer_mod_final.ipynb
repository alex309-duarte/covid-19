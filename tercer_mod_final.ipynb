{
 "cells": [
  {
   "cell_type": "code",
   "execution_count": 5,
   "metadata": {},
   "outputs": [],
   "source": [
    "suppressMessages(library(dplyr))\n",
    "suppressMessages(library(verification))\n",
    "suppressMessages(library(class))\n",
    "library(tree)"
   ]
  },
  {
   "cell_type": "code",
   "execution_count": 6,
   "metadata": {},
   "outputs": [
    {
     "name": "stderr",
     "output_type": "stream",
     "text": [
      "Warning message in 1:dim(cv):\n",
      "\"numerical expression has 2 elements: only the first used\"\n"
     ]
    }
   ],
   "source": [
    "#setwd('6to Semestre')\n",
    "#setwd('Temas Selectos de Matemáticas')\n",
    "#setwd('Covid')\n",
    "setwd(\"C:/Users/sole-/Documents/Tecnologia/Sexto semestre/Temas compu\")\n",
    "cv=read.csv(\"covid.csv\",header=T)\n",
    "cv <- na.omit(cv)\n",
    "cv=cv%>%tbl_df()\n",
    "cv=cv%>%filter(as.numeric(RESULTADO)<=1)\n",
    "cv$FECHA_DEF = ifelse(cv$FECHA_DEF !=\"9999-99-99\",1,0)\n",
    "\n",
    "p = cv %>% filter(FECHA_DEF == 0) %>% summarize(p=n())  \n",
    "num_negativo = p[[1]] #total de casos negativos\n",
    "p = cv %>% filter(FECHA_DEF == 1) %>% summarize(p=n())\n",
    "num_positivos = p[[1]] #numero de casos positivos\n",
    "\n",
    "cv_covid_negativo = cv %>% filter(FECHA_DEF == 0)\n",
    "cv_covid_positivo = cv %>% filter(FECHA_DEF == 1)\n",
    "h = sample(1:num_negativo,num_positivos,replace = FALSE) #generamos numeros aleatorios\n",
    "cv_int = cv_covid_negativo %>% slice(h)\n",
    "cv <- bind_rows(cv_int,cv_covid_positivo)#50% que han muerto y 50% que estan vivos\n",
    "\n",
    "#str(cv)\n",
    "cv$FECHA_DEF <- as.factor(cv$FECHA_DEF)\n",
    "cv$ORIGEN <- as.factor(cv$ORIGEN)\n",
    "cv$SECTOR <- as.factor(cv$SECTOR)\n",
    "cv$ENTIDAD_UM<- as.factor(cv$ENTIDAD_UM)\n",
    "cv$SEXO <- as.factor(cv$SEXO)\n",
    "cv$ENTIDAD_NAC <- as.factor(cv$ENTIDAD_NAC)\n",
    "cv$ENTIDAD_RES <- as.factor(cv$ENTIDAD_RES)\n",
    "cv$MUNICIPIO_RES <- as.factor(cv$MUNICIPIO_RES)\n",
    "cv$TIPO_PACIENTE <- as.factor(cv$TIPO_PACIENTE)\n",
    "cv$INTUBADO <- as.factor(cv$INTUBADO )\n",
    "cv$NEUMONIA  <- as.factor(cv$NEUMONIA )\n",
    "cv$NACIONALIDAD <- as.factor(cv$NACIONALIDAD)\n",
    "cv$EMBARAZO <- as.factor(cv$EMBARAZO)\n",
    "cv$HABLA_LENGUA_INDI <- as.factor(cv$HABLA_LENGUA_INDIG)\n",
    "cv$DIABETES <- as.factor(cv$DIABETES)\n",
    "cv$EPOC <- as.factor(cv$EPOC)\n",
    "cv$ASMA <- as.factor(cv$ASMA)\n",
    "cv$INMUSUPR  <- as.factor(cv$INMUSUPR  )\n",
    "cv$HIPERTENSION   <- as.factor(cv$HIPERTENSION  )\n",
    "cv$OTRA_CON <- as.factor(cv$OTRA_COM)\n",
    "cv$CARDIOVASCULAR <- as.factor(cv$CARDIOVASCULAR)\n",
    "cv$OBESIDAD  <- as.factor(cv$OBESIDAD )\n",
    "cv$RENAL_CRONICA  <- as.factor(cv$RENAL_CRONICA )\n",
    "cv$TABAQUISMO <- as.factor(cv$TABAQUISMO)\n",
    "cv$OTRO_CASO  <- as.factor(cv$OTRO_CASO  )\n",
    "cv$RESULTADO    <- as.factor(cv$RESULTADO  )\n",
    "cv$MIGRANTE <- as.factor(cv$MIGRANTE)\n",
    "cv$UCI <- as.factor(cv$UCI)\n",
    "cv$FECHA_DEF = as.factor(cv$FECHA_DEF)\n",
    "attach(cv)\n",
    "#str(cv)\n",
    "index <- sample(1:dim(cv), (dim(cv)/2), replace = F)\n",
    "Train <- cv[index,]\n",
    "Test <- cv[-index,]\n"
   ]
  },
  {
   "cell_type": "code",
   "execution_count": 7,
   "metadata": {},
   "outputs": [
    {
     "data": {
      "text/plain": [
       "\n",
       "Call:\n",
       "glm(formula = FECHA_DEF ~ SEXO + NEUMONIA + OBESIDAD + HIPERTENSION + \n",
       "    DIABETES + EDAD + INTUBADO + UCI + EPOC + OTRO_CASO + OTRA_CON, \n",
       "    family = \"binomial\", data = Train)\n",
       "\n",
       "Deviance Residuals: \n",
       "     Min        1Q    Median        3Q       Max  \n",
       "-3.14701  -0.42124   0.08631   0.57111   2.74859  \n",
       "\n",
       "Coefficients: (2 not defined because of singularities)\n",
       "                Estimate Std. Error z value Pr(>|z|)    \n",
       "(Intercept)      1.22265    0.26616   4.594 4.35e-06 ***\n",
       "SEXO2            0.36695    0.05124   7.161 8.00e-13 ***\n",
       "NEUMONIA2       -1.41331    0.05553 -25.450  < 2e-16 ***\n",
       "OBESIDAD2       -0.35961    0.05876  -6.120 9.33e-10 ***\n",
       "OBESIDAD98      -0.27563    0.39950  -0.690   0.4902    \n",
       "HIPERTENSION2   -0.27780    0.05794  -4.795 1.63e-06 ***\n",
       "HIPERTENSION98  -1.36538    0.77648  -1.758   0.0787 .  \n",
       "DIABETES2       -0.37003    0.05854  -6.321 2.59e-10 ***\n",
       "DIABETES98      -0.60160    0.57025  -1.055   0.2914    \n",
       "EDAD             0.04803    0.00178  26.987  < 2e-16 ***\n",
       "INTUBADO2       -2.07152    0.14598 -14.191  < 2e-16 ***\n",
       "INTUBADO97      -3.96135    0.15853 -24.988  < 2e-16 ***\n",
       "INTUBADO99      10.52582  117.53089   0.090   0.9286    \n",
       "UCI2            -0.22809    0.12683  -1.798   0.0721 .  \n",
       "UCI97                 NA         NA      NA       NA    \n",
       "UCI99                 NA         NA      NA       NA    \n",
       "EPOC2           -0.27884    0.13926  -2.002   0.0452 *  \n",
       "EPOC98           0.52430    0.79123   0.663   0.5076    \n",
       "OTRO_CASO2       0.43423    0.07529   5.767 8.05e-09 ***\n",
       "OTRO_CASO99      1.35329    0.07305  18.527  < 2e-16 ***\n",
       "OTRA_CON2       -0.26798    0.12503  -2.143   0.0321 *  \n",
       "OTRA_CON98       0.08364    0.48970   0.171   0.8644    \n",
       "---\n",
       "Signif. codes:  0 '***' 0.001 '**' 0.01 '*' 0.05 '.' 0.1 ' ' 1\n",
       "\n",
       "(Dispersion parameter for binomial family taken to be 1)\n",
       "\n",
       "    Null deviance: 20308  on 14648  degrees of freedom\n",
       "Residual deviance: 10607  on 14629  degrees of freedom\n",
       "AIC: 10647\n",
       "\n",
       "Number of Fisher Scoring iterations: 12\n"
      ]
     },
     "metadata": {},
     "output_type": "display_data"
    },
    {
     "name": "stderr",
     "output_type": "stream",
     "text": [
      "Warning message in predict.lm(object, newdata, se.fit, scale = 1, type = if (type == :\n",
      "\"prediction from a rank-deficient fit may be misleading\"\n"
     ]
    },
    {
     "data": {
      "text/html": [
       "0.35"
      ],
      "text/latex": [
       "0.35"
      ],
      "text/markdown": [
       "0.35"
      ],
      "text/plain": [
       "[1] 0.35"
      ]
     },
     "metadata": {},
     "output_type": "display_data"
    },
    {
     "data": {
      "text/html": [
       "0.849682572189228"
      ],
      "text/latex": [
       "0.849682572189228"
      ],
      "text/markdown": [
       "0.849682572189228"
      ],
      "text/plain": [
       "[1] 0.8496826"
      ]
     },
     "metadata": {},
     "output_type": "display_data"
    },
    {
     "data": {
      "image/png": "[encoded data removed]",
      "text/plain": [
       "plot without title"
      ]
     },
     "metadata": {
      "image/png": {
       "height": 420,
       "width": 420
      }
     },
     "output_type": "display_data"
    }
   ],
   "source": [
    "##########LOGISTIC######\n",
    "  glm1<- glm(FECHA_DEF~ SEXO+NEUMONIA+OBESIDAD+HIPERTENSION+DIABETES+EDAD+INTUBADO+UCI+EPOC+OTRO_CASO+OTRA_CON,family=\"binomial\" ,data = Train)\n",
    "  summary(glm1)\n",
    "  yhat2<- predict(glm1, Test,type=\"response\")\n",
    "  #para elegir la mejor y evaluamos los posibles valores, desde 0.1 hasta 1 y vemos cual es el mean menor \n",
    "  #se repite 91 veces \n",
    "  size=1\n",
    "  val_mean <- rep(0,91)\n",
    "  for(i in seq(0.1,1,by=0.01)){\n",
    "    y=as.integer(yhat2>i)\n",
    "    y=ifelse(y ==\"0\",0,1)\n",
    "    val_mean[size]=mean(y == Test$FECHA_DEF)\n",
    "    size=size+1\n",
    "  }\n",
    "  size=2\n",
    "  lugar=1\n",
    "  mejor=val_mean[lugar]\n",
    "  for(i in seq(0.11,1,by=0.01)){\n",
    "    if(val_mean[size]>mejor){\n",
    "      mejor=val_mean[size]\n",
    "      b=i\n",
    "      lugar=size\n",
    "    }\n",
    "    size=size+1\n",
    "  }\n",
    "  y=seq(0.1,1,by=0.01)\n",
    "  plot(y,val_mean,xlab = \"iterador\", ylab = \"valor mean\")\n",
    "  points(b, val_mean[lugar],  col = \"orange\", lwd = 10)\n",
    " ###valores elegidos\n",
    "   b\n",
    "  val_mean[lugar]"
   ]
  },
  {
   "cell_type": "code",
   "execution_count": 8,
   "metadata": {},
   "outputs": [
    {
     "name": "stderr",
     "output_type": "stream",
     "text": [
      "Warning message in predict.lm(object, newdata, se.fit, scale = 1, type = if (type == :\n",
      "\"prediction from a rank-deficient fit may be misleading\"\n",
      "Warning message in predict.lm(object, newdata, se.fit, scale = 1, type = if (type == :\n",
      "\"prediction from a rank-deficient fit may be misleading\"\n",
      "Warning message in predict.lm(object, newdata, se.fit, scale = 1, type = if (type == :\n",
      "\"prediction from a rank-deficient fit may be misleading\"\n",
      "Warning message in predict.lm(object, newdata, se.fit, scale = 1, type = if (type == :\n",
      "\"prediction from a rank-deficient fit may be misleading\"\n",
      "Warning message in predict.lm(object, newdata, se.fit, scale = 1, type = if (type == :\n",
      "\"prediction from a rank-deficient fit may be misleading\"\n",
      "Warning message in predict.lm(object, newdata, se.fit, scale = 1, type = if (type == :\n",
      "\"prediction from a rank-deficient fit may be misleading\"\n",
      "Warning message in predict.lm(object, newdata, se.fit, scale = 1, type = if (type == :\n",
      "\"prediction from a rank-deficient fit may be misleading\"\n",
      "Warning message in predict.lm(object, newdata, se.fit, scale = 1, type = if (type == :\n",
      "\"prediction from a rank-deficient fit may be misleading\"\n",
      "Warning message in predict.lm(object, newdata, se.fit, scale = 1, type = if (type == :\n",
      "\"prediction from a rank-deficient fit may be misleading\"\n",
      "Warning message in predict.lm(object, newdata, se.fit, scale = 1, type = if (type == :\n",
      "\"prediction from a rank-deficient fit may be misleading\"\n"
     ]
    },
    {
     "data": {
      "text/html": [
       "0.849136561884975"
      ],
      "text/latex": [
       "0.849136561884975"
      ],
      "text/markdown": [
       "0.849136561884975"
      ],
      "text/plain": [
       "[1] 0.8491366"
      ]
     },
     "metadata": {},
     "output_type": "display_data"
    },
    {
     "data": {
      "image/png": "[encoded data removed]",
      "text/plain": [
       "Plot with title \"Accuracy using  10 - fold CV\""
      ]
     },
     "metadata": {
      "image/png": {
       "height": 420,
       "width": 420
      }
     },
     "output_type": "display_data"
    },
    {
     "data": {
      "image/png": "[encoded data removed]",
      "text/plain": [
       "Plot with title \"precisión\""
      ]
     },
     "metadata": {
      "image/png": {
       "height": 420,
       "width": 420
      }
     },
     "output_type": "display_data"
    }
   ],
   "source": [
    "#################### k-folds glm\n",
    "n <- dim(cv)[1]\n",
    "k <- 10\n",
    "\n",
    "\n",
    "folds <- cut(1:n,k,labels = F)\n",
    "acc = rep(0,k) #presicion del modelo\n",
    "for (i in 1:k){\n",
    "  index = folds == i\n",
    "  test = cv[index,]\n",
    "  train = cv[-index,]\n",
    "  reg = glm.c <-glm(FECHA_DEF~ SEXO+NEUMONIA+OBESIDAD+HIPERTENSION+DIABETES+EDAD+INTUBADO+UCI+EPOC+OTRO_CASO+OTRA_CON,family=\"binomial\" ,data = train)\n",
    "  \n",
    "  y = test$FECHA_DEF\n",
    "  yhat = predict(reg,test,type = \"response\")\n",
    "  res = ifelse(yhat >b,1,0) #Si yhat > 0.5 entonces 1, si no 0\n",
    "  \n",
    "  clasiferror <- mean(y != res)\n",
    "  \n",
    "  acc[i] = 1 - clasiferror\n",
    "}\n",
    "mean(acc) #Presicion promedio del modelo\n",
    "\n",
    "hist(acc, main = paste(\"Accuracy using \", k, \"- fold CV\"))\n",
    "boxplot(acc,main=\"precisión\")\n",
    "\n"
   ]
  },
  {
   "cell_type": "code",
   "execution_count": 9,
   "metadata": {},
   "outputs": [
    {
     "name": "stderr",
     "output_type": "stream",
     "text": [
      "Warning message in lda.default(x, grouping, ...):\n",
      "\"variables are collinear\"\n"
     ]
    },
    {
     "data": {
      "text/plain": [
       "     \n",
       "yhat1    0    1\n",
       "    0 5809  748\n",
       "    1 1545 6547"
      ]
     },
     "metadata": {},
     "output_type": "display_data"
    },
    {
     "data": {
      "text/html": [
       "0.843470544064441"
      ],
      "text/latex": [
       "0.843470544064441"
      ],
      "text/markdown": [
       "0.843470544064441"
      ],
      "text/plain": [
       "[1] 0.8434705"
      ]
     },
     "metadata": {},
     "output_type": "display_data"
    }
   ],
   "source": [
    "#######LDA#####\n",
    "lda1 <- lda(FECHA_DEF~ SEXO+NEUMONIA+OBESIDAD+HIPERTENSION+DIABETES+EDAD+INTUBADO+UCI+EPOC+OTRO_CASO+OTRA_CON,family=\"binomial\" ,data = Train)\n",
    "yhat1 <- predict(lda1, Test)$class\n",
    "table(yhat1,Test$FECHA_DEF)\n",
    "mean(yhat1 == Test$FECHA_DEF)"
   ]
  },
  {
   "cell_type": "code",
   "execution_count": 10,
   "metadata": {},
   "outputs": [
    {
     "name": "stderr",
     "output_type": "stream",
     "text": [
      "Warning message in lda.default(x, grouping, ...):\n",
      "\"variables are collinear\"\n",
      "Warning message in lda.default(x, grouping, ...):\n",
      "\"variables are collinear\"\n",
      "Warning message in lda.default(x, grouping, ...):\n",
      "\"variables are collinear\"\n",
      "Warning message in lda.default(x, grouping, ...):\n",
      "\"variables are collinear\"\n",
      "Warning message in lda.default(x, grouping, ...):\n",
      "\"variables are collinear\"\n",
      "Warning message in lda.default(x, grouping, ...):\n",
      "\"variables are collinear\"\n",
      "Warning message in lda.default(x, grouping, ...):\n",
      "\"variables are collinear\"\n",
      "Warning message in lda.default(x, grouping, ...):\n",
      "\"variables are collinear\"\n",
      "Warning message in lda.default(x, grouping, ...):\n",
      "\"variables are collinear\"\n",
      "Warning message in lda.default(x, grouping, ...):\n",
      "\"variables are collinear\"\n"
     ]
    },
    {
     "data": {
      "text/html": [
       "0.841832411439332"
      ],
      "text/latex": [
       "0.841832411439332"
      ],
      "text/markdown": [
       "0.841832411439332"
      ],
      "text/plain": [
       "[1] 0.8418324"
      ]
     },
     "metadata": {},
     "output_type": "display_data"
    },
    {
     "data": {
      "image/png": "[encoded data removed]",
      "text/plain": [
       "Plot with title \"Accuracy using  10 - fold CV\""
      ]
     },
     "metadata": {
      "image/png": {
       "height": 420,
       "width": 420
      }
     },
     "output_type": "display_data"
    },
    {
     "data": {
      "image/png": "[encoded data removed]",
      "text/plain": [
       "Plot with title \"LDA\""
      ]
     },
     "metadata": {
      "image/png": {
       "height": 420,
       "width": 420
      }
     },
     "output_type": "display_data"
    }
   ],
   "source": [
    "######kfolds lda\n",
    "n <- dim(cv)[1]\n",
    "k <- 10\n",
    "\n",
    "\n",
    "folds <- cut(1:n,k,labels = F)\n",
    "acc = rep(0,k) #presicion del modelo\n",
    "for (i in 1:k){\n",
    "  index = folds == i\n",
    "  test = cv[index,]\n",
    "  train = cv[-index,]\n",
    "  reg = lda(FECHA_DEF~ SEXO+NEUMONIA+OBESIDAD+HIPERTENSION+DIABETES+EDAD+INTUBADO+UCI+EPOC+OTRO_CASO+OTRA_CON,family=\"binomial\" ,data = train)\n",
    "  \n",
    "  y = test$FECHA_DEF\n",
    "  res = predict(reg, test)$class #Si yhat > 0.5 entonces 1, si no 0\n",
    "  \n",
    "  clasiferror <- mean(y != res)\n",
    "  \n",
    "  acc[i] = 1 - clasiferror\n",
    "}\n",
    "mean(acc) #Presicion promedio del modelo\n",
    "\n",
    "hist(acc, main = paste(\"Accuracy using \", k, \"- fold CV\"))\n",
    "boxplot(acc,main=\"LDA\",xlabel=\"Precisión\")"
   ]
  },
  {
   "cell_type": "code",
   "execution_count": 11,
   "metadata": {},
   "outputs": [
    {
     "name": "stdout",
     "output_type": "stream",
     "text": [
      "[1] \"la mejor k fue: \"\n"
     ]
    },
    {
     "data": {
      "text/html": [
       "12"
      ],
      "text/latex": [
       "12"
      ],
      "text/markdown": [
       "12"
      ],
      "text/plain": [
       "[1] 12"
      ]
     },
     "metadata": {},
     "output_type": "display_data"
    },
    {
     "data": {
      "text/html": [
       "0.841013038432658"
      ],
      "text/latex": [
       "0.841013038432658"
      ],
      "text/markdown": [
       "0.841013038432658"
      ],
      "text/plain": [
       "[1] 0.841013"
      ]
     },
     "metadata": {},
     "output_type": "display_data"
    },
    {
     "data": {
      "image/png": "[encoded data removed]",
      "text/plain": [
       "plot without title"
      ]
     },
     "metadata": {
      "image/png": {
       "height": 420,
       "width": 420
      }
     },
     "output_type": "display_data"
    }
   ],
   "source": [
    "#############KNN#####\n",
    "knn_val <- rep(1:20)\n",
    "end= nrow(cv_covid_positivo)#numero de valores\n",
    "mayor=0\n",
    "for(n in 1:20){\n",
    "  knn.pred <- knn(cbind(Train$SEXO,Train$NEUMONIA,Train$OBESIDAD,Train$HIPERTENSION,Train$DIABETES,\n",
    "                        Train$EDAD,Train$INTUBADO,Train$UCI,Train$EPOC,Train$OTRO_CASO,Train$OTRA_CON), \n",
    "                  cbind(Test$SEXO,Test$NEUMONIA,Test$OBESIDAD,Test$HIPERTENSION,Test$DIABETES,\n",
    "                        Test$EDAD,Test$INTUBADO,Test$UCI,Test$EPOC,Test$OTRO_CASO,Test$OTRA_CON), \n",
    "                  Train$FECHA_DEF, k=n)\n",
    "  error= mean(Test$FECHA_DEF == knn.pred)\n",
    "  knn_val[n]=error\n",
    "  if(error>mayor){\n",
    "    mayor=error\n",
    "    k_best=n\n",
    "  }\n",
    "}\n",
    "print(\"la mejor k fue: \")\n",
    "k_best\n",
    "mayor   \n",
    "boxplot(knn_val)"
   ]
  },
  {
   "cell_type": "code",
   "execution_count": 12,
   "metadata": {},
   "outputs": [
    {
     "data": {
      "text/plain": [
       "\n",
       "Classification tree:\n",
       "tree(formula = FECHA_DEF ~ SEXO + NEUMONIA + OBESIDAD + HIPERTENSION + \n",
       "    DIABETES + EDAD + INTUBADO + UCI + EPOC + OTRO_CASO + OTRA_CON, \n",
       "    data = Train)\n",
       "Variables actually used in tree construction:\n",
       "[1] \"INTUBADO\" \"NEUMONIA\" \"EDAD\"    \n",
       "Number of terminal nodes:  6 \n",
       "Residual mean deviance:  0.7544 = 11050 / 14640 \n",
       "Misclassification error rate: 0.1647 = 2413 / 14649 "
      ]
     },
     "metadata": {},
     "output_type": "display_data"
    },
    {
     "data": {
      "text/plain": [
       "         \n",
       "tree.pred    0    1\n",
       "        0 5262  322\n",
       "        1 2092 6973"
      ]
     },
     "metadata": {},
     "output_type": "display_data"
    },
    {
     "data": {
      "text/html": [
       "0.835210594579835"
      ],
      "text/latex": [
       "0.835210594579835"
      ],
      "text/markdown": [
       "0.835210594579835"
      ],
      "text/plain": [
       "[1] 0.8352106"
      ]
     },
     "metadata": {},
     "output_type": "display_data"
    },
    {
     "data": {
      "text/html": [
       "<style>\n",
       ".list-inline {list-style: none; margin:0; padding: 0}\n",
       ".list-inline>li {display: inline-block}\n",
       ".list-inline>li:not(:last-child)::after {content: \"\\00b7\"; padding: 0 .5ex}\n",
       "</style>\n",
       "<ol class=list-inline><li>'size'</li><li>'dev'</li><li>'k'</li><li>'method'</li></ol>\n"
      ],
      "text/latex": [
       "\\begin{enumerate*}\n",
       "\\item 'size'\n",
       "\\item 'dev'\n",
       "\\item 'k'\n",
       "\\item 'method'\n",
       "\\end{enumerate*}\n"
      ],
      "text/markdown": [
       "1. 'size'\n",
       "2. 'dev'\n",
       "3. 'k'\n",
       "4. 'method'\n",
       "\n",
       "\n"
      ],
      "text/plain": [
       "[1] \"size\"   \"dev\"    \"k\"      \"method\""
      ]
     },
     "metadata": {},
     "output_type": "display_data"
    },
    {
     "data": {
      "text/plain": [
       "$size\n",
       "[1] 6 3 2 1\n",
       "\n",
       "$dev\n",
       "[1] 2413 2413 2663 7358\n",
       "\n",
       "$k\n",
       "[1] -Inf    0  250 4632\n",
       "\n",
       "$method\n",
       "[1] \"misclass\"\n",
       "\n",
       "attr(,\"class\")\n",
       "[1] \"prune\"         \"tree.sequence\""
      ]
     },
     "metadata": {},
     "output_type": "display_data"
    },
    {
     "data": {
      "image/png": "[encoded data removed]",
      "text/plain": [
       "plot without title"
      ]
     },
     "metadata": {
      "image/png": {
       "height": 420,
       "width": 420
      }
     },
     "output_type": "display_data"
    },
    {
     "data": {
      "image/png": "[encoded data removed]",
      "text/plain": [
       "plot without title"
      ]
     },
     "metadata": {
      "image/png": {
       "height": 420,
       "width": 420
      }
     },
     "output_type": "display_data"
    },
    {
     "data": {
      "image/png": "[encoded data removed]",
      "text/plain": [
       "plot without title"
      ]
     },
     "metadata": {
      "image/png": {
       "height": 420,
       "width": 420
      }
     },
     "output_type": "display_data"
    }
   ],
   "source": [
    "######## desicion tree####\n",
    "tree.muerte = tree(FECHA_DEF~ SEXO+NEUMONIA+OBESIDAD+HIPERTENSION+DIABETES+EDAD+INTUBADO+UCI+EPOC+OTRO_CASO+OTRA_CON,data = Train)\n",
    "summary(tree.muerte)\n",
    "plot(tree.muerte)\n",
    "text(tree.muerte, pretty=0)\n",
    "tree.pred = predict(tree.muerte, Test, type=\"class\")\n",
    "table(tree.pred,Test$FECHA_DEF)\n",
    "mean(tree.pred==Test$FECHA_DEF)\n",
    "\n",
    "cv.tree.muerte = cv.tree(tree.muerte, FUN = prune.misclass)\n",
    "names(cv.tree.muerte)\n",
    "cv.tree.muerte\n",
    "plot(cv.tree.muerte$size, cv.tree.muerte$dev,type=\"b\")\n",
    "plot(cv.tree.muerte$k,cv.tree.muerte$dev,type=\"b\")\n"
   ]
  },
  {
   "cell_type": "code",
   "execution_count": 13,
   "metadata": {},
   "outputs": [
    {
     "data": {
      "text/html": [
       "0.835245007847848"
      ],
      "text/latex": [
       "0.835245007847848"
      ],
      "text/markdown": [
       "0.835245007847848"
      ],
      "text/plain": [
       "[1] 0.835245"
      ]
     },
     "metadata": {},
     "output_type": "display_data"
    },
    {
     "data": {
      "image/png": "[encoded data removed]",
      "text/plain": [
       "Plot with title \"Accuracy using  10 - fold CV\""
      ]
     },
     "metadata": {
      "image/png": {
       "height": 420,
       "width": 420
      }
     },
     "output_type": "display_data"
    },
    {
     "data": {
      "image/png": "[encoded data removed]",
      "text/plain": [
       "Plot with title \"Árbol\""
      ]
     },
     "metadata": {
      "image/png": {
       "height": 420,
       "width": 420
      }
     },
     "output_type": "display_data"
    }
   ],
   "source": [
    "#######kfolds desicion tree\n",
    "n <- dim(cv)[1]\n",
    "k <- 10\n",
    "\n",
    "\n",
    "folds <- cut(1:n,k,labels = F)\n",
    "acc = rep(0,k) #presicion del modelo\n",
    "for (i in 1:k){\n",
    "  index = folds == i\n",
    "  test = cv[index,]\n",
    "  train = cv[-index,]\n",
    "  reg =tree(FECHA_DEF~ SEXO+NEUMONIA+OBESIDAD+HIPERTENSION+DIABETES+EDAD+INTUBADO+UCI+EPOC+OTRO_CASO+OTRA_CON,data = train)\n",
    "  \n",
    "  y = test$FECHA_DEF\n",
    "  res = predict(reg, test, type=\"class\") #Si yhat > 0.5 entonces 1, si no 0\n",
    "  \n",
    "  clasiferror <- mean(y != res)\n",
    "  \n",
    "  acc[i] = 1 - clasiferror\n",
    "}\n",
    "mean(acc) #Presicion promedio del modelo\n",
    "\n",
    "hist(acc, main = paste(\"Accuracy using \", k, \"- fold CV\"))\n",
    "boxplot(acc,main=\"Árbol\",xlabel=\"Precisión\")"
   ]
  }
 ],
 "metadata": {
  "kernelspec": {
   "display_name": "R",
   "language": "R",
   "name": "ir"
  },
  "language_info": {
   "codemirror_mode": "r",
   "file_extension": ".r",
   "mimetype": "text/x-r-source",
   "name": "R",
   "pygments_lexer": "r",
   "version": "3.6.2"
  }
 },
 "nbformat": 4,
 "nbformat_minor": 2
}
