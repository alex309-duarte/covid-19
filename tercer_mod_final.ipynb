{
 "cells": [
  {
   "cell_type": "code",
   "execution_count": 2,
   "metadata": {},
   "outputs": [
    {
     "name": "stderr",
     "output_type": "stream",
     "text": [
      "Warning message:\n",
      "\"package 'dplyr' was built under R version 3.6.3\"\n",
      "Warning message:\n",
      "\"package 'verification' was built under R version 3.6.3\"\n",
      "Warning message:\n",
      "\"package 'fields' was built under R version 3.6.3\"\n",
      "Warning message:\n",
      "\"package 'spam' was built under R version 3.6.3\"\n",
      "Warning message:\n",
      "\"package 'dotCall64' was built under R version 3.6.3\"\n",
      "Warning message:\n",
      "\"package 'maps' was built under R version 3.6.3\"\n",
      "Warning message:\n",
      "\"package 'CircStats' was built under R version 3.6.3\"\n",
      "Warning message:\n",
      "\"package 'dtw' was built under R version 3.6.3\"\n",
      "Warning message:\n",
      "\"package 'proxy' was built under R version 3.6.3\"\n",
      "Warning message:\n",
      "\"package 'tree' was built under R version 3.6.3\"\n"
     ]
    }
   ],
   "source": [
    "suppressMessages(library(dplyr))\n",
    "suppressMessages(library(verification))\n",
    "suppressMessages(library(class))\n",
    "library(tree)"
   ]
  },
  {
   "cell_type": "code",
   "execution_count": 4,
   "metadata": {},
   "outputs": [
    {
     "data": {
      "text/html": [
       "<table>\n",
       "<caption>A tibble: 27022 × 35</caption>\n",
       "<thead>\n",
       "\t<tr><th scope=col>FECHA_ACTUALIZACION</th><th scope=col>ID_REGISTRO</th><th scope=col>ORIGEN</th><th scope=col>SECTOR</th><th scope=col>ENTIDAD_UM</th><th scope=col>SEXO</th><th scope=col>ENTIDAD_NAC</th><th scope=col>ENTIDAD_RES</th><th scope=col>MUNICIPIO_RES</th><th scope=col>TIPO_PACIENTE</th><th scope=col>...</th><th scope=col>CARDIOVASCULAR</th><th scope=col>OBESIDAD</th><th scope=col>RENAL_CRONICA</th><th scope=col>TABAQUISMO</th><th scope=col>OTRO_CASO</th><th scope=col>RESULTADO</th><th scope=col>MIGRANTE</th><th scope=col>PAIS_NACIONALIDAD</th><th scope=col>PAIS_ORIGEN</th><th scope=col>UCI</th></tr>\n",
       "\t<tr><th scope=col>&lt;fct&gt;</th><th scope=col>&lt;fct&gt;</th><th scope=col>&lt;int&gt;</th><th scope=col>&lt;int&gt;</th><th scope=col>&lt;int&gt;</th><th scope=col>&lt;int&gt;</th><th scope=col>&lt;int&gt;</th><th scope=col>&lt;int&gt;</th><th scope=col>&lt;int&gt;</th><th scope=col>&lt;int&gt;</th><th scope=col>...</th><th scope=col>&lt;int&gt;</th><th scope=col>&lt;int&gt;</th><th scope=col>&lt;int&gt;</th><th scope=col>&lt;int&gt;</th><th scope=col>&lt;int&gt;</th><th scope=col>&lt;int&gt;</th><th scope=col>&lt;int&gt;</th><th scope=col>&lt;fct&gt;</th><th scope=col>&lt;fct&gt;</th><th scope=col>&lt;int&gt;</th></tr>\n",
       "</thead>\n",
       "<tbody>\n",
       "\t<tr><td>2020-06-06</td><td>0f12bb</td><td>2</td><td>12</td><td> 9</td><td>2</td><td> 9</td><td> 9</td><td>  7</td><td>2</td><td>...</td><td>2</td><td> 2</td><td>1</td><td>2</td><td> 2</td><td>1</td><td>99</td><td>MÃ©xico</td><td>99</td><td> 1</td></tr>\n",
       "\t<tr><td>2020-06-06</td><td>10975f</td><td>1</td><td>12</td><td>27</td><td>2</td><td>27</td><td>27</td><td>  4</td><td>2</td><td>...</td><td>2</td><td> 2</td><td>2</td><td>2</td><td> 2</td><td>1</td><td>99</td><td>MÃ©xico</td><td>99</td><td> 2</td></tr>\n",
       "\t<tr><td>2020-06-06</td><td>0e6f59</td><td>1</td><td>12</td><td> 9</td><td>2</td><td>21</td><td> 9</td><td>  7</td><td>2</td><td>...</td><td>2</td><td> 2</td><td>2</td><td>2</td><td> 2</td><td>1</td><td>99</td><td>MÃ©xico</td><td>99</td><td> 1</td></tr>\n",
       "\t<tr><td>2020-06-06</td><td>1ab58a</td><td>1</td><td> 4</td><td> 9</td><td>2</td><td> 9</td><td>15</td><td> 33</td><td>2</td><td>...</td><td>2</td><td> 1</td><td>2</td><td>2</td><td>99</td><td>1</td><td>99</td><td>MÃ©xico</td><td>99</td><td> 2</td></tr>\n",
       "\t<tr><td>2020-06-06</td><td>06ea4c</td><td>1</td><td> 4</td><td>30</td><td>1</td><td>30</td><td>30</td><td> 65</td><td>2</td><td>...</td><td>2</td><td> 2</td><td>2</td><td>2</td><td>99</td><td>1</td><td>99</td><td>MÃ©xico</td><td>99</td><td> 2</td></tr>\n",
       "\t<tr><td>2020-06-06</td><td>10f464</td><td>2</td><td>12</td><td>19</td><td>2</td><td>19</td><td>19</td><td> 26</td><td>1</td><td>...</td><td>2</td><td> 2</td><td>2</td><td>2</td><td> 1</td><td>1</td><td>99</td><td>MÃ©xico</td><td>99</td><td>97</td></tr>\n",
       "\t<tr><td>2020-06-06</td><td>12adfd</td><td>2</td><td> 4</td><td> 2</td><td>2</td><td> 7</td><td> 2</td><td>  1</td><td>2</td><td>...</td><td>2</td><td> 2</td><td>2</td><td>1</td><td>99</td><td>1</td><td>99</td><td>MÃ©xico</td><td>99</td><td> 2</td></tr>\n",
       "\t<tr><td>2020-06-06</td><td>0dcbff</td><td>2</td><td>12</td><td> 9</td><td>2</td><td>20</td><td>15</td><td> 29</td><td>2</td><td>...</td><td>2</td><td> 2</td><td>2</td><td>2</td><td> 1</td><td>1</td><td>99</td><td>MÃ©xico</td><td>99</td><td> 1</td></tr>\n",
       "\t<tr><td>2020-06-06</td><td>12afe6</td><td>1</td><td> 4</td><td>25</td><td>1</td><td>25</td><td>25</td><td> 11</td><td>2</td><td>...</td><td>2</td><td> 2</td><td>2</td><td>2</td><td>99</td><td>1</td><td>99</td><td>MÃ©xico</td><td>99</td><td> 2</td></tr>\n",
       "\t<tr><td>2020-06-06</td><td>179d6b</td><td>2</td><td> 4</td><td>15</td><td>1</td><td> 9</td><td>15</td><td> 60</td><td>1</td><td>...</td><td>2</td><td> 2</td><td>2</td><td>2</td><td>99</td><td>1</td><td>99</td><td>MÃ©xico</td><td>99</td><td>97</td></tr>\n",
       "\t<tr><td>2020-06-06</td><td>1dce87</td><td>1</td><td> 3</td><td>15</td><td>2</td><td>15</td><td>15</td><td> 25</td><td>2</td><td>...</td><td>2</td><td> 2</td><td>2</td><td>2</td><td> 1</td><td>1</td><td>99</td><td>MÃ©xico</td><td>99</td><td> 2</td></tr>\n",
       "\t<tr><td>2020-06-06</td><td>15d458</td><td>1</td><td>12</td><td> 9</td><td>2</td><td>15</td><td>15</td><td> 60</td><td>2</td><td>...</td><td>2</td><td> 1</td><td>2</td><td>2</td><td> 2</td><td>1</td><td>99</td><td>MÃ©xico</td><td>99</td><td> 2</td></tr>\n",
       "\t<tr><td>2020-06-06</td><td>14ea83</td><td>2</td><td> 4</td><td>16</td><td>1</td><td>16</td><td>16</td><td> 53</td><td>1</td><td>...</td><td>2</td><td> 1</td><td>2</td><td>2</td><td>99</td><td>1</td><td>99</td><td>MÃ©xico</td><td>99</td><td>97</td></tr>\n",
       "\t<tr><td>2020-06-06</td><td>0c9967</td><td>2</td><td>12</td><td>12</td><td>2</td><td>12</td><td>12</td><td> 29</td><td>1</td><td>...</td><td>2</td><td> 2</td><td>2</td><td>1</td><td> 1</td><td>1</td><td>99</td><td>MÃ©xico</td><td>99</td><td>97</td></tr>\n",
       "\t<tr><td>2020-06-06</td><td>13bfd8</td><td>2</td><td>12</td><td>16</td><td>2</td><td>16</td><td>16</td><td>  6</td><td>1</td><td>...</td><td>2</td><td> 2</td><td>2</td><td>1</td><td> 1</td><td>1</td><td>99</td><td>MÃ©xico</td><td>99</td><td>97</td></tr>\n",
       "\t<tr><td>2020-06-06</td><td>1c6789</td><td>2</td><td>12</td><td> 9</td><td>2</td><td>20</td><td> 9</td><td>  6</td><td>2</td><td>...</td><td>2</td><td> 2</td><td>1</td><td>2</td><td> 2</td><td>1</td><td>99</td><td>MÃ©xico</td><td>99</td><td> 2</td></tr>\n",
       "\t<tr><td>2020-06-06</td><td>0b7e1f</td><td>2</td><td> 8</td><td> 9</td><td>2</td><td> 9</td><td> 9</td><td>  2</td><td>2</td><td>...</td><td>2</td><td> 1</td><td>2</td><td>2</td><td> 2</td><td>1</td><td>99</td><td>MÃ©xico</td><td>99</td><td> 1</td></tr>\n",
       "\t<tr><td>2020-06-06</td><td>1029be</td><td>2</td><td>12</td><td>15</td><td>2</td><td>20</td><td>15</td><td> 70</td><td>2</td><td>...</td><td>2</td><td>98</td><td>2</td><td>2</td><td>99</td><td>1</td><td>99</td><td>MÃ©xico</td><td>99</td><td> 2</td></tr>\n",
       "\t<tr><td>2020-06-06</td><td>1d3dc6</td><td>2</td><td> 4</td><td> 9</td><td>2</td><td> 9</td><td> 9</td><td> 15</td><td>2</td><td>...</td><td>2</td><td> 2</td><td>2</td><td>2</td><td>99</td><td>1</td><td>99</td><td>MÃ©xico</td><td>99</td><td> 2</td></tr>\n",
       "\t<tr><td>2020-06-06</td><td>1136b5</td><td>2</td><td>12</td><td> 9</td><td>2</td><td> 9</td><td>13</td><td> 16</td><td>2</td><td>...</td><td>2</td><td> 2</td><td>2</td><td>2</td><td> 2</td><td>1</td><td>99</td><td>MÃ©xico</td><td>99</td><td> 1</td></tr>\n",
       "\t<tr><td>2020-06-06</td><td>020f91</td><td>2</td><td> 4</td><td> 9</td><td>2</td><td> 9</td><td> 9</td><td>  5</td><td>1</td><td>...</td><td>2</td><td> 1</td><td>2</td><td>1</td><td>99</td><td>1</td><td>99</td><td>MÃ©xico</td><td>99</td><td>97</td></tr>\n",
       "\t<tr><td>2020-06-06</td><td>1df8d4</td><td>2</td><td> 4</td><td> 2</td><td>2</td><td>12</td><td> 2</td><td>  3</td><td>2</td><td>...</td><td>2</td><td> 2</td><td>2</td><td>2</td><td>99</td><td>1</td><td>99</td><td>MÃ©xico</td><td>99</td><td> 2</td></tr>\n",
       "\t<tr><td>2020-06-06</td><td>0c9bad</td><td>1</td><td>12</td><td>26</td><td>1</td><td>26</td><td>26</td><td> 29</td><td>2</td><td>...</td><td>2</td><td> 2</td><td>2</td><td>2</td><td> 2</td><td>1</td><td>99</td><td>MÃ©xico</td><td>99</td><td> 2</td></tr>\n",
       "\t<tr><td>2020-06-06</td><td>020042</td><td>2</td><td>12</td><td> 9</td><td>1</td><td>15</td><td> 9</td><td>  7</td><td>1</td><td>...</td><td>2</td><td> 2</td><td>2</td><td>2</td><td> 1</td><td>1</td><td>99</td><td>MÃ©xico</td><td>99</td><td>97</td></tr>\n",
       "\t<tr><td>2020-06-06</td><td>145ee4</td><td>1</td><td> 4</td><td> 9</td><td>2</td><td> 9</td><td> 9</td><td>  7</td><td>2</td><td>...</td><td>2</td><td> 2</td><td>2</td><td>2</td><td>99</td><td>1</td><td>99</td><td>MÃ©xico</td><td>99</td><td> 2</td></tr>\n",
       "\t<tr><td>2020-06-06</td><td>1308b9</td><td>2</td><td> 4</td><td>22</td><td>2</td><td>22</td><td>22</td><td> 14</td><td>1</td><td>...</td><td>2</td><td> 1</td><td>2</td><td>1</td><td>99</td><td>1</td><td>99</td><td>MÃ©xico</td><td>99</td><td>97</td></tr>\n",
       "\t<tr><td>2020-06-06</td><td>177a87</td><td>1</td><td>12</td><td>15</td><td>2</td><td>15</td><td>15</td><td>121</td><td>2</td><td>...</td><td>2</td><td> 1</td><td>2</td><td>2</td><td> 2</td><td>1</td><td>99</td><td>MÃ©xico</td><td>99</td><td> 2</td></tr>\n",
       "\t<tr><td>2020-06-06</td><td>122ea0</td><td>2</td><td>12</td><td>15</td><td>2</td><td>15</td><td>15</td><td> 82</td><td>1</td><td>...</td><td>2</td><td> 2</td><td>2</td><td>2</td><td> 1</td><td>1</td><td>99</td><td>MÃ©xico</td><td>99</td><td>97</td></tr>\n",
       "\t<tr><td>2020-06-06</td><td>10885e</td><td>2</td><td> 4</td><td>15</td><td>1</td><td>15</td><td>15</td><td> 58</td><td>2</td><td>...</td><td>2</td><td> 2</td><td>2</td><td>2</td><td>99</td><td>1</td><td>99</td><td>MÃ©xico</td><td>99</td><td> 2</td></tr>\n",
       "\t<tr><td>2020-06-06</td><td>174ed6</td><td>1</td><td> 4</td><td>19</td><td>2</td><td>27</td><td>19</td><td> 39</td><td>2</td><td>...</td><td>2</td><td> 2</td><td>2</td><td>2</td><td>99</td><td>1</td><td>99</td><td>MÃ©xico</td><td>99</td><td> 2</td></tr>\n",
       "\t<tr><td>...</td><td>...</td><td>...</td><td>...</td><td>...</td><td>...</td><td>...</td><td>...</td><td>...</td><td>...</td><td></td><td>...</td><td>...</td><td>...</td><td>...</td><td>...</td><td>...</td><td>...</td><td>...</td><td>...</td><td>...</td></tr>\n",
       "\t<tr><td>2020-06-06</td><td>161a4b</td><td>2</td><td> 4</td><td> 9</td><td>2</td><td> 9</td><td> 9</td><td> 16</td><td>1</td><td>...</td><td>2</td><td>2</td><td>2</td><td>2</td><td>99</td><td>1</td><td>99</td><td>MÃ©xico</td><td>99</td><td>97</td></tr>\n",
       "\t<tr><td>2020-06-06</td><td>0a0fd6</td><td>1</td><td> 6</td><td> 8</td><td>2</td><td>10</td><td> 8</td><td> 37</td><td>2</td><td>...</td><td>2</td><td>2</td><td>2</td><td>2</td><td> 2</td><td>1</td><td>99</td><td>MÃ©xico</td><td>99</td><td> 2</td></tr>\n",
       "\t<tr><td>2020-06-06</td><td>008e48</td><td>2</td><td>12</td><td>14</td><td>1</td><td>14</td><td>14</td><td>101</td><td>1</td><td>...</td><td>2</td><td>2</td><td>2</td><td>1</td><td> 1</td><td>1</td><td>99</td><td>MÃ©xico</td><td>99</td><td>97</td></tr>\n",
       "\t<tr><td>2020-06-06</td><td>03b043</td><td>2</td><td> 8</td><td>19</td><td>2</td><td>19</td><td>19</td><td>  9</td><td>2</td><td>...</td><td>2</td><td>1</td><td>2</td><td>2</td><td> 1</td><td>1</td><td>99</td><td>MÃ©xico</td><td>99</td><td> 1</td></tr>\n",
       "\t<tr><td>2020-06-06</td><td>0d308e</td><td>2</td><td> 4</td><td>14</td><td>1</td><td>14</td><td>14</td><td> 39</td><td>2</td><td>...</td><td>2</td><td>1</td><td>2</td><td>2</td><td>99</td><td>1</td><td>99</td><td>MÃ©xico</td><td>99</td><td> 2</td></tr>\n",
       "\t<tr><td>2020-06-06</td><td>1e515b</td><td>1</td><td>12</td><td> 9</td><td>2</td><td> 9</td><td> 9</td><td> 14</td><td>1</td><td>...</td><td>2</td><td>2</td><td>2</td><td>2</td><td> 2</td><td>1</td><td>99</td><td>MÃ©xico</td><td>99</td><td>97</td></tr>\n",
       "\t<tr><td>2020-06-06</td><td>0dfdad</td><td>2</td><td>12</td><td>31</td><td>1</td><td>31</td><td>31</td><td> 22</td><td>2</td><td>...</td><td>2</td><td>2</td><td>2</td><td>2</td><td> 2</td><td>1</td><td>99</td><td>MÃ©xico</td><td>99</td><td> 2</td></tr>\n",
       "\t<tr><td>2020-06-06</td><td>0b209a</td><td>1</td><td>12</td><td>15</td><td>1</td><td>30</td><td>15</td><td>121</td><td>2</td><td>...</td><td>2</td><td>2</td><td>2</td><td>2</td><td> 2</td><td>1</td><td>99</td><td>MÃ©xico</td><td>99</td><td> 2</td></tr>\n",
       "\t<tr><td>2020-06-06</td><td>0d2b0c</td><td>1</td><td>12</td><td>26</td><td>2</td><td>26</td><td>26</td><td> 30</td><td>2</td><td>...</td><td>2</td><td>1</td><td>2</td><td>2</td><td> 2</td><td>1</td><td>99</td><td>MÃ©xico</td><td>99</td><td> 1</td></tr>\n",
       "\t<tr><td>2020-06-06</td><td>0b0121</td><td>2</td><td>10</td><td>11</td><td>2</td><td>20</td><td>17</td><td>  6</td><td>1</td><td>...</td><td>2</td><td>2</td><td>2</td><td>2</td><td> 1</td><td>1</td><td>99</td><td>MÃ©xico</td><td>99</td><td>97</td></tr>\n",
       "\t<tr><td>2020-06-06</td><td>1c6272</td><td>2</td><td> 9</td><td>15</td><td>2</td><td>15</td><td> 9</td><td>  7</td><td>2</td><td>...</td><td>2</td><td>2</td><td>2</td><td>2</td><td> 2</td><td>1</td><td>99</td><td>MÃ©xico</td><td>99</td><td> 1</td></tr>\n",
       "\t<tr><td>2020-06-06</td><td>00acb5</td><td>2</td><td> 4</td><td> 2</td><td>1</td><td> 2</td><td> 2</td><td>  2</td><td>1</td><td>...</td><td>2</td><td>2</td><td>2</td><td>2</td><td>99</td><td>1</td><td>99</td><td>MÃ©xico</td><td>99</td><td>97</td></tr>\n",
       "\t<tr><td>2020-06-06</td><td>124831</td><td>1</td><td> 4</td><td>25</td><td>1</td><td>25</td><td>25</td><td>  6</td><td>2</td><td>...</td><td>2</td><td>1</td><td>2</td><td>2</td><td>99</td><td>1</td><td>99</td><td>MÃ©xico</td><td>99</td><td> 2</td></tr>\n",
       "\t<tr><td>2020-06-06</td><td>0f48b5</td><td>1</td><td>12</td><td> 9</td><td>2</td><td> 9</td><td> 9</td><td> 12</td><td>1</td><td>...</td><td>2</td><td>2</td><td>2</td><td>2</td><td> 2</td><td>1</td><td>99</td><td>MÃ©xico</td><td>99</td><td>97</td></tr>\n",
       "\t<tr><td>2020-06-06</td><td>10fc8d</td><td>1</td><td>12</td><td>12</td><td>2</td><td>12</td><td>12</td><td>  1</td><td>2</td><td>...</td><td>2</td><td>2</td><td>2</td><td>2</td><td> 1</td><td>1</td><td>99</td><td>MÃ©xico</td><td>99</td><td> 1</td></tr>\n",
       "\t<tr><td>2020-06-06</td><td>07f32b</td><td>1</td><td> 6</td><td> 9</td><td>2</td><td> 9</td><td> 9</td><td> 15</td><td>2</td><td>...</td><td>2</td><td>2</td><td>2</td><td>2</td><td> 2</td><td>1</td><td>99</td><td>MÃ©xico</td><td>99</td><td> 2</td></tr>\n",
       "\t<tr><td>2020-06-06</td><td>1ba05e</td><td>1</td><td>12</td><td> 2</td><td>2</td><td> 2</td><td> 2</td><td>  2</td><td>2</td><td>...</td><td>2</td><td>2</td><td>2</td><td>2</td><td>99</td><td>1</td><td>99</td><td>MÃ©xico</td><td>99</td><td> 2</td></tr>\n",
       "\t<tr><td>2020-06-06</td><td>18f580</td><td>2</td><td> 4</td><td> 2</td><td>1</td><td>16</td><td> 2</td><td>  4</td><td>2</td><td>...</td><td>2</td><td>2</td><td>2</td><td>2</td><td>99</td><td>1</td><td>99</td><td>MÃ©xico</td><td>99</td><td> 2</td></tr>\n",
       "\t<tr><td>2020-06-06</td><td>1a5ad2</td><td>1</td><td> 4</td><td>29</td><td>2</td><td>13</td><td>29</td><td>  5</td><td>2</td><td>...</td><td>2</td><td>2</td><td>2</td><td>2</td><td>99</td><td>1</td><td>99</td><td>MÃ©xico</td><td>99</td><td> 2</td></tr>\n",
       "\t<tr><td>2020-06-06</td><td>044546</td><td>2</td><td> 4</td><td> 2</td><td>1</td><td>14</td><td> 2</td><td>  4</td><td>2</td><td>...</td><td>2</td><td>2</td><td>2</td><td>2</td><td>99</td><td>1</td><td>99</td><td>MÃ©xico</td><td>99</td><td> 2</td></tr>\n",
       "\t<tr><td>2020-06-06</td><td>1caa3b</td><td>1</td><td> 6</td><td>16</td><td>1</td><td>16</td><td>16</td><td> 59</td><td>2</td><td>...</td><td>1</td><td>1</td><td>1</td><td>2</td><td> 2</td><td>1</td><td>99</td><td>MÃ©xico</td><td>99</td><td> 2</td></tr>\n",
       "\t<tr><td>2020-06-06</td><td>0b5f4b</td><td>2</td><td> 4</td><td> 9</td><td>2</td><td> 9</td><td> 9</td><td> 16</td><td>2</td><td>...</td><td>2</td><td>2</td><td>2</td><td>2</td><td>99</td><td>1</td><td>99</td><td>MÃ©xico</td><td>99</td><td> 1</td></tr>\n",
       "\t<tr><td>2020-06-06</td><td>17e1a7</td><td>1</td><td>12</td><td>17</td><td>2</td><td>17</td><td>17</td><td>  7</td><td>2</td><td>...</td><td>2</td><td>2</td><td>2</td><td>2</td><td> 1</td><td>1</td><td>99</td><td>MÃ©xico</td><td>99</td><td> 2</td></tr>\n",
       "\t<tr><td>2020-06-06</td><td>1aff0e</td><td>2</td><td> 4</td><td>21</td><td>2</td><td>21</td><td>21</td><td>114</td><td>1</td><td>...</td><td>2</td><td>2</td><td>2</td><td>2</td><td>99</td><td>1</td><td>99</td><td>MÃ©xico</td><td>99</td><td>97</td></tr>\n",
       "\t<tr><td>2020-06-06</td><td>0fae05</td><td>2</td><td> 4</td><td>28</td><td>2</td><td>28</td><td>28</td><td> 22</td><td>2</td><td>...</td><td>2</td><td>2</td><td>2</td><td>2</td><td>99</td><td>1</td><td>99</td><td>MÃ©xico</td><td>99</td><td> 2</td></tr>\n",
       "\t<tr><td>2020-06-06</td><td>0ce176</td><td>2</td><td>12</td><td> 9</td><td>1</td><td> 9</td><td> 9</td><td> 15</td><td>1</td><td>...</td><td>1</td><td>2</td><td>2</td><td>2</td><td> 1</td><td>1</td><td>99</td><td>MÃ©xico</td><td>99</td><td>97</td></tr>\n",
       "\t<tr><td>2020-06-06</td><td>121f4a</td><td>2</td><td>12</td><td> 9</td><td>1</td><td> 9</td><td> 9</td><td> 17</td><td>1</td><td>...</td><td>2</td><td>2</td><td>2</td><td>2</td><td> 1</td><td>1</td><td>99</td><td>MÃ©xico</td><td>99</td><td>97</td></tr>\n",
       "\t<tr><td>2020-06-06</td><td>00840a</td><td>1</td><td>12</td><td> 9</td><td>1</td><td> 9</td><td> 9</td><td> 12</td><td>1</td><td>...</td><td>2</td><td>2</td><td>2</td><td>2</td><td> 1</td><td>1</td><td>99</td><td>MÃ©xico</td><td>99</td><td>97</td></tr>\n",
       "\t<tr><td>2020-06-06</td><td>0b32fc</td><td>2</td><td>12</td><td>13</td><td>2</td><td>13</td><td>13</td><td> 48</td><td>2</td><td>...</td><td>2</td><td>1</td><td>2</td><td>1</td><td> 1</td><td>1</td><td>99</td><td>MÃ©xico</td><td>99</td><td> 2</td></tr>\n",
       "\t<tr><td>2020-06-06</td><td>0cde67</td><td>1</td><td>12</td><td>30</td><td>1</td><td>30</td><td>30</td><td> 28</td><td>2</td><td>...</td><td>2</td><td>1</td><td>2</td><td>2</td><td> 2</td><td>1</td><td>99</td><td>MÃ©xico</td><td>99</td><td> 2</td></tr>\n",
       "</tbody>\n",
       "</table>\n"
      ],
      "text/latex": [
       "A tibble: 27022 × 35\n",
       "\\begin{tabular}{lllllllllllllllllllll}\n",
       " FECHA\\_ACTUALIZACION & ID\\_REGISTRO & ORIGEN & SECTOR & ENTIDAD\\_UM & SEXO & ENTIDAD\\_NAC & ENTIDAD\\_RES & MUNICIPIO\\_RES & TIPO\\_PACIENTE & ... & CARDIOVASCULAR & OBESIDAD & RENAL\\_CRONICA & TABAQUISMO & OTRO\\_CASO & RESULTADO & MIGRANTE & PAIS\\_NACIONALIDAD & PAIS\\_ORIGEN & UCI\\\\\n",
       " <fct> & <fct> & <int> & <int> & <int> & <int> & <int> & <int> & <int> & <int> & ... & <int> & <int> & <int> & <int> & <int> & <int> & <int> & <fct> & <fct> & <int>\\\\\n",
       "\\hline\n",
       "\t 2020-06-06 & 0f12bb & 2 & 12 &  9 & 2 &  9 &  9 &   7 & 2 & ... & 2 &  2 & 1 & 2 &  2 & 1 & 99 & MÃ©xico & 99 &  1\\\\\n",
       "\t 2020-06-06 & 10975f & 1 & 12 & 27 & 2 & 27 & 27 &   4 & 2 & ... & 2 &  2 & 2 & 2 &  2 & 1 & 99 & MÃ©xico & 99 &  2\\\\\n",
       "\t 2020-06-06 & 0e6f59 & 1 & 12 &  9 & 2 & 21 &  9 &   7 & 2 & ... & 2 &  2 & 2 & 2 &  2 & 1 & 99 & MÃ©xico & 99 &  1\\\\\n",
       "\t 2020-06-06 & 1ab58a & 1 &  4 &  9 & 2 &  9 & 15 &  33 & 2 & ... & 2 &  1 & 2 & 2 & 99 & 1 & 99 & MÃ©xico & 99 &  2\\\\\n",
       "\t 2020-06-06 & 06ea4c & 1 &  4 & 30 & 1 & 30 & 30 &  65 & 2 & ... & 2 &  2 & 2 & 2 & 99 & 1 & 99 & MÃ©xico & 99 &  2\\\\\n",
       "\t 2020-06-06 & 10f464 & 2 & 12 & 19 & 2 & 19 & 19 &  26 & 1 & ... & 2 &  2 & 2 & 2 &  1 & 1 & 99 & MÃ©xico & 99 & 97\\\\\n",
       "\t 2020-06-06 & 12adfd & 2 &  4 &  2 & 2 &  7 &  2 &   1 & 2 & ... & 2 &  2 & 2 & 1 & 99 & 1 & 99 & MÃ©xico & 99 &  2\\\\\n",
       "\t 2020-06-06 & 0dcbff & 2 & 12 &  9 & 2 & 20 & 15 &  29 & 2 & ... & 2 &  2 & 2 & 2 &  1 & 1 & 99 & MÃ©xico & 99 &  1\\\\\n",
       "\t 2020-06-06 & 12afe6 & 1 &  4 & 25 & 1 & 25 & 25 &  11 & 2 & ... & 2 &  2 & 2 & 2 & 99 & 1 & 99 & MÃ©xico & 99 &  2\\\\\n",
       "\t 2020-06-06 & 179d6b & 2 &  4 & 15 & 1 &  9 & 15 &  60 & 1 & ... & 2 &  2 & 2 & 2 & 99 & 1 & 99 & MÃ©xico & 99 & 97\\\\\n",
       "\t 2020-06-06 & 1dce87 & 1 &  3 & 15 & 2 & 15 & 15 &  25 & 2 & ... & 2 &  2 & 2 & 2 &  1 & 1 & 99 & MÃ©xico & 99 &  2\\\\\n",
       "\t 2020-06-06 & 15d458 & 1 & 12 &  9 & 2 & 15 & 15 &  60 & 2 & ... & 2 &  1 & 2 & 2 &  2 & 1 & 99 & MÃ©xico & 99 &  2\\\\\n",
       "\t 2020-06-06 & 14ea83 & 2 &  4 & 16 & 1 & 16 & 16 &  53 & 1 & ... & 2 &  1 & 2 & 2 & 99 & 1 & 99 & MÃ©xico & 99 & 97\\\\\n",
       "\t 2020-06-06 & 0c9967 & 2 & 12 & 12 & 2 & 12 & 12 &  29 & 1 & ... & 2 &  2 & 2 & 1 &  1 & 1 & 99 & MÃ©xico & 99 & 97\\\\\n",
       "\t 2020-06-06 & 13bfd8 & 2 & 12 & 16 & 2 & 16 & 16 &   6 & 1 & ... & 2 &  2 & 2 & 1 &  1 & 1 & 99 & MÃ©xico & 99 & 97\\\\\n",
       "\t 2020-06-06 & 1c6789 & 2 & 12 &  9 & 2 & 20 &  9 &   6 & 2 & ... & 2 &  2 & 1 & 2 &  2 & 1 & 99 & MÃ©xico & 99 &  2\\\\\n",
       "\t 2020-06-06 & 0b7e1f & 2 &  8 &  9 & 2 &  9 &  9 &   2 & 2 & ... & 2 &  1 & 2 & 2 &  2 & 1 & 99 & MÃ©xico & 99 &  1\\\\\n",
       "\t 2020-06-06 & 1029be & 2 & 12 & 15 & 2 & 20 & 15 &  70 & 2 & ... & 2 & 98 & 2 & 2 & 99 & 1 & 99 & MÃ©xico & 99 &  2\\\\\n",
       "\t 2020-06-06 & 1d3dc6 & 2 &  4 &  9 & 2 &  9 &  9 &  15 & 2 & ... & 2 &  2 & 2 & 2 & 99 & 1 & 99 & MÃ©xico & 99 &  2\\\\\n",
       "\t 2020-06-06 & 1136b5 & 2 & 12 &  9 & 2 &  9 & 13 &  16 & 2 & ... & 2 &  2 & 2 & 2 &  2 & 1 & 99 & MÃ©xico & 99 &  1\\\\\n",
       "\t 2020-06-06 & 020f91 & 2 &  4 &  9 & 2 &  9 &  9 &   5 & 1 & ... & 2 &  1 & 2 & 1 & 99 & 1 & 99 & MÃ©xico & 99 & 97\\\\\n",
       "\t 2020-06-06 & 1df8d4 & 2 &  4 &  2 & 2 & 12 &  2 &   3 & 2 & ... & 2 &  2 & 2 & 2 & 99 & 1 & 99 & MÃ©xico & 99 &  2\\\\\n",
       "\t 2020-06-06 & 0c9bad & 1 & 12 & 26 & 1 & 26 & 26 &  29 & 2 & ... & 2 &  2 & 2 & 2 &  2 & 1 & 99 & MÃ©xico & 99 &  2\\\\\n",
       "\t 2020-06-06 & 020042 & 2 & 12 &  9 & 1 & 15 &  9 &   7 & 1 & ... & 2 &  2 & 2 & 2 &  1 & 1 & 99 & MÃ©xico & 99 & 97\\\\\n",
       "\t 2020-06-06 & 145ee4 & 1 &  4 &  9 & 2 &  9 &  9 &   7 & 2 & ... & 2 &  2 & 2 & 2 & 99 & 1 & 99 & MÃ©xico & 99 &  2\\\\\n",
       "\t 2020-06-06 & 1308b9 & 2 &  4 & 22 & 2 & 22 & 22 &  14 & 1 & ... & 2 &  1 & 2 & 1 & 99 & 1 & 99 & MÃ©xico & 99 & 97\\\\\n",
       "\t 2020-06-06 & 177a87 & 1 & 12 & 15 & 2 & 15 & 15 & 121 & 2 & ... & 2 &  1 & 2 & 2 &  2 & 1 & 99 & MÃ©xico & 99 &  2\\\\\n",
       "\t 2020-06-06 & 122ea0 & 2 & 12 & 15 & 2 & 15 & 15 &  82 & 1 & ... & 2 &  2 & 2 & 2 &  1 & 1 & 99 & MÃ©xico & 99 & 97\\\\\n",
       "\t 2020-06-06 & 10885e & 2 &  4 & 15 & 1 & 15 & 15 &  58 & 2 & ... & 2 &  2 & 2 & 2 & 99 & 1 & 99 & MÃ©xico & 99 &  2\\\\\n",
       "\t 2020-06-06 & 174ed6 & 1 &  4 & 19 & 2 & 27 & 19 &  39 & 2 & ... & 2 &  2 & 2 & 2 & 99 & 1 & 99 & MÃ©xico & 99 &  2\\\\\n",
       "\t ... & ... & ... & ... & ... & ... & ... & ... & ... & ... &  & ... & ... & ... & ... & ... & ... & ... & ... & ... & ...\\\\\n",
       "\t 2020-06-06 & 161a4b & 2 &  4 &  9 & 2 &  9 &  9 &  16 & 1 & ... & 2 & 2 & 2 & 2 & 99 & 1 & 99 & MÃ©xico & 99 & 97\\\\\n",
       "\t 2020-06-06 & 0a0fd6 & 1 &  6 &  8 & 2 & 10 &  8 &  37 & 2 & ... & 2 & 2 & 2 & 2 &  2 & 1 & 99 & MÃ©xico & 99 &  2\\\\\n",
       "\t 2020-06-06 & 008e48 & 2 & 12 & 14 & 1 & 14 & 14 & 101 & 1 & ... & 2 & 2 & 2 & 1 &  1 & 1 & 99 & MÃ©xico & 99 & 97\\\\\n",
       "\t 2020-06-06 & 03b043 & 2 &  8 & 19 & 2 & 19 & 19 &   9 & 2 & ... & 2 & 1 & 2 & 2 &  1 & 1 & 99 & MÃ©xico & 99 &  1\\\\\n",
       "\t 2020-06-06 & 0d308e & 2 &  4 & 14 & 1 & 14 & 14 &  39 & 2 & ... & 2 & 1 & 2 & 2 & 99 & 1 & 99 & MÃ©xico & 99 &  2\\\\\n",
       "\t 2020-06-06 & 1e515b & 1 & 12 &  9 & 2 &  9 &  9 &  14 & 1 & ... & 2 & 2 & 2 & 2 &  2 & 1 & 99 & MÃ©xico & 99 & 97\\\\\n",
       "\t 2020-06-06 & 0dfdad & 2 & 12 & 31 & 1 & 31 & 31 &  22 & 2 & ... & 2 & 2 & 2 & 2 &  2 & 1 & 99 & MÃ©xico & 99 &  2\\\\\n",
       "\t 2020-06-06 & 0b209a & 1 & 12 & 15 & 1 & 30 & 15 & 121 & 2 & ... & 2 & 2 & 2 & 2 &  2 & 1 & 99 & MÃ©xico & 99 &  2\\\\\n",
       "\t 2020-06-06 & 0d2b0c & 1 & 12 & 26 & 2 & 26 & 26 &  30 & 2 & ... & 2 & 1 & 2 & 2 &  2 & 1 & 99 & MÃ©xico & 99 &  1\\\\\n",
       "\t 2020-06-06 & 0b0121 & 2 & 10 & 11 & 2 & 20 & 17 &   6 & 1 & ... & 2 & 2 & 2 & 2 &  1 & 1 & 99 & MÃ©xico & 99 & 97\\\\\n",
       "\t 2020-06-06 & 1c6272 & 2 &  9 & 15 & 2 & 15 &  9 &   7 & 2 & ... & 2 & 2 & 2 & 2 &  2 & 1 & 99 & MÃ©xico & 99 &  1\\\\\n",
       "\t 2020-06-06 & 00acb5 & 2 &  4 &  2 & 1 &  2 &  2 &   2 & 1 & ... & 2 & 2 & 2 & 2 & 99 & 1 & 99 & MÃ©xico & 99 & 97\\\\\n",
       "\t 2020-06-06 & 124831 & 1 &  4 & 25 & 1 & 25 & 25 &   6 & 2 & ... & 2 & 1 & 2 & 2 & 99 & 1 & 99 & MÃ©xico & 99 &  2\\\\\n",
       "\t 2020-06-06 & 0f48b5 & 1 & 12 &  9 & 2 &  9 &  9 &  12 & 1 & ... & 2 & 2 & 2 & 2 &  2 & 1 & 99 & MÃ©xico & 99 & 97\\\\\n",
       "\t 2020-06-06 & 10fc8d & 1 & 12 & 12 & 2 & 12 & 12 &   1 & 2 & ... & 2 & 2 & 2 & 2 &  1 & 1 & 99 & MÃ©xico & 99 &  1\\\\\n",
       "\t 2020-06-06 & 07f32b & 1 &  6 &  9 & 2 &  9 &  9 &  15 & 2 & ... & 2 & 2 & 2 & 2 &  2 & 1 & 99 & MÃ©xico & 99 &  2\\\\\n",
       "\t 2020-06-06 & 1ba05e & 1 & 12 &  2 & 2 &  2 &  2 &   2 & 2 & ... & 2 & 2 & 2 & 2 & 99 & 1 & 99 & MÃ©xico & 99 &  2\\\\\n",
       "\t 2020-06-06 & 18f580 & 2 &  4 &  2 & 1 & 16 &  2 &   4 & 2 & ... & 2 & 2 & 2 & 2 & 99 & 1 & 99 & MÃ©xico & 99 &  2\\\\\n",
       "\t 2020-06-06 & 1a5ad2 & 1 &  4 & 29 & 2 & 13 & 29 &   5 & 2 & ... & 2 & 2 & 2 & 2 & 99 & 1 & 99 & MÃ©xico & 99 &  2\\\\\n",
       "\t 2020-06-06 & 044546 & 2 &  4 &  2 & 1 & 14 &  2 &   4 & 2 & ... & 2 & 2 & 2 & 2 & 99 & 1 & 99 & MÃ©xico & 99 &  2\\\\\n",
       "\t 2020-06-06 & 1caa3b & 1 &  6 & 16 & 1 & 16 & 16 &  59 & 2 & ... & 1 & 1 & 1 & 2 &  2 & 1 & 99 & MÃ©xico & 99 &  2\\\\\n",
       "\t 2020-06-06 & 0b5f4b & 2 &  4 &  9 & 2 &  9 &  9 &  16 & 2 & ... & 2 & 2 & 2 & 2 & 99 & 1 & 99 & MÃ©xico & 99 &  1\\\\\n",
       "\t 2020-06-06 & 17e1a7 & 1 & 12 & 17 & 2 & 17 & 17 &   7 & 2 & ... & 2 & 2 & 2 & 2 &  1 & 1 & 99 & MÃ©xico & 99 &  2\\\\\n",
       "\t 2020-06-06 & 1aff0e & 2 &  4 & 21 & 2 & 21 & 21 & 114 & 1 & ... & 2 & 2 & 2 & 2 & 99 & 1 & 99 & MÃ©xico & 99 & 97\\\\\n",
       "\t 2020-06-06 & 0fae05 & 2 &  4 & 28 & 2 & 28 & 28 &  22 & 2 & ... & 2 & 2 & 2 & 2 & 99 & 1 & 99 & MÃ©xico & 99 &  2\\\\\n",
       "\t 2020-06-06 & 0ce176 & 2 & 12 &  9 & 1 &  9 &  9 &  15 & 1 & ... & 1 & 2 & 2 & 2 &  1 & 1 & 99 & MÃ©xico & 99 & 97\\\\\n",
       "\t 2020-06-06 & 121f4a & 2 & 12 &  9 & 1 &  9 &  9 &  17 & 1 & ... & 2 & 2 & 2 & 2 &  1 & 1 & 99 & MÃ©xico & 99 & 97\\\\\n",
       "\t 2020-06-06 & 00840a & 1 & 12 &  9 & 1 &  9 &  9 &  12 & 1 & ... & 2 & 2 & 2 & 2 &  1 & 1 & 99 & MÃ©xico & 99 & 97\\\\\n",
       "\t 2020-06-06 & 0b32fc & 2 & 12 & 13 & 2 & 13 & 13 &  48 & 2 & ... & 2 & 1 & 2 & 1 &  1 & 1 & 99 & MÃ©xico & 99 &  2\\\\\n",
       "\t 2020-06-06 & 0cde67 & 1 & 12 & 30 & 1 & 30 & 30 &  28 & 2 & ... & 2 & 1 & 2 & 2 &  2 & 1 & 99 & MÃ©xico & 99 &  2\\\\\n",
       "\\end{tabular}\n"
      ],
      "text/markdown": [
       "\n",
       "A tibble: 27022 × 35\n",
       "\n",
       "| FECHA_ACTUALIZACION &lt;fct&gt; | ID_REGISTRO &lt;fct&gt; | ORIGEN &lt;int&gt; | SECTOR &lt;int&gt; | ENTIDAD_UM &lt;int&gt; | SEXO &lt;int&gt; | ENTIDAD_NAC &lt;int&gt; | ENTIDAD_RES &lt;int&gt; | MUNICIPIO_RES &lt;int&gt; | TIPO_PACIENTE &lt;int&gt; | ... ... | CARDIOVASCULAR &lt;int&gt; | OBESIDAD &lt;int&gt; | RENAL_CRONICA &lt;int&gt; | TABAQUISMO &lt;int&gt; | OTRO_CASO &lt;int&gt; | RESULTADO &lt;int&gt; | MIGRANTE &lt;int&gt; | PAIS_NACIONALIDAD &lt;fct&gt; | PAIS_ORIGEN &lt;fct&gt; | UCI &lt;int&gt; |\n",
       "|---|---|---|---|---|---|---|---|---|---|---|---|---|---|---|---|---|---|---|---|---|\n",
       "| 2020-06-06 | 0f12bb | 2 | 12 |  9 | 2 |  9 |  9 |   7 | 2 | ... | 2 |  2 | 1 | 2 |  2 | 1 | 99 | MÃ©xico | 99 |  1 |\n",
       "| 2020-06-06 | 10975f | 1 | 12 | 27 | 2 | 27 | 27 |   4 | 2 | ... | 2 |  2 | 2 | 2 |  2 | 1 | 99 | MÃ©xico | 99 |  2 |\n",
       "| 2020-06-06 | 0e6f59 | 1 | 12 |  9 | 2 | 21 |  9 |   7 | 2 | ... | 2 |  2 | 2 | 2 |  2 | 1 | 99 | MÃ©xico | 99 |  1 |\n",
       "| 2020-06-06 | 1ab58a | 1 |  4 |  9 | 2 |  9 | 15 |  33 | 2 | ... | 2 |  1 | 2 | 2 | 99 | 1 | 99 | MÃ©xico | 99 |  2 |\n",
       "| 2020-06-06 | 06ea4c | 1 |  4 | 30 | 1 | 30 | 30 |  65 | 2 | ... | 2 |  2 | 2 | 2 | 99 | 1 | 99 | MÃ©xico | 99 |  2 |\n",
       "| 2020-06-06 | 10f464 | 2 | 12 | 19 | 2 | 19 | 19 |  26 | 1 | ... | 2 |  2 | 2 | 2 |  1 | 1 | 99 | MÃ©xico | 99 | 97 |\n",
       "| 2020-06-06 | 12adfd | 2 |  4 |  2 | 2 |  7 |  2 |   1 | 2 | ... | 2 |  2 | 2 | 1 | 99 | 1 | 99 | MÃ©xico | 99 |  2 |\n",
       "| 2020-06-06 | 0dcbff | 2 | 12 |  9 | 2 | 20 | 15 |  29 | 2 | ... | 2 |  2 | 2 | 2 |  1 | 1 | 99 | MÃ©xico | 99 |  1 |\n",
       "| 2020-06-06 | 12afe6 | 1 |  4 | 25 | 1 | 25 | 25 |  11 | 2 | ... | 2 |  2 | 2 | 2 | 99 | 1 | 99 | MÃ©xico | 99 |  2 |\n",
       "| 2020-06-06 | 179d6b | 2 |  4 | 15 | 1 |  9 | 15 |  60 | 1 | ... | 2 |  2 | 2 | 2 | 99 | 1 | 99 | MÃ©xico | 99 | 97 |\n",
       "| 2020-06-06 | 1dce87 | 1 |  3 | 15 | 2 | 15 | 15 |  25 | 2 | ... | 2 |  2 | 2 | 2 |  1 | 1 | 99 | MÃ©xico | 99 |  2 |\n",
       "| 2020-06-06 | 15d458 | 1 | 12 |  9 | 2 | 15 | 15 |  60 | 2 | ... | 2 |  1 | 2 | 2 |  2 | 1 | 99 | MÃ©xico | 99 |  2 |\n",
       "| 2020-06-06 | 14ea83 | 2 |  4 | 16 | 1 | 16 | 16 |  53 | 1 | ... | 2 |  1 | 2 | 2 | 99 | 1 | 99 | MÃ©xico | 99 | 97 |\n",
       "| 2020-06-06 | 0c9967 | 2 | 12 | 12 | 2 | 12 | 12 |  29 | 1 | ... | 2 |  2 | 2 | 1 |  1 | 1 | 99 | MÃ©xico | 99 | 97 |\n",
       "| 2020-06-06 | 13bfd8 | 2 | 12 | 16 | 2 | 16 | 16 |   6 | 1 | ... | 2 |  2 | 2 | 1 |  1 | 1 | 99 | MÃ©xico | 99 | 97 |\n",
       "| 2020-06-06 | 1c6789 | 2 | 12 |  9 | 2 | 20 |  9 |   6 | 2 | ... | 2 |  2 | 1 | 2 |  2 | 1 | 99 | MÃ©xico | 99 |  2 |\n",
       "| 2020-06-06 | 0b7e1f | 2 |  8 |  9 | 2 |  9 |  9 |   2 | 2 | ... | 2 |  1 | 2 | 2 |  2 | 1 | 99 | MÃ©xico | 99 |  1 |\n",
       "| 2020-06-06 | 1029be | 2 | 12 | 15 | 2 | 20 | 15 |  70 | 2 | ... | 2 | 98 | 2 | 2 | 99 | 1 | 99 | MÃ©xico | 99 |  2 |\n",
       "| 2020-06-06 | 1d3dc6 | 2 |  4 |  9 | 2 |  9 |  9 |  15 | 2 | ... | 2 |  2 | 2 | 2 | 99 | 1 | 99 | MÃ©xico | 99 |  2 |\n",
       "| 2020-06-06 | 1136b5 | 2 | 12 |  9 | 2 |  9 | 13 |  16 | 2 | ... | 2 |  2 | 2 | 2 |  2 | 1 | 99 | MÃ©xico | 99 |  1 |\n",
       "| 2020-06-06 | 020f91 | 2 |  4 |  9 | 2 |  9 |  9 |   5 | 1 | ... | 2 |  1 | 2 | 1 | 99 | 1 | 99 | MÃ©xico | 99 | 97 |\n",
       "| 2020-06-06 | 1df8d4 | 2 |  4 |  2 | 2 | 12 |  2 |   3 | 2 | ... | 2 |  2 | 2 | 2 | 99 | 1 | 99 | MÃ©xico | 99 |  2 |\n",
       "| 2020-06-06 | 0c9bad | 1 | 12 | 26 | 1 | 26 | 26 |  29 | 2 | ... | 2 |  2 | 2 | 2 |  2 | 1 | 99 | MÃ©xico | 99 |  2 |\n",
       "| 2020-06-06 | 020042 | 2 | 12 |  9 | 1 | 15 |  9 |   7 | 1 | ... | 2 |  2 | 2 | 2 |  1 | 1 | 99 | MÃ©xico | 99 | 97 |\n",
       "| 2020-06-06 | 145ee4 | 1 |  4 |  9 | 2 |  9 |  9 |   7 | 2 | ... | 2 |  2 | 2 | 2 | 99 | 1 | 99 | MÃ©xico | 99 |  2 |\n",
       "| 2020-06-06 | 1308b9 | 2 |  4 | 22 | 2 | 22 | 22 |  14 | 1 | ... | 2 |  1 | 2 | 1 | 99 | 1 | 99 | MÃ©xico | 99 | 97 |\n",
       "| 2020-06-06 | 177a87 | 1 | 12 | 15 | 2 | 15 | 15 | 121 | 2 | ... | 2 |  1 | 2 | 2 |  2 | 1 | 99 | MÃ©xico | 99 |  2 |\n",
       "| 2020-06-06 | 122ea0 | 2 | 12 | 15 | 2 | 15 | 15 |  82 | 1 | ... | 2 |  2 | 2 | 2 |  1 | 1 | 99 | MÃ©xico | 99 | 97 |\n",
       "| 2020-06-06 | 10885e | 2 |  4 | 15 | 1 | 15 | 15 |  58 | 2 | ... | 2 |  2 | 2 | 2 | 99 | 1 | 99 | MÃ©xico | 99 |  2 |\n",
       "| 2020-06-06 | 174ed6 | 1 |  4 | 19 | 2 | 27 | 19 |  39 | 2 | ... | 2 |  2 | 2 | 2 | 99 | 1 | 99 | MÃ©xico | 99 |  2 |\n",
       "| ... | ... | ... | ... | ... | ... | ... | ... | ... | ... | <!----> | ... | ... | ... | ... | ... | ... | ... | ... | ... | ... |\n",
       "| 2020-06-06 | 161a4b | 2 |  4 |  9 | 2 |  9 |  9 |  16 | 1 | ... | 2 | 2 | 2 | 2 | 99 | 1 | 99 | MÃ©xico | 99 | 97 |\n",
       "| 2020-06-06 | 0a0fd6 | 1 |  6 |  8 | 2 | 10 |  8 |  37 | 2 | ... | 2 | 2 | 2 | 2 |  2 | 1 | 99 | MÃ©xico | 99 |  2 |\n",
       "| 2020-06-06 | 008e48 | 2 | 12 | 14 | 1 | 14 | 14 | 101 | 1 | ... | 2 | 2 | 2 | 1 |  1 | 1 | 99 | MÃ©xico | 99 | 97 |\n",
       "| 2020-06-06 | 03b043 | 2 |  8 | 19 | 2 | 19 | 19 |   9 | 2 | ... | 2 | 1 | 2 | 2 |  1 | 1 | 99 | MÃ©xico | 99 |  1 |\n",
       "| 2020-06-06 | 0d308e | 2 |  4 | 14 | 1 | 14 | 14 |  39 | 2 | ... | 2 | 1 | 2 | 2 | 99 | 1 | 99 | MÃ©xico | 99 |  2 |\n",
       "| 2020-06-06 | 1e515b | 1 | 12 |  9 | 2 |  9 |  9 |  14 | 1 | ... | 2 | 2 | 2 | 2 |  2 | 1 | 99 | MÃ©xico | 99 | 97 |\n",
       "| 2020-06-06 | 0dfdad | 2 | 12 | 31 | 1 | 31 | 31 |  22 | 2 | ... | 2 | 2 | 2 | 2 |  2 | 1 | 99 | MÃ©xico | 99 |  2 |\n",
       "| 2020-06-06 | 0b209a | 1 | 12 | 15 | 1 | 30 | 15 | 121 | 2 | ... | 2 | 2 | 2 | 2 |  2 | 1 | 99 | MÃ©xico | 99 |  2 |\n",
       "| 2020-06-06 | 0d2b0c | 1 | 12 | 26 | 2 | 26 | 26 |  30 | 2 | ... | 2 | 1 | 2 | 2 |  2 | 1 | 99 | MÃ©xico | 99 |  1 |\n",
       "| 2020-06-06 | 0b0121 | 2 | 10 | 11 | 2 | 20 | 17 |   6 | 1 | ... | 2 | 2 | 2 | 2 |  1 | 1 | 99 | MÃ©xico | 99 | 97 |\n",
       "| 2020-06-06 | 1c6272 | 2 |  9 | 15 | 2 | 15 |  9 |   7 | 2 | ... | 2 | 2 | 2 | 2 |  2 | 1 | 99 | MÃ©xico | 99 |  1 |\n",
       "| 2020-06-06 | 00acb5 | 2 |  4 |  2 | 1 |  2 |  2 |   2 | 1 | ... | 2 | 2 | 2 | 2 | 99 | 1 | 99 | MÃ©xico | 99 | 97 |\n",
       "| 2020-06-06 | 124831 | 1 |  4 | 25 | 1 | 25 | 25 |   6 | 2 | ... | 2 | 1 | 2 | 2 | 99 | 1 | 99 | MÃ©xico | 99 |  2 |\n",
       "| 2020-06-06 | 0f48b5 | 1 | 12 |  9 | 2 |  9 |  9 |  12 | 1 | ... | 2 | 2 | 2 | 2 |  2 | 1 | 99 | MÃ©xico | 99 | 97 |\n",
       "| 2020-06-06 | 10fc8d | 1 | 12 | 12 | 2 | 12 | 12 |   1 | 2 | ... | 2 | 2 | 2 | 2 |  1 | 1 | 99 | MÃ©xico | 99 |  1 |\n",
       "| 2020-06-06 | 07f32b | 1 |  6 |  9 | 2 |  9 |  9 |  15 | 2 | ... | 2 | 2 | 2 | 2 |  2 | 1 | 99 | MÃ©xico | 99 |  2 |\n",
       "| 2020-06-06 | 1ba05e | 1 | 12 |  2 | 2 |  2 |  2 |   2 | 2 | ... | 2 | 2 | 2 | 2 | 99 | 1 | 99 | MÃ©xico | 99 |  2 |\n",
       "| 2020-06-06 | 18f580 | 2 |  4 |  2 | 1 | 16 |  2 |   4 | 2 | ... | 2 | 2 | 2 | 2 | 99 | 1 | 99 | MÃ©xico | 99 |  2 |\n",
       "| 2020-06-06 | 1a5ad2 | 1 |  4 | 29 | 2 | 13 | 29 |   5 | 2 | ... | 2 | 2 | 2 | 2 | 99 | 1 | 99 | MÃ©xico | 99 |  2 |\n",
       "| 2020-06-06 | 044546 | 2 |  4 |  2 | 1 | 14 |  2 |   4 | 2 | ... | 2 | 2 | 2 | 2 | 99 | 1 | 99 | MÃ©xico | 99 |  2 |\n",
       "| 2020-06-06 | 1caa3b | 1 |  6 | 16 | 1 | 16 | 16 |  59 | 2 | ... | 1 | 1 | 1 | 2 |  2 | 1 | 99 | MÃ©xico | 99 |  2 |\n",
       "| 2020-06-06 | 0b5f4b | 2 |  4 |  9 | 2 |  9 |  9 |  16 | 2 | ... | 2 | 2 | 2 | 2 | 99 | 1 | 99 | MÃ©xico | 99 |  1 |\n",
       "| 2020-06-06 | 17e1a7 | 1 | 12 | 17 | 2 | 17 | 17 |   7 | 2 | ... | 2 | 2 | 2 | 2 |  1 | 1 | 99 | MÃ©xico | 99 |  2 |\n",
       "| 2020-06-06 | 1aff0e | 2 |  4 | 21 | 2 | 21 | 21 | 114 | 1 | ... | 2 | 2 | 2 | 2 | 99 | 1 | 99 | MÃ©xico | 99 | 97 |\n",
       "| 2020-06-06 | 0fae05 | 2 |  4 | 28 | 2 | 28 | 28 |  22 | 2 | ... | 2 | 2 | 2 | 2 | 99 | 1 | 99 | MÃ©xico | 99 |  2 |\n",
       "| 2020-06-06 | 0ce176 | 2 | 12 |  9 | 1 |  9 |  9 |  15 | 1 | ... | 1 | 2 | 2 | 2 |  1 | 1 | 99 | MÃ©xico | 99 | 97 |\n",
       "| 2020-06-06 | 121f4a | 2 | 12 |  9 | 1 |  9 |  9 |  17 | 1 | ... | 2 | 2 | 2 | 2 |  1 | 1 | 99 | MÃ©xico | 99 | 97 |\n",
       "| 2020-06-06 | 00840a | 1 | 12 |  9 | 1 |  9 |  9 |  12 | 1 | ... | 2 | 2 | 2 | 2 |  1 | 1 | 99 | MÃ©xico | 99 | 97 |\n",
       "| 2020-06-06 | 0b32fc | 2 | 12 | 13 | 2 | 13 | 13 |  48 | 2 | ... | 2 | 1 | 2 | 1 |  1 | 1 | 99 | MÃ©xico | 99 |  2 |\n",
       "| 2020-06-06 | 0cde67 | 1 | 12 | 30 | 1 | 30 | 30 |  28 | 2 | ... | 2 | 1 | 2 | 2 |  2 | 1 | 99 | MÃ©xico | 99 |  2 |\n",
       "\n"
      ],
      "text/plain": [
       "      FECHA_ACTUALIZACION ID_REGISTRO ORIGEN SECTOR ENTIDAD_UM SEXO ENTIDAD_NAC\n",
       "1     2020-06-06          0f12bb      2      12      9         2     9         \n",
       "2     2020-06-06          10975f      1      12     27         2    27         \n",
       "3     2020-06-06          0e6f59      1      12      9         2    21         \n",
       "4     2020-06-06          1ab58a      1       4      9         2     9         \n",
       "5     2020-06-06          06ea4c      1       4     30         1    30         \n",
       "6     2020-06-06          10f464      2      12     19         2    19         \n",
       "7     2020-06-06          12adfd      2       4      2         2     7         \n",
       "8     2020-06-06          0dcbff      2      12      9         2    20         \n",
       "9     2020-06-06          12afe6      1       4     25         1    25         \n",
       "10    2020-06-06          179d6b      2       4     15         1     9         \n",
       "11    2020-06-06          1dce87      1       3     15         2    15         \n",
       "12    2020-06-06          15d458      1      12      9         2    15         \n",
       "13    2020-06-06          14ea83      2       4     16         1    16         \n",
       "14    2020-06-06          0c9967      2      12     12         2    12         \n",
       "15    2020-06-06          13bfd8      2      12     16         2    16         \n",
       "16    2020-06-06          1c6789      2      12      9         2    20         \n",
       "17    2020-06-06          0b7e1f      2       8      9         2     9         \n",
       "18    2020-06-06          1029be      2      12     15         2    20         \n",
       "19    2020-06-06          1d3dc6      2       4      9         2     9         \n",
       "20    2020-06-06          1136b5      2      12      9         2     9         \n",
       "21    2020-06-06          020f91      2       4      9         2     9         \n",
       "22    2020-06-06          1df8d4      2       4      2         2    12         \n",
       "23    2020-06-06          0c9bad      1      12     26         1    26         \n",
       "24    2020-06-06          020042      2      12      9         1    15         \n",
       "25    2020-06-06          145ee4      1       4      9         2     9         \n",
       "26    2020-06-06          1308b9      2       4     22         2    22         \n",
       "27    2020-06-06          177a87      1      12     15         2    15         \n",
       "28    2020-06-06          122ea0      2      12     15         2    15         \n",
       "29    2020-06-06          10885e      2       4     15         1    15         \n",
       "30    2020-06-06          174ed6      1       4     19         2    27         \n",
       "...   ...                 ...         ...    ...    ...        ...  ...        \n",
       "26993 2020-06-06          161a4b      2       4      9         2     9         \n",
       "26994 2020-06-06          0a0fd6      1       6      8         2    10         \n",
       "26995 2020-06-06          008e48      2      12     14         1    14         \n",
       "26996 2020-06-06          03b043      2       8     19         2    19         \n",
       "26997 2020-06-06          0d308e      2       4     14         1    14         \n",
       "26998 2020-06-06          1e515b      1      12      9         2     9         \n",
       "26999 2020-06-06          0dfdad      2      12     31         1    31         \n",
       "27000 2020-06-06          0b209a      1      12     15         1    30         \n",
       "27001 2020-06-06          0d2b0c      1      12     26         2    26         \n",
       "27002 2020-06-06          0b0121      2      10     11         2    20         \n",
       "27003 2020-06-06          1c6272      2       9     15         2    15         \n",
       "27004 2020-06-06          00acb5      2       4      2         1     2         \n",
       "27005 2020-06-06          124831      1       4     25         1    25         \n",
       "27006 2020-06-06          0f48b5      1      12      9         2     9         \n",
       "27007 2020-06-06          10fc8d      1      12     12         2    12         \n",
       "27008 2020-06-06          07f32b      1       6      9         2     9         \n",
       "27009 2020-06-06          1ba05e      1      12      2         2     2         \n",
       "27010 2020-06-06          18f580      2       4      2         1    16         \n",
       "27011 2020-06-06          1a5ad2      1       4     29         2    13         \n",
       "27012 2020-06-06          044546      2       4      2         1    14         \n",
       "27013 2020-06-06          1caa3b      1       6     16         1    16         \n",
       "27014 2020-06-06          0b5f4b      2       4      9         2     9         \n",
       "27015 2020-06-06          17e1a7      1      12     17         2    17         \n",
       "27016 2020-06-06          1aff0e      2       4     21         2    21         \n",
       "27017 2020-06-06          0fae05      2       4     28         2    28         \n",
       "27018 2020-06-06          0ce176      2      12      9         1     9         \n",
       "27019 2020-06-06          121f4a      2      12      9         1     9         \n",
       "27020 2020-06-06          00840a      1      12      9         1     9         \n",
       "27021 2020-06-06          0b32fc      2      12     13         2    13         \n",
       "27022 2020-06-06          0cde67      1      12     30         1    30         \n",
       "      ENTIDAD_RES MUNICIPIO_RES TIPO_PACIENTE ... CARDIOVASCULAR OBESIDAD\n",
       "1      9            7           2             ... 2               2      \n",
       "2     27            4           2             ... 2               2      \n",
       "3      9            7           2             ... 2               2      \n",
       "4     15           33           2             ... 2               1      \n",
       "5     30           65           2             ... 2               2      \n",
       "6     19           26           1             ... 2               2      \n",
       "7      2            1           2             ... 2               2      \n",
       "8     15           29           2             ... 2               2      \n",
       "9     25           11           2             ... 2               2      \n",
       "10    15           60           1             ... 2               2      \n",
       "11    15           25           2             ... 2               2      \n",
       "12    15           60           2             ... 2               1      \n",
       "13    16           53           1             ... 2               1      \n",
       "14    12           29           1             ... 2               2      \n",
       "15    16            6           1             ... 2               2      \n",
       "16     9            6           2             ... 2               2      \n",
       "17     9            2           2             ... 2               1      \n",
       "18    15           70           2             ... 2              98      \n",
       "19     9           15           2             ... 2               2      \n",
       "20    13           16           2             ... 2               2      \n",
       "21     9            5           1             ... 2               1      \n",
       "22     2            3           2             ... 2               2      \n",
       "23    26           29           2             ... 2               2      \n",
       "24     9            7           1             ... 2               2      \n",
       "25     9            7           2             ... 2               2      \n",
       "26    22           14           1             ... 2               1      \n",
       "27    15          121           2             ... 2               1      \n",
       "28    15           82           1             ... 2               2      \n",
       "29    15           58           2             ... 2               2      \n",
       "30    19           39           2             ... 2               2      \n",
       "...   ...         ...           ...               ...            ...     \n",
       "26993  9           16           1             ... 2              2       \n",
       "26994  8           37           2             ... 2              2       \n",
       "26995 14          101           1             ... 2              2       \n",
       "26996 19            9           2             ... 2              1       \n",
       "26997 14           39           2             ... 2              1       \n",
       "26998  9           14           1             ... 2              2       \n",
       "26999 31           22           2             ... 2              2       \n",
       "27000 15          121           2             ... 2              2       \n",
       "27001 26           30           2             ... 2              1       \n",
       "27002 17            6           1             ... 2              2       \n",
       "27003  9            7           2             ... 2              2       \n",
       "27004  2            2           1             ... 2              2       \n",
       "27005 25            6           2             ... 2              1       \n",
       "27006  9           12           1             ... 2              2       \n",
       "27007 12            1           2             ... 2              2       \n",
       "27008  9           15           2             ... 2              2       \n",
       "27009  2            2           2             ... 2              2       \n",
       "27010  2            4           2             ... 2              2       \n",
       "27011 29            5           2             ... 2              2       \n",
       "27012  2            4           2             ... 2              2       \n",
       "27013 16           59           2             ... 1              1       \n",
       "27014  9           16           2             ... 2              2       \n",
       "27015 17            7           2             ... 2              2       \n",
       "27016 21          114           1             ... 2              2       \n",
       "27017 28           22           2             ... 2              2       \n",
       "27018  9           15           1             ... 1              2       \n",
       "27019  9           17           1             ... 2              2       \n",
       "27020  9           12           1             ... 2              2       \n",
       "27021 13           48           2             ... 2              1       \n",
       "27022 30           28           2             ... 2              1       \n",
       "      RENAL_CRONICA TABAQUISMO OTRO_CASO RESULTADO MIGRANTE PAIS_NACIONALIDAD\n",
       "1     1             2           2        1         99       MÃ©xico          \n",
       "2     2             2           2        1         99       MÃ©xico          \n",
       "3     2             2           2        1         99       MÃ©xico          \n",
       "4     2             2          99        1         99       MÃ©xico          \n",
       "5     2             2          99        1         99       MÃ©xico          \n",
       "6     2             2           1        1         99       MÃ©xico          \n",
       "7     2             1          99        1         99       MÃ©xico          \n",
       "8     2             2           1        1         99       MÃ©xico          \n",
       "9     2             2          99        1         99       MÃ©xico          \n",
       "10    2             2          99        1         99       MÃ©xico          \n",
       "11    2             2           1        1         99       MÃ©xico          \n",
       "12    2             2           2        1         99       MÃ©xico          \n",
       "13    2             2          99        1         99       MÃ©xico          \n",
       "14    2             1           1        1         99       MÃ©xico          \n",
       "15    2             1           1        1         99       MÃ©xico          \n",
       "16    1             2           2        1         99       MÃ©xico          \n",
       "17    2             2           2        1         99       MÃ©xico          \n",
       "18    2             2          99        1         99       MÃ©xico          \n",
       "19    2             2          99        1         99       MÃ©xico          \n",
       "20    2             2           2        1         99       MÃ©xico          \n",
       "21    2             1          99        1         99       MÃ©xico          \n",
       "22    2             2          99        1         99       MÃ©xico          \n",
       "23    2             2           2        1         99       MÃ©xico          \n",
       "24    2             2           1        1         99       MÃ©xico          \n",
       "25    2             2          99        1         99       MÃ©xico          \n",
       "26    2             1          99        1         99       MÃ©xico          \n",
       "27    2             2           2        1         99       MÃ©xico          \n",
       "28    2             2           1        1         99       MÃ©xico          \n",
       "29    2             2          99        1         99       MÃ©xico          \n",
       "30    2             2          99        1         99       MÃ©xico          \n",
       "...   ...           ...        ...       ...       ...      ...              \n",
       "26993 2             2          99        1         99       MÃ©xico          \n",
       "26994 2             2           2        1         99       MÃ©xico          \n",
       "26995 2             1           1        1         99       MÃ©xico          \n",
       "26996 2             2           1        1         99       MÃ©xico          \n",
       "26997 2             2          99        1         99       MÃ©xico          \n",
       "26998 2             2           2        1         99       MÃ©xico          \n",
       "26999 2             2           2        1         99       MÃ©xico          \n",
       "27000 2             2           2        1         99       MÃ©xico          \n",
       "27001 2             2           2        1         99       MÃ©xico          \n",
       "27002 2             2           1        1         99       MÃ©xico          \n",
       "27003 2             2           2        1         99       MÃ©xico          \n",
       "27004 2             2          99        1         99       MÃ©xico          \n",
       "27005 2             2          99        1         99       MÃ©xico          \n",
       "27006 2             2           2        1         99       MÃ©xico          \n",
       "27007 2             2           1        1         99       MÃ©xico          \n",
       "27008 2             2           2        1         99       MÃ©xico          \n",
       "27009 2             2          99        1         99       MÃ©xico          \n",
       "27010 2             2          99        1         99       MÃ©xico          \n",
       "27011 2             2          99        1         99       MÃ©xico          \n",
       "27012 2             2          99        1         99       MÃ©xico          \n",
       "27013 1             2           2        1         99       MÃ©xico          \n",
       "27014 2             2          99        1         99       MÃ©xico          \n",
       "27015 2             2           1        1         99       MÃ©xico          \n",
       "27016 2             2          99        1         99       MÃ©xico          \n",
       "27017 2             2          99        1         99       MÃ©xico          \n",
       "27018 2             2           1        1         99       MÃ©xico          \n",
       "27019 2             2           1        1         99       MÃ©xico          \n",
       "27020 2             2           1        1         99       MÃ©xico          \n",
       "27021 2             1           1        1         99       MÃ©xico          \n",
       "27022 2             2           2        1         99       MÃ©xico          \n",
       "      PAIS_ORIGEN UCI\n",
       "1     99           1 \n",
       "2     99           2 \n",
       "3     99           1 \n",
       "4     99           2 \n",
       "5     99           2 \n",
       "6     99          97 \n",
       "7     99           2 \n",
       "8     99           1 \n",
       "9     99           2 \n",
       "10    99          97 \n",
       "11    99           2 \n",
       "12    99           2 \n",
       "13    99          97 \n",
       "14    99          97 \n",
       "15    99          97 \n",
       "16    99           2 \n",
       "17    99           1 \n",
       "18    99           2 \n",
       "19    99           2 \n",
       "20    99           1 \n",
       "21    99          97 \n",
       "22    99           2 \n",
       "23    99           2 \n",
       "24    99          97 \n",
       "25    99           2 \n",
       "26    99          97 \n",
       "27    99           2 \n",
       "28    99          97 \n",
       "29    99           2 \n",
       "30    99           2 \n",
       "...   ...         ...\n",
       "26993 99          97 \n",
       "26994 99           2 \n",
       "26995 99          97 \n",
       "26996 99           1 \n",
       "26997 99           2 \n",
       "26998 99          97 \n",
       "26999 99           2 \n",
       "27000 99           2 \n",
       "27001 99           1 \n",
       "27002 99          97 \n",
       "27003 99           1 \n",
       "27004 99          97 \n",
       "27005 99           2 \n",
       "27006 99          97 \n",
       "27007 99           1 \n",
       "27008 99           2 \n",
       "27009 99           2 \n",
       "27010 99           2 \n",
       "27011 99           2 \n",
       "27012 99           2 \n",
       "27013 99           2 \n",
       "27014 99           1 \n",
       "27015 99           2 \n",
       "27016 99          97 \n",
       "27017 99           2 \n",
       "27018 99          97 \n",
       "27019 99          97 \n",
       "27020 99          97 \n",
       "27021 99           2 \n",
       "27022 99           2 "
      ]
     },
     "metadata": {},
     "output_type": "display_data"
    },
    {
     "name": "stderr",
     "output_type": "stream",
     "text": [
      "The following objects are masked from cv (pos = 3):\n",
      "\n",
      "    ASMA, CARDIOVASCULAR, DIABETES, EDAD, EMBARAZO, ENTIDAD_NAC,\n",
      "    ENTIDAD_RES, ENTIDAD_UM, EPOC, FECHA_ACTUALIZACION, FECHA_DEF,\n",
      "    FECHA_INGRESO, FECHA_SINTOMAS, HABLA_LENGUA_INDI,\n",
      "    HABLA_LENGUA_INDIG, HIPERTENSION, ID_REGISTRO, INMUSUPR, INTUBADO,\n",
      "    MIGRANTE, MUNICIPIO_RES, NACIONALIDAD, NEUMONIA, OBESIDAD, ORIGEN,\n",
      "    OTRA_COM, OTRA_CON, OTRO_CASO, PAIS_NACIONALIDAD, PAIS_ORIGEN,\n",
      "    RENAL_CRONICA, RESULTADO, SECTOR, SEXO, TABAQUISMO, TIPO_PACIENTE,\n",
      "    UCI\n",
      "\n",
      "\n",
      "Warning message in 1:dim(cv):\n",
      "\"numerical expression has 2 elements: only the first used\"\n"
     ]
    }
   ],
   "source": [
    "#setwd('6to Semestre')\n",
    "#setwd('Temas Selectos de Matemáticas')\n",
    "#setwd('Covid')\n",
    "#setwd(\"C:/Users/sole-/Documents/Tecnologia/Sexto semestre/Temas compu\")\n",
    "cv=read.csv(\"200606COVID19MEXICO.csv\",header=T)\n",
    "cv <- na.omit(cv)\n",
    "cv=cv%>%tbl_df()\n",
    "cv=cv%>%filter(as.numeric(RESULTADO)<=1)\n",
    "cv$FECHA_DEF = ifelse(cv$FECHA_DEF !=\"9999-99-99\",1,0)\n",
    "\n",
    "p = cv %>% filter(FECHA_DEF == 0) %>% summarize(p=n())  \n",
    "num_negativo = p[[1]] #total de casos negativos\n",
    "p = cv %>% filter(FECHA_DEF == 1) %>% summarize(p=n())\n",
    "num_positivos = p[[1]] #numero de casos positivos\n",
    "\n",
    "cv_covid_negativo = cv %>% filter(FECHA_DEF == 0)\n",
    "cv_covid_positivo = cv %>% filter(FECHA_DEF == 1)\n",
    "h = sample(1:num_negativo,num_positivos,replace = FALSE) #generamos numeros aleatorios\n",
    "cv_int = cv_covid_negativo %>% slice(h)\n",
    "cv <- bind_rows(cv_int,cv_covid_positivo)#50% que han muerto y 50% que estan vivos\n",
    "\n",
    "h = sample(1:dim(cv)[1],dim(cv)[1],replace = FALSE)\n",
    "cv = cv %>% slice(h)\n",
    "cv\n",
    "#str(cv)\n",
    "cv$FECHA_DEF <- as.factor(cv$FECHA_DEF)\n",
    "cv$ORIGEN <- as.factor(cv$ORIGEN)\n",
    "cv$SECTOR <- as.factor(cv$SECTOR)\n",
    "cv$ENTIDAD_UM<- as.factor(cv$ENTIDAD_UM)\n",
    "cv$SEXO <- as.factor(cv$SEXO)\n",
    "cv$ENTIDAD_NAC <- as.factor(cv$ENTIDAD_NAC)\n",
    "cv$ENTIDAD_RES <- as.factor(cv$ENTIDAD_RES)\n",
    "cv$MUNICIPIO_RES <- as.factor(cv$MUNICIPIO_RES)\n",
    "cv$TIPO_PACIENTE <- as.factor(cv$TIPO_PACIENTE)\n",
    "cv$INTUBADO <- as.factor(cv$INTUBADO )\n",
    "cv$NEUMONIA  <- as.factor(cv$NEUMONIA )\n",
    "cv$NACIONALIDAD <- as.factor(cv$NACIONALIDAD)\n",
    "cv$EMBARAZO <- as.factor(cv$EMBARAZO)\n",
    "cv$HABLA_LENGUA_INDI <- as.factor(cv$HABLA_LENGUA_INDIG)\n",
    "cv$DIABETES <- as.factor(cv$DIABETES)\n",
    "cv$EPOC <- as.factor(cv$EPOC)\n",
    "cv$ASMA <- as.factor(cv$ASMA)\n",
    "cv$INMUSUPR  <- as.factor(cv$INMUSUPR  )\n",
    "cv$HIPERTENSION   <- as.factor(cv$HIPERTENSION  )\n",
    "cv$OTRA_CON <- as.factor(cv$OTRA_COM)\n",
    "cv$CARDIOVASCULAR <- as.factor(cv$CARDIOVASCULAR)\n",
    "cv$OBESIDAD  <- as.factor(cv$OBESIDAD )\n",
    "cv$RENAL_CRONICA  <- as.factor(cv$RENAL_CRONICA )\n",
    "cv$TABAQUISMO <- as.factor(cv$TABAQUISMO)\n",
    "cv$OTRO_CASO  <- as.factor(cv$OTRO_CASO  )\n",
    "cv$RESULTADO    <- as.factor(cv$RESULTADO  )\n",
    "cv$MIGRANTE <- as.factor(cv$MIGRANTE)\n",
    "cv$UCI <- as.factor(cv$UCI)\n",
    "cv$FECHA_DEF = as.factor(cv$FECHA_DEF)\n",
    "attach(cv)\n",
    "#str(cv)\n",
    "index <- sample(1:dim(cv), (dim(cv)/2), replace = F)\n",
    "Train <- cv[index,]\n",
    "Test <- cv[-index,]\n"
   ]
  },
  {
   "cell_type": "code",
   "execution_count": 7,
   "metadata": {},
   "outputs": [
    {
     "data": {
      "text/plain": [
       "\n",
       "Call:\n",
       "glm(formula = FECHA_DEF ~ NEUMONIA + SEXO + EPOC + HIPERTENSION + \n",
       "    INMUSUPR + TABAQUISMO + CARDIOVASCULAR + DIABETES + ASMA + \n",
       "    OBESIDAD + RENAL_CRONICA + OTRO_CASO, family = \"binomial\", \n",
       "    data = Train)\n",
       "\n",
       "Deviance Residuals: \n",
       "    Min       1Q   Median       3Q      Max  \n",
       "-3.0553  -0.6482  -0.3075   0.6918   2.4801  \n",
       "\n",
       "Coefficients:\n",
       "                 Estimate Std. Error z value Pr(>|z|)    \n",
       "(Intercept)       3.24270    0.29981  10.816  < 2e-16 ***\n",
       "NEUMONIA2        -2.59491    0.04753 -54.598  < 2e-16 ***\n",
       "SEXO2             0.50651    0.04728  10.713  < 2e-16 ***\n",
       "EPOC2            -1.03381    0.14936  -6.922 4.46e-12 ***\n",
       "EPOC98           -0.50299    0.85306  -0.590  0.55544    \n",
       "HIPERTENSION2    -0.62901    0.05399 -11.652  < 2e-16 ***\n",
       "HIPERTENSION98   -0.95352    0.70419  -1.354  0.17572    \n",
       "INMUSUPR2        -0.37743    0.16285  -2.318  0.02047 *  \n",
       "INMUSUPR98       -0.56131    0.76356  -0.735  0.46227    \n",
       "TABAQUISMO2      -0.02214    0.08142  -0.272  0.78568    \n",
       "TABAQUISMO98      0.10443    0.59957   0.174  0.86173    \n",
       "CARDIOVASCULAR2  -0.34482    0.12437  -2.773  0.00556 ** \n",
       "CARDIOVASCULAR98  0.26479    0.75000   0.353  0.72404    \n",
       "DIABETES2        -0.69476    0.05580 -12.451  < 2e-16 ***\n",
       "DIABETES98        0.16590    0.56570   0.293  0.76933    \n",
       "ASMA2             0.21606    0.14532   1.487  0.13707    \n",
       "ASMA98           -1.89725    1.10150  -1.722  0.08499 .  \n",
       "OBESIDAD2        -0.13792    0.05408  -2.550  0.01077 *  \n",
       "OBESIDAD98        0.19751    0.41041   0.481  0.63034    \n",
       "RENAL_CRONICA2   -0.65204    0.12629  -5.163 2.43e-07 ***\n",
       "RENAL_CRONICA98   0.40708    0.94282   0.432  0.66591    \n",
       "OTRO_CASO2        0.77990    0.06519  11.964  < 2e-16 ***\n",
       "OTRO_CASO99       1.57487    0.06335  24.861  < 2e-16 ***\n",
       "---\n",
       "Signif. codes:  0 '***' 0.001 '**' 0.01 '*' 0.05 '.' 0.1 ' ' 1\n",
       "\n",
       "(Dispersion parameter for binomial family taken to be 1)\n",
       "\n",
       "    Null deviance: 18730  on 13510  degrees of freedom\n",
       "Residual deviance: 12252  on 13488  degrees of freedom\n",
       "AIC: 12298\n",
       "\n",
       "Number of Fisher Scoring iterations: 5\n"
      ]
     },
     "metadata": {},
     "output_type": "display_data"
    },
    {
     "data": {
      "text/html": [
       "0.4"
      ],
      "text/latex": [
       "0.4"
      ],
      "text/markdown": [
       "0.4"
      ],
      "text/plain": [
       "[1] 0.4"
      ]
     },
     "metadata": {},
     "output_type": "display_data"
    },
    {
     "data": {
      "text/html": [
       "0.815187624898231"
      ],
      "text/latex": [
       "0.815187624898231"
      ],
      "text/markdown": [
       "0.815187624898231"
      ],
      "text/plain": [
       "[1] 0.8151876"
      ]
     },
     "metadata": {},
     "output_type": "display_data"
    },
    {
     "data": {
      "image/png": "[encoded data removed]",
      "text/plain": [
       "plot without title"
      ]
     },
     "metadata": {
      "image/png": {
       "height": 420,
       "width": 420
      },
      "text/plain": {
       "height": 420,
       "width": 420
      }
     },
     "output_type": "display_data"
    }
   ],
   "source": [
    "##########LOGISTIC######\n",
    "  glm1<- glm(FECHA_DEF~ NEUMONIA+SEXO+EPOC+HIPERTENSION+INMUSUPR+TABAQUISMO+CARDIOVASCULAR+DIABETES+ASMA+OBESIDAD+RENAL_CRONICA+OTRO_CASO ,family=\"binomial\" ,data = Train)\n",
    "  summary(glm1)\n",
    "  yhat2<- predict(glm1, Test,type=\"response\")\n",
    "  #para elegir la mejor y evaluamos los posibles valores, desde 0.1 hasta 1 y vemos cual es el mean menor \n",
    "  #se repite 91 veces \n",
    "  size=1\n",
    "  val_mean <- rep(0,91)\n",
    "  for(i in seq(0.1,1,by=0.01)){\n",
    "    y=as.integer(yhat2>i)\n",
    "    y=ifelse(y ==\"0\",0,1)\n",
    "    val_mean[size]=mean(y == Test$FECHA_DEF)\n",
    "    size=size+1\n",
    "  }\n",
    "  size=2\n",
    "  lugar=1\n",
    "  mejor=val_mean[lugar]\n",
    "  for(i in seq(0.11,1,by=0.01)){\n",
    "    if(val_mean[size]>mejor){\n",
    "      mejor=val_mean[size]\n",
    "      b=i\n",
    "      lugar=size\n",
    "    }\n",
    "    size=size+1\n",
    "  }\n",
    "  y=seq(0.1,1,by=0.01)\n",
    "  plot(y,val_mean,xlab = \"iterador\", ylab = \"valor mean\")\n",
    "  points(b, val_mean[lugar],  col = \"orange\", lwd = 10)\n",
    " ###valores elegidos\n",
    "   b\n",
    "  val_mean[lugar]"
   ]
  },
  {
   "cell_type": "code",
   "execution_count": 8,
   "metadata": {},
   "outputs": [
    {
     "data": {
      "text/html": [
       "0.812560515456549"
      ],
      "text/latex": [
       "0.812560515456549"
      ],
      "text/markdown": [
       "0.812560515456549"
      ],
      "text/plain": [
       "[1] 0.8125605"
      ]
     },
     "metadata": {},
     "output_type": "display_data"
    },
    {
     "data": {
      "image/png": "[encoded data removed]",
      "text/plain": [
       "Plot with title \"Accuracy using  10 - fold CV\""
      ]
     },
     "metadata": {
      "image/png": {
       "height": 420,
       "width": 420
      },
      "text/plain": {
       "height": 420,
       "width": 420
      }
     },
     "output_type": "display_data"
    },
    {
     "data": {
      "image/png": "[encoded data removed]",
      "text/plain": [
       "Plot with title \"precisión\""
      ]
     },
     "metadata": {
      "image/png": {
       "height": 420,
       "width": 420
      },
      "text/plain": {
       "height": 420,
       "width": 420
      }
     },
     "output_type": "display_data"
    }
   ],
   "source": [
    "#################### k-folds glm\n",
    "n <- dim(cv)[1]\n",
    "k <- 10\n",
    "\n",
    "\n",
    "folds <- cut(1:n,k,labels = F)\n",
    "acc = rep(0,k) #presicion del modelo\n",
    "for (i in 1:k){\n",
    "  index = folds == i\n",
    "  test = cv[index,]\n",
    "  train = cv[-index,]\n",
    "  reg = glm.c <-glm(FECHA_DEF~ NEUMONIA+SEXO+EPOC+HIPERTENSION+INMUSUPR+TABAQUISMO+CARDIOVASCULAR+DIABETES+ASMA+OBESIDAD+RENAL_CRONICA+OTRO_CASO,family=\"binomial\" ,data = train)\n",
    "  \n",
    "  y = test$FECHA_DEF\n",
    "  yhat = predict(reg,test,type = \"response\")\n",
    "  res = ifelse(yhat >b,1,0) #Si yhat > 0.5 entonces 1, si no 0\n",
    "  \n",
    "  clasiferror <- mean(y != res)\n",
    "  \n",
    "  acc[i] = 1 - clasiferror\n",
    "}\n",
    "mean(acc) #Presicion promedio del modelo\n",
    "\n",
    "hist(acc, main = paste(\"Accuracy using \", k, \"- fold CV\"))\n",
    "boxplot(acc,main=\"precisión\")\n",
    "\n"
   ]
  },
  {
   "cell_type": "code",
   "execution_count": 16,
   "metadata": {},
   "outputs": [
    {
     "data": {
      "image/png": "[encoded data removed]",
      "text/plain": [
       "Plot with title \"acp\""
      ]
     },
     "metadata": {
      "image/png": {
       "height": 420,
       "width": 420
      },
      "text/plain": {
       "height": 420,
       "width": 420
      }
     },
     "output_type": "display_data"
    },
    {
     "data": {
      "image/png": "[encoded data removed]",
      "text/plain": [
       "plot without title"
      ]
     },
     "metadata": {
      "image/png": {
       "height": 420,
       "width": 420
      },
      "text/plain": {
       "height": 420,
       "width": 420
      }
     },
     "output_type": "display_data"
    }
   ],
   "source": [
    "##################   PCA\n",
    "covid = cv\n",
    "UCI_list = covid$UCI\n",
    "#def_list = covid$FECHA_DEF\n",
    "def_list = covid$FECHA_DEF\n",
    "covid <- as.data.frame(sapply(covid, as.numeric))\n",
    "covid$FECHA_ACTUALIZACION <-NULL\n",
    "covid$ID_REGISTRO <-NULL\n",
    "covid$FECHA_INGRESO <-NULL\n",
    "covid$FECHA_SINTOMAS <-NULL\n",
    "covid$FECHA_DEF <- NULL\n",
    "covid$PAIS_NACIONALIDAD <-NULL\n",
    "covid$PAIS_ORIGEN <-NULL\n",
    "covid$UCI <- NULL\n",
    "covid$HABLA_LENGUA_INDIG <- NULL\n",
    "covid$HABLA_LENGUA_INDI <- NULL\n",
    "covid$MUNICIPIO_RES <- NULL\n",
    "covid$MIGRANTE <- NULL\n",
    "covid$ORIGEN <- NULL\n",
    "covid$ENTIDAD_NAC <- NULL\n",
    "covid$ENTIDAD_UM <- NULL\n",
    "covid$ENTIDAD_RES <- NULL\n",
    "covid$RESULTADO <- NULL\n",
    "covid$SECTOR <- NULL\n",
    "covid$OTRA_CON <- NULL\n",
    "covid$TIPO_PACIENTE <- NULL\n",
    "covid$NACIONALIDAD <- NULL\n",
    "#covid$RENAL_CRONICA <- NULL\n",
    "#covid$CARDIOVASCULAR <- NULL\n",
    "covid$EMBARAZO <- NULL\n",
    "#covid$TABAQUISMO <- NULL\n",
    "covid$FECHA_DEF <- NULL\n",
    "covid$INTUBADO <- NULL\n",
    "#centrar las funcionalidades, usando el método prcm\n",
    "acp <- prcomp(covid, center = TRUE, scale = TRUE) \n",
    "#normalizamos las variables, con center  cada variable sera restada de la media\n",
    "#dividir por la desviación, estandarizamos las variables, para que no domine la varianza de uno\n",
    "plot(acp, type = \"l\") \n",
    "plot(acp$x[,1],acp$x[,2],col=c(\"blue\",\"red\")[def_list],xlab=\"PC1\",ylab=\"PC2\")"
   ]
  },
  {
   "cell_type": "code",
   "execution_count": 9,
   "metadata": {},
   "outputs": [
    {
     "data": {
      "text/plain": [
       "     \n",
       "yhat1    0    1\n",
       "    0 5396 1271\n",
       "    1 1324 5520"
      ]
     },
     "metadata": {},
     "output_type": "display_data"
    },
    {
     "data": {
      "text/html": [
       "0.807934275775294"
      ],
      "text/latex": [
       "0.807934275775294"
      ],
      "text/markdown": [
       "0.807934275775294"
      ],
      "text/plain": [
       "[1] 0.8079343"
      ]
     },
     "metadata": {},
     "output_type": "display_data"
    }
   ],
   "source": [
    "#######LDA#####\n",
    "lda1 <- lda(FECHA_DEF~ NEUMONIA+SEXO+EPOC+HIPERTENSION+INMUSUPR+TABAQUISMO+CARDIOVASCULAR+DIABETES+ASMA+OBESIDAD+RENAL_CRONICA+OTRO_CASO,family=\"binomial\" ,data = Train)\n",
    "yhat1 <- predict(lda1, Test)$class\n",
    "table(yhat1,Test$FECHA_DEF)\n",
    "mean(yhat1 == Test$FECHA_DEF)"
   ]
  },
  {
   "cell_type": "code",
   "execution_count": 11,
   "metadata": {},
   "outputs": [
    {
     "data": {
      "text/html": [
       "0.804270839238032"
      ],
      "text/latex": [
       "0.804270839238032"
      ],
      "text/markdown": [
       "0.804270839238032"
      ],
      "text/plain": [
       "[1] 0.8042708"
      ]
     },
     "metadata": {},
     "output_type": "display_data"
    },
    {
     "data": {
      "image/png": "[encoded data removed]",
      "text/plain": [
       "Plot with title \"Accuracy using  10 - fold CV\""
      ]
     },
     "metadata": {
      "image/png": {
       "height": 420,
       "width": 420
      },
      "text/plain": {
       "height": 420,
       "width": 420
      }
     },
     "output_type": "display_data"
    },
    {
     "data": {
      "image/png": "[encoded data removed]",
      "text/plain": [
       "Plot with title \"LDA\""
      ]
     },
     "metadata": {
      "image/png": {
       "height": 420,
       "width": 420
      },
      "text/plain": {
       "height": 420,
       "width": 420
      }
     },
     "output_type": "display_data"
    },
    {
     "data": {
      "image/png": "[encoded data removed]",
      "text/plain": [
       "Plot with title \"LDA\""
      ]
     },
     "metadata": {
      "image/png": {
       "height": 420,
       "width": 420
      },
      "text/plain": {
       "height": 420,
       "width": 420
      }
     },
     "output_type": "display_data"
    }
   ],
   "source": [
    "######kfolds lda\n",
    "n <- dim(cv)[1]\n",
    "k <- 10\n",
    "\n",
    "\n",
    "folds <- cut(1:n,k,labels = F)\n",
    "acc = rep(0,k) #presicion del modelo\n",
    "for (i in 1:k){\n",
    "  index = folds == i\n",
    "  test = cv[index,]\n",
    "  train = cv[-index,]\n",
    "  reg = lda(FECHA_DEF~ NEUMONIA+SEXO+EPOC+HIPERTENSION+INMUSUPR+TABAQUISMO+CARDIOVASCULAR+DIABETES+ASMA+OBESIDAD+RENAL_CRONICA+OTRO_CASO,family=\"binomial\" ,data = train)\n",
    "  \n",
    "  y = test$FECHA_DEF\n",
    "  res = predict(reg, test)$class #Si yhat > 0.5 entonces 1, si no 0\n",
    "  \n",
    "  clasiferror <- mean(y != res)\n",
    "  \n",
    "  acc[i] = 1 - clasiferror\n",
    "}\n",
    "mean(acc) #Presicion promedio del modelo\n",
    "\n",
    "hist(acc, main = paste(\"Accuracy using \", k, \"- fold CV\"))\n",
    "boxplot(acc,main=\"LDA\",xlabel=\"Precisión\")\n",
    "\n",
    "y = as.factor(test$FECHA_DEF)\n",
    "plot(predict(reg, test)$posterior,col=c(y),main=\"LDA\",xlab=\"0 Probabilidad\")"
   ]
  },
  {
   "cell_type": "code",
   "execution_count": 12,
   "metadata": {},
   "outputs": [
    {
     "name": "stdout",
     "output_type": "stream",
     "text": [
      "[1] \"la mejor k fue: \"\n"
     ]
    },
    {
     "data": {
      "text/html": [
       "12"
      ],
      "text/latex": [
       "12"
      ],
      "text/markdown": [
       "12"
      ],
      "text/plain": [
       "[1] 12"
      ]
     },
     "metadata": {},
     "output_type": "display_data"
    },
    {
     "data": {
      "text/html": [
       "0.838872030197617"
      ],
      "text/latex": [
       "0.838872030197617"
      ],
      "text/markdown": [
       "0.838872030197617"
      ],
      "text/plain": [
       "[1] 0.838872"
      ]
     },
     "metadata": {},
     "output_type": "display_data"
    },
    {
     "data": {
      "image/png": "[encoded data removed]",
      "text/plain": [
       "plot without title"
      ]
     },
     "metadata": {
      "image/png": {
       "height": 420,
       "width": 420
      },
      "text/plain": {
       "height": 420,
       "width": 420
      }
     },
     "output_type": "display_data"
    }
   ],
   "source": [
    "#############KNN#####\n",
    "knn_val <- rep(1:20)\n",
    "end= nrow(cv_covid_positivo)#numero de valores\n",
    "mayor=0\n",
    "for(n in 1:20){\n",
    "  knn.pred <- knn(cbind(Train$SEXO,Train$NEUMONIA,Train$OBESIDAD,Train$HIPERTENSION,Train$DIABETES,\n",
    "                        Train$EDAD,Train$CARDIOVASCULAR,Train$UCI,Train$EPOC,Train$OTRO_CASO,Train$OTRA_CON), \n",
    "                  cbind(Test$SEXO,Test$NEUMONIA,Test$OBESIDAD,Test$HIPERTENSION,Test$DIABETES,\n",
    "                        Test$EDAD,Test$CARDIOVASCULAR,Test$UCI,Test$EPOC,Test$OTRO_CASO,Test$OTRA_CON), \n",
    "                  Train$FECHA_DEF, k=n)\n",
    "  error= mean(Test$FECHA_DEF == knn.pred)\n",
    "  knn_val[n]=error\n",
    "  if(error>mayor){\n",
    "    mayor=error\n",
    "    k_best=n\n",
    "  }\n",
    "}\n",
    "print(\"la mejor k fue: \")\n",
    "k_best\n",
    "mayor   \n",
    "boxplot(knn_val)"
   ]
  },
  {
   "cell_type": "code",
   "execution_count": 13,
   "metadata": {},
   "outputs": [
    {
     "data": {
      "text/plain": [
       "\n",
       "Classification tree:\n",
       "tree(formula = FECHA_DEF ~ NEUMONIA + SEXO + EPOC + HIPERTENSION + \n",
       "    INMUSUPR + TABAQUISMO + CARDIOVASCULAR + DIABETES + ASMA + \n",
       "    OBESIDAD + RENAL_CRONICA + OTRO_CASO, data = Train)\n",
       "Variables actually used in tree construction:\n",
       "[1] \"NEUMONIA\"  \"OTRO_CASO\" \"DIABETES\" \n",
       "Number of terminal nodes:  4 \n",
       "Residual mean deviance:  0.9413 = 12710 / 13510 \n",
       "Misclassification error rate: 0.1947 = 2631 / 13511 "
      ]
     },
     "metadata": {},
     "output_type": "display_data"
    },
    {
     "data": {
      "text/plain": [
       "         \n",
       "tree.pred    0    1\n",
       "        0 5216 1039\n",
       "        1 1504 5752"
      ]
     },
     "metadata": {},
     "output_type": "display_data"
    },
    {
     "data": {
      "text/html": [
       "0.811782991636444"
      ],
      "text/latex": [
       "0.811782991636444"
      ],
      "text/markdown": [
       "0.811782991636444"
      ],
      "text/plain": [
       "[1] 0.811783"
      ]
     },
     "metadata": {},
     "output_type": "display_data"
    },
    {
     "data": {
      "text/html": [
       "<style>\n",
       ".list-inline {list-style: none; margin:0; padding: 0}\n",
       ".list-inline>li {display: inline-block}\n",
       ".list-inline>li:not(:last-child)::after {content: \"\\00b7\"; padding: 0 .5ex}\n",
       "</style>\n",
       "<ol class=list-inline><li>'size'</li><li>'dev'</li><li>'k'</li><li>'method'</li></ol>\n"
      ],
      "text/latex": [
       "\\begin{enumerate*}\n",
       "\\item 'size'\n",
       "\\item 'dev'\n",
       "\\item 'k'\n",
       "\\item 'method'\n",
       "\\end{enumerate*}\n"
      ],
      "text/markdown": [
       "1. 'size'\n",
       "2. 'dev'\n",
       "3. 'k'\n",
       "4. 'method'\n",
       "\n",
       "\n"
      ],
      "text/plain": [
       "[1] \"size\"   \"dev\"    \"k\"      \"method\""
      ]
     },
     "metadata": {},
     "output_type": "display_data"
    },
    {
     "data": {
      "text/plain": [
       "$size\n",
       "[1] 4 2 1\n",
       "\n",
       "$dev\n",
       "[1] 2656 2847 6720\n",
       "\n",
       "$k\n",
       "[1] -Inf  108 3873\n",
       "\n",
       "$method\n",
       "[1] \"misclass\"\n",
       "\n",
       "attr(,\"class\")\n",
       "[1] \"prune\"         \"tree.sequence\""
      ]
     },
     "metadata": {},
     "output_type": "display_data"
    },
    {
     "data": {
      "image/png": "[encoded data removed]",
      "text/plain": [
       "plot without title"
      ]
     },
     "metadata": {
      "image/png": {
       "height": 420,
       "width": 420
      },
      "text/plain": {
       "height": 420,
       "width": 420
      }
     },
     "output_type": "display_data"
    },
    {
     "data": {
      "image/png": "[encoded data removed]",
      "text/plain": [
       "plot without title"
      ]
     },
     "metadata": {
      "image/png": {
       "height": 420,
       "width": 420
      },
      "text/plain": {
       "height": 420,
       "width": 420
      }
     },
     "output_type": "display_data"
    },
    {
     "data": {
      "image/png": "[encoded data removed]",
      "text/plain": [
       "plot without title"
      ]
     },
     "metadata": {
      "image/png": {
       "height": 420,
       "width": 420
      },
      "text/plain": {
       "height": 420,
       "width": 420
      }
     },
     "output_type": "display_data"
    }
   ],
   "source": [
    "######## desicion tree####\n",
    "tree.muerte = tree(FECHA_DEF~ NEUMONIA+SEXO+EPOC+HIPERTENSION+INMUSUPR+TABAQUISMO+CARDIOVASCULAR+DIABETES+ASMA+OBESIDAD+RENAL_CRONICA+OTRO_CASO,data = Train)\n",
    "summary(tree.muerte)\n",
    "plot(tree.muerte)\n",
    "text(tree.muerte, pretty=0)\n",
    "tree.pred = predict(tree.muerte, Test, type=\"class\")\n",
    "table(tree.pred,Test$FECHA_DEF)\n",
    "mean(tree.pred==Test$FECHA_DEF)\n",
    "\n",
    "cv.tree.muerte = cv.tree(tree.muerte, FUN = prune.misclass)\n",
    "names(cv.tree.muerte)\n",
    "cv.tree.muerte\n",
    "plot(cv.tree.muerte$size, cv.tree.muerte$dev,type=\"b\")\n",
    "plot(cv.tree.muerte$k,cv.tree.muerte$dev,type=\"b\")\n"
   ]
  },
  {
   "cell_type": "code",
   "execution_count": 14,
   "metadata": {},
   "outputs": [
    {
     "data": {
      "text/html": [
       "0.808526849981365"
      ],
      "text/latex": [
       "0.808526849981365"
      ],
      "text/markdown": [
       "0.808526849981365"
      ],
      "text/plain": [
       "[1] 0.8085268"
      ]
     },
     "metadata": {},
     "output_type": "display_data"
    },
    {
     "data": {
      "image/png": "[encoded data removed]",
      "text/plain": [
       "Plot with title \"Accuracy using  10 - fold CV\""
      ]
     },
     "metadata": {
      "image/png": {
       "height": 420,
       "width": 420
      },
      "text/plain": {
       "height": 420,
       "width": 420
      }
     },
     "output_type": "display_data"
    },
    {
     "data": {
      "image/png": "[encoded data removed]",
      "text/plain": [
       "Plot with title \"Árbol\""
      ]
     },
     "metadata": {
      "image/png": {
       "height": 420,
       "width": 420
      },
      "text/plain": {
       "height": 420,
       "width": 420
      }
     },
     "output_type": "display_data"
    }
   ],
   "source": [
    "#######kfolds desicion tree\n",
    "n <- dim(cv)[1]\n",
    "k <- 10\n",
    "\n",
    "\n",
    "folds <- cut(1:n,k,labels = F)\n",
    "acc = rep(0,k) #presicion del modelo\n",
    "for (i in 1:k){\n",
    "  index = folds == i\n",
    "  test = cv[index,]\n",
    "  train = cv[-index,]\n",
    "  reg =tree(FECHA_DEF~ NEUMONIA+SEXO+EPOC+HIPERTENSION+INMUSUPR+TABAQUISMO+CARDIOVASCULAR+DIABETES+ASMA+OBESIDAD+RENAL_CRONICA+OTRO_CASO,data = train)\n",
    "  \n",
    "  y = test$FECHA_DEF\n",
    "  res = predict(reg, test, type=\"class\") #Si yhat > 0.5 entonces 1, si no 0\n",
    "  \n",
    "  clasiferror <- mean(y != res)\n",
    "  \n",
    "  acc[i] = 1 - clasiferror\n",
    "}\n",
    "mean(acc) #Presicion promedio del modelo\n",
    "\n",
    "hist(acc, main = paste(\"Accuracy using \", k, \"- fold CV\"))\n",
    "boxplot(acc,main=\"Árbol\",xlabel=\"Precisión\")"
   ]
  },
  {
   "cell_type": "code",
   "execution_count": null,
   "metadata": {},
   "outputs": [],
   "source": []
  }
 ],
 "metadata": {
  "kernelspec": {
   "display_name": "R",
   "language": "R",
   "name": "ir"
  },
  "language_info": {
   "codemirror_mode": "r",
   "file_extension": ".r",
   "mimetype": "text/x-r-source",
   "name": "R",
   "pygments_lexer": "r",
   "version": "3.6.2"
  }
 },
 "nbformat": 4,
 "nbformat_minor": 4
}
