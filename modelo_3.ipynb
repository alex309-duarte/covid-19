{
 "cells": [
  {
   "cell_type": "code",
   "execution_count": 1,
   "metadata": {},
   "outputs": [
    {
     "name": "stderr",
     "output_type": "stream",
     "text": [
      "Warning message:\n",
      "\"package 'dplyr' was built under R version 3.6.3\"\n",
      "Warning message:\n",
      "\"package 'verification' was built under R version 3.6.3\"\n",
      "Warning message:\n",
      "\"package 'fields' was built under R version 3.6.3\"\n",
      "Warning message:\n",
      "\"package 'spam' was built under R version 3.6.3\"\n",
      "Warning message:\n",
      "\"package 'dotCall64' was built under R version 3.6.3\"\n",
      "Warning message:\n",
      "\"package 'maps' was built under R version 3.6.3\"\n",
      "Warning message:\n",
      "\"package 'CircStats' was built under R version 3.6.3\"\n",
      "Warning message:\n",
      "\"package 'dtw' was built under R version 3.6.3\"\n",
      "Warning message:\n",
      "\"package 'proxy' was built under R version 3.6.3\"\n"
     ]
    }
   ],
   "source": [
    "suppressMessages(library(dplyr))\n",
    "suppressMessages(library(verification))\n",
    "cv=read.csv(\"covid.csv\",header=T)\n",
    "cv <- na.omit(cv)\n",
    "cv=cv%>%tbl_df()\n",
    "cv=cv%>%filter(as.numeric(RESULTADO)<=1)\n",
    "cv$FECHA_DEF = ifelse(cv$FECHA_DEF !=\"9999-99-99\",1,0)\n",
    "\n",
    "p = cv %>% filter(FECHA_DEF == 0) %>% summarize(p=n())  \n",
    "num_negativo = p[[1]] #total de casos negativos\n",
    "p = cv %>% filter(FECHA_DEF == 1) %>% summarize(p=n())\n",
    "num_positivos = p[[1]] #numero de casos positivos\n",
    "\n",
    "cv_covid_negativo = cv %>% filter(FECHA_DEF == 0)\n",
    "cv_covid_positivo = cv %>% filter(FECHA_DEF == 1)\n",
    "h = sample(1:num_negativo,num_positivos,replace = FALSE) #generamos numeros aleatorios\n",
    "cv_int = cv_covid_negativo %>% slice(h)\n",
    "cv <- bind_rows(cv_int,cv_covid_positivo)#50% ya fallecieron y 50% no\n"
   ]
  },
  {
   "cell_type": "code",
   "execution_count": 2,
   "metadata": {},
   "outputs": [
    {
     "name": "stdout",
     "output_type": "stream",
     "text": [
      "Classes 'tbl_df', 'tbl' and 'data.frame':\t13978 obs. of  35 variables:\n",
      " $ FECHA_ACTUALIZACION: Factor w/ 1 level \"2020-05-22\": 1 1 1 1 1 1 1 1 1 1 ...\n",
      " $ ID_REGISTRO        : Factor w/ 210070 levels \"000013\",\"000023\",..: 92930 148888 152048 120021 89574 85760 71302 12861 71728 140704 ...\n",
      " $ ORIGEN             : int  2 2 2 1 2 1 2 2 2 1 ...\n",
      " $ SECTOR             : int  12 12 12 4 12 3 12 12 12 12 ...\n",
      " $ ENTIDAD_UM         : int  24 9 20 2 9 15 28 5 19 19 ...\n",
      " $ SEXO               : int  2 2 2 2 2 2 1 1 2 2 ...\n",
      " $ ENTIDAD_NAC        : int  24 9 20 26 32 9 28 5 19 99 ...\n",
      " $ ENTIDAD_RES        : int  24 9 20 2 9 15 28 5 19 19 ...\n",
      " $ MUNICIPIO_RES      : int  28 5 385 2 2 57 21 29 39 46 ...\n",
      " $ TIPO_PACIENTE      : int  1 1 2 2 1 2 1 1 1 2 ...\n",
      " $ FECHA_INGRESO      : Factor w/ 143 levels \"2020-01-01\",\"2020-01-02\",..: 115 121 134 99 116 119 113 127 126 140 ...\n",
      " $ FECHA_SINTOMAS     : Factor w/ 143 levels \"2020-01-01\",\"2020-01-02\",..: 111 121 127 99 111 109 112 121 122 135 ...\n",
      " $ FECHA_DEF          : num  0 0 0 0 0 0 0 0 0 0 ...\n",
      " $ INTUBADO           : int  97 97 1 2 97 2 97 97 97 2 ...\n",
      " $ NEUMONIA           : int  2 2 1 1 2 1 2 2 2 1 ...\n",
      " $ EDAD               : int  57 38 73 50 31 50 61 38 19 53 ...\n",
      " $ NACIONALIDAD       : int  1 1 1 1 1 1 1 1 1 2 ...\n",
      " $ EMBARAZO           : int  97 97 97 97 97 97 2 2 97 97 ...\n",
      " $ HABLA_LENGUA_INDIG : int  2 2 2 2 2 2 2 2 2 2 ...\n",
      " $ DIABETES           : int  2 2 2 1 2 2 1 2 2 2 ...\n",
      " $ EPOC               : int  2 2 2 2 2 2 2 2 2 2 ...\n",
      " $ ASMA               : int  2 2 2 2 2 2 2 2 2 2 ...\n",
      " $ INMUSUPR           : int  2 2 2 2 2 2 2 2 2 2 ...\n",
      " $ HIPERTENSION       : int  2 2 1 1 2 1 1 1 2 2 ...\n",
      " $ OTRA_COM           : int  2 2 2 2 2 2 2 2 2 2 ...\n",
      " $ CARDIOVASCULAR     : int  2 2 2 2 2 2 2 2 2 2 ...\n",
      " $ OBESIDAD           : int  2 1 2 2 1 2 2 1 2 2 ...\n",
      " $ RENAL_CRONICA      : int  2 2 2 1 2 2 2 2 2 2 ...\n",
      " $ TABAQUISMO         : int  2 2 1 2 2 2 1 2 2 2 ...\n",
      " $ OTRO_CASO          : int  2 1 1 99 2 1 2 1 2 1 ...\n",
      " $ RESULTADO          : int  1 1 1 1 1 1 1 1 1 1 ...\n",
      " $ MIGRANTE           : int  99 99 99 99 99 99 99 99 99 2 ...\n",
      " $ PAIS_NACIONALIDAD  : Factor w/ 80 levels \"Alemania\",\"ArchipiÃ©lago de Svalbard\",..: 49 49 49 49 49 49 49 49 49 11 ...\n",
      " $ PAIS_ORIGEN        : Factor w/ 41 levels \"99\",\"Alemania\",..: 1 1 1 1 1 1 1 1 1 1 ...\n",
      " $ UCI                : int  97 97 2 2 97 2 97 97 97 1 ...\n",
      "Classes 'tbl_df', 'tbl' and 'data.frame':\t13978 obs. of  37 variables:\n",
      " $ FECHA_ACTUALIZACION: Factor w/ 1 level \"2020-05-22\": 1 1 1 1 1 1 1 1 1 1 ...\n",
      " $ ID_REGISTRO        : Factor w/ 210070 levels \"000013\",\"000023\",..: 92930 148888 152048 120021 89574 85760 71302 12861 71728 140704 ...\n",
      " $ ORIGEN             : Factor w/ 2 levels \"1\",\"2\": 2 2 2 1 2 1 2 2 2 1 ...\n",
      " $ SECTOR             : Factor w/ 13 levels \"1\",\"2\",\"3\",\"4\",..: 11 11 11 4 11 3 11 11 11 11 ...\n",
      " $ ENTIDAD_UM         : Factor w/ 32 levels \"1\",\"2\",\"3\",\"4\",..: 24 9 20 2 9 15 28 5 19 19 ...\n",
      " $ SEXO               : Factor w/ 2 levels \"1\",\"2\": 2 2 2 2 2 2 1 1 2 2 ...\n",
      " $ ENTIDAD_NAC        : Factor w/ 33 levels \"1\",\"2\",\"3\",\"4\",..: 24 9 20 26 32 9 28 5 19 33 ...\n",
      " $ ENTIDAD_RES        : Factor w/ 32 levels \"1\",\"2\",\"3\",\"4\",..: 24 9 20 2 9 15 28 5 19 19 ...\n",
      " $ MUNICIPIO_RES      : Factor w/ 211 levels \"1\",\"2\",\"3\",\"4\",..: 28 5 194 2 2 57 21 29 39 46 ...\n",
      " $ TIPO_PACIENTE      : Factor w/ 2 levels \"1\",\"2\": 1 1 2 2 1 2 1 1 1 2 ...\n",
      " $ FECHA_INGRESO      : Factor w/ 143 levels \"2020-01-01\",\"2020-01-02\",..: 115 121 134 99 116 119 113 127 126 140 ...\n",
      " $ FECHA_SINTOMAS     : Factor w/ 143 levels \"2020-01-01\",\"2020-01-02\",..: 111 121 127 99 111 109 112 121 122 135 ...\n",
      " $ FECHA_DEF          : Factor w/ 2 levels \"0\",\"1\": 1 1 1 1 1 1 1 1 1 1 ...\n",
      " $ INTUBADO           : Factor w/ 4 levels \"1\",\"2\",\"97\",\"99\": 3 3 1 2 3 2 3 3 3 2 ...\n",
      " $ NEUMONIA           : Factor w/ 2 levels \"1\",\"2\": 2 2 1 1 2 1 2 2 2 1 ...\n",
      " $ EDAD               : int  57 38 73 50 31 50 61 38 19 53 ...\n",
      " $ NACIONALIDAD       : Factor w/ 2 levels \"1\",\"2\": 1 1 1 1 1 1 1 1 1 2 ...\n",
      " $ EMBARAZO           : Factor w/ 4 levels \"1\",\"2\",\"97\",\"98\": 3 3 3 3 3 3 2 2 3 3 ...\n",
      " $ HABLA_LENGUA_INDIG : int  2 2 2 2 2 2 2 2 2 2 ...\n",
      " $ DIABETES           : Factor w/ 3 levels \"1\",\"2\",\"98\": 2 2 2 1 2 2 1 2 2 2 ...\n",
      " $ EPOC               : Factor w/ 3 levels \"1\",\"2\",\"98\": 2 2 2 2 2 2 2 2 2 2 ...\n",
      " $ ASMA               : Factor w/ 3 levels \"1\",\"2\",\"98\": 2 2 2 2 2 2 2 2 2 2 ...\n",
      " $ INMUSUPR           : Factor w/ 3 levels \"1\",\"2\",\"98\": 2 2 2 2 2 2 2 2 2 2 ...\n",
      " $ HIPERTENSION       : Factor w/ 3 levels \"1\",\"2\",\"98\": 2 2 1 1 2 1 1 1 2 2 ...\n",
      " $ OTRA_COM           : int  2 2 2 2 2 2 2 2 2 2 ...\n",
      " $ CARDIOVASCULAR     : Factor w/ 3 levels \"1\",\"2\",\"98\": 2 2 2 2 2 2 2 2 2 2 ...\n",
      " $ OBESIDAD           : Factor w/ 3 levels \"1\",\"2\",\"98\": 2 1 2 2 1 2 2 1 2 2 ...\n",
      " $ RENAL_CRONICA      : Factor w/ 3 levels \"1\",\"2\",\"98\": 2 2 2 1 2 2 2 2 2 2 ...\n",
      " $ TABAQUISMO         : Factor w/ 3 levels \"1\",\"2\",\"98\": 2 2 1 2 2 2 1 2 2 2 ...\n",
      " $ OTRO_CASO          : Factor w/ 3 levels \"1\",\"2\",\"99\": 2 1 1 3 2 1 2 1 2 1 ...\n",
      " $ RESULTADO          : Factor w/ 1 level \"1\": 1 1 1 1 1 1 1 1 1 1 ...\n",
      " $ MIGRANTE           : Factor w/ 3 levels \"1\",\"2\",\"99\": 3 3 3 3 3 3 3 3 3 2 ...\n",
      " $ PAIS_NACIONALIDAD  : Factor w/ 80 levels \"Alemania\",\"ArchipiÃ©lago de Svalbard\",..: 49 49 49 49 49 49 49 49 49 11 ...\n",
      " $ PAIS_ORIGEN        : Factor w/ 41 levels \"99\",\"Alemania\",..: 1 1 1 1 1 1 1 1 1 1 ...\n",
      " $ UCI                : Factor w/ 4 levels \"1\",\"2\",\"97\",\"99\": 3 3 2 2 3 2 3 3 3 1 ...\n",
      " $ HABLA_LENGUA_INDI  : Factor w/ 3 levels \"1\",\"2\",\"99\": 2 2 2 2 2 2 2 2 2 2 ...\n",
      " $ OTRA_CON           : Factor w/ 3 levels \"1\",\"2\",\"98\": 2 2 2 2 2 2 2 2 2 2 ...\n"
     ]
    },
    {
     "name": "stderr",
     "output_type": "stream",
     "text": [
      "Warning message in 1:dim(cv):\n",
      "\"numerical expression has 2 elements: only the first used\"\n"
     ]
    }
   ],
   "source": [
    "str(cv)\n",
    "cv$FECHA_DEF <- as.factor(cv$FECHA_DEF)\n",
    "cv$ORIGEN <- as.factor(cv$ORIGEN)\n",
    "cv$SECTOR <- as.factor(cv$SECTOR)\n",
    "cv$ENTIDAD_UM<- as.factor(cv$ENTIDAD_UM)\n",
    "cv$SEXO <- as.factor(cv$SEXO)\n",
    "cv$ENTIDAD_NAC <- as.factor(cv$ENTIDAD_NAC)\n",
    "cv$ENTIDAD_RES <- as.factor(cv$ENTIDAD_RES)\n",
    "cv$MUNICIPIO_RES <- as.factor(cv$MUNICIPIO_RES)\n",
    "cv$TIPO_PACIENTE <- as.factor(cv$TIPO_PACIENTE)\n",
    "cv$INTUBADO <- as.factor(cv$INTUBADO )\n",
    "cv$NEUMONIA  <- as.factor(cv$NEUMONIA )\n",
    "cv$NACIONALIDAD <- as.factor(cv$NACIONALIDAD)\n",
    "cv$EMBARAZO <- as.factor(cv$EMBARAZO)\n",
    "cv$HABLA_LENGUA_INDI <- as.factor(cv$HABLA_LENGUA_INDIG)\n",
    "cv$DIABETES <- as.factor(cv$DIABETES)\n",
    "cv$EPOC <- as.factor(cv$EPOC)\n",
    "cv$ASMA <- as.factor(cv$ASMA)\n",
    "cv$INMUSUPR  <- as.factor(cv$INMUSUPR  )\n",
    "cv$HIPERTENSION   <- as.factor(cv$HIPERTENSION  )\n",
    "cv$OTRA_CON <- as.factor(cv$OTRA_COM)\n",
    "cv$CARDIOVASCULAR <- as.factor(cv$CARDIOVASCULAR)\n",
    "cv$OBESIDAD  <- as.factor(cv$OBESIDAD )\n",
    "cv$RENAL_CRONICA  <- as.factor(cv$RENAL_CRONICA )\n",
    "cv$TABAQUISMO <- as.factor(cv$TABAQUISMO)\n",
    "cv$OTRO_CASO  <- as.factor(cv$OTRO_CASO  )\n",
    "cv$RESULTADO    <- as.factor(cv$RESULTADO  )\n",
    "cv$MIGRANTE <- as.factor(cv$MIGRANTE)\n",
    "cv$UCI <- as.factor(cv$UCI)\n",
    "cv$FECHA_DEF = as.factor(cv$FECHA_DEF)\n",
    "attach(cv)\n",
    "str(cv)\n",
    "index <- sample(1:dim(cv), (dim(cv)/2), replace = F)\n",
    "Train <- cv[index,]\n",
    "Test <- cv[-index,]"
   ]
  },
  {
   "cell_type": "code",
   "execution_count": 3,
   "metadata": {},
   "outputs": [
    {
     "data": {
      "text/plain": [
       "\n",
       "Call:\n",
       "glm(formula = FECHA_DEF ~ SEXO + NEUMONIA + OBESIDAD + HIPERTENSION + \n",
       "    DIABETES + EDAD + INTUBADO + UCI + EPOC + OTRO_CASO + OTRA_CON, \n",
       "    family = \"binomial\", data = Train)\n",
       "\n",
       "Deviance Residuals: \n",
       "    Min       1Q   Median       3Q      Max  \n",
       "-3.2312  -0.4738  -0.1045   0.6499   2.5675  \n",
       "\n",
       "Coefficients: (2 not defined because of singularities)\n",
       "                 Estimate Std. Error z value Pr(>|z|)    \n",
       "(Intercept)      1.213371   0.349238   3.474 0.000512 ***\n",
       "SEXO2            0.440113   0.071010   6.198 5.72e-10 ***\n",
       "NEUMONIA2       -1.292453   0.075529 -17.112  < 2e-16 ***\n",
       "OBESIDAD2       -0.404438   0.079214  -5.106 3.30e-07 ***\n",
       "OBESIDAD98       0.453887   0.482099   0.941 0.346458    \n",
       "HIPERTENSION2   -0.298341   0.078506  -3.800 0.000145 ***\n",
       "HIPERTENSION98  -1.526076   0.949680  -1.607 0.108068    \n",
       "DIABETES2       -0.365635   0.078560  -4.654 3.25e-06 ***\n",
       "DIABETES98      -1.094893   1.172738  -0.934 0.350499    \n",
       "EDAD             0.043130   0.002493  17.302  < 2e-16 ***\n",
       "INTUBADO2       -1.884624   0.175058 -10.766  < 2e-16 ***\n",
       "INTUBADO97      -3.529893   0.189455 -18.632  < 2e-16 ***\n",
       "INTUBADO99       8.952821 196.967758   0.045 0.963746    \n",
       "UCI2            -0.164400   0.157140  -1.046 0.295468    \n",
       "UCI97                  NA         NA      NA       NA    \n",
       "UCI99                  NA         NA      NA       NA    \n",
       "EPOC2           -0.361495   0.184189  -1.963 0.049689 *  \n",
       "EPOC98           1.072183   1.166314   0.919 0.357943    \n",
       "OTRO_CASO2       0.488445   0.103070   4.739 2.15e-06 ***\n",
       "OTRO_CASO99      0.912366   0.101286   9.008  < 2e-16 ***\n",
       "OTRA_CON2       -0.255295   0.172260  -1.482 0.138333    \n",
       "OTRA_CON98      -0.016606   0.696527  -0.024 0.980979    \n",
       "---\n",
       "Signif. codes:  0 '***' 0.001 '**' 0.01 '*' 0.05 '.' 0.1 ' ' 1\n",
       "\n",
       "(Dispersion parameter for binomial family taken to be 1)\n",
       "\n",
       "    Null deviance: 9688.8  on 6988  degrees of freedom\n",
       "Residual deviance: 5607.8  on 6969  degrees of freedom\n",
       "AIC: 5647.8\n",
       "\n",
       "Number of Fisher Scoring iterations: 10\n"
      ]
     },
     "metadata": {},
     "output_type": "display_data"
    },
    {
     "name": "stderr",
     "output_type": "stream",
     "text": [
      "Warning message in predict.lm(object, newdata, se.fit, scale = 1, type = if (type == :\n",
      "\"prediction from a rank-deficient fit may be misleading\"\n"
     ]
    },
    {
     "data": {
      "text/html": [
       "0.31"
      ],
      "text/latex": [
       "0.31"
      ],
      "text/markdown": [
       "0.31"
      ],
      "text/plain": [
       "[1] 0.31"
      ]
     },
     "metadata": {},
     "output_type": "display_data"
    },
    {
     "data": {
      "text/html": [
       "0.825153813134926"
      ],
      "text/latex": [
       "0.825153813134926"
      ],
      "text/markdown": [
       "0.825153813134926"
      ],
      "text/plain": [
       "[1] 0.8251538"
      ]
     },
     "metadata": {},
     "output_type": "display_data"
    },
    {
     "data": {
      "image/png": "[encoded data removed]",
      "text/plain": [
       "plot without title"
      ]
     },
     "metadata": {
      "image/png": {
       "height": 420,
       "width": 420
      },
      "text/plain": {
       "height": 420,
       "width": 420
      }
     },
     "output_type": "display_data"
    }
   ],
   "source": [
    "##########LOGISTIC######\n",
    "  glm1<- glm(FECHA_DEF~ SEXO+NEUMONIA+OBESIDAD+HIPERTENSION+DIABETES+EDAD+INTUBADO+UCI+EPOC+OTRO_CASO+OTRA_CON,family=\"binomial\" ,data = Train)\n",
    "  summary(glm1)\n",
    "  yhat2<- predict(glm1, Test,type=\"response\")\n",
    "  #para elegir la mejor y evaluamos los posibles valores, desde 0.1 hasta 1 y vemos cual es el mean menor \n",
    "  #se repite 91 veces \n",
    "  size=1\n",
    "  val_mean <- rep(0,91)\n",
    "  for(i in seq(0.1,1,by=0.01)){\n",
    "    y=as.integer(yhat2>i)\n",
    "    y=ifelse(y ==\"0\",0,1)\n",
    "    val_mean[size]=mean(y == Test$FECHA_DEF)\n",
    "    size=size+1\n",
    "  }\n",
    "  size=2\n",
    "  lugar=1\n",
    "  mejor=val_mean[lugar]\n",
    "  for(i in seq(0.11,1,by=0.01)){\n",
    "    if(val_mean[size]>mejor){\n",
    "      mejor=val_mean[size]\n",
    "      b=i\n",
    "      lugar=size\n",
    "    }\n",
    "    size=size+1\n",
    "  }\n",
    "  y=seq(0.1,1,by=0.01)\n",
    "  plot(y,val_mean,xlab = \"iterador\", ylab = \"valor mean\")\n",
    "  points(b, val_mean[lugar],  col = \"orange\", lwd = 10)\n",
    " ###valores elegidos\n",
    "   b\n",
    "  val_mean[lugar]"
   ]
  },
  {
   "cell_type": "code",
   "execution_count": 4,
   "metadata": {},
   "outputs": [
    {
     "ename": "ERROR",
     "evalue": "Error in wilcox.test.default(pred[obs == 1], pred[obs == 0], alternative = \"great\"): not enough 'y' observations\n",
     "output_type": "error",
     "traceback": [
      "Error in wilcox.test.default(pred[obs == 1], pred[obs == 0], alternative = \"great\"): not enough 'y' observations\nTraceback:\n",
      "1. roc.plot(x = roc, pred = yhat2, threshold = seq(0, max(yhat2), \n .     0.05), plot.thres = c(0.03, 0.05, 0.1, 0.5, 0.9), main = \"Logistic\")",
      "2. roc.plot.default(x = roc, pred = yhat2, threshold = seq(0, max(yhat2), \n .     0.05), plot.thres = c(0.03, 0.05, 0.1, 0.5, 0.9), main = \"Logistic\")",
      "3. roc.area(x, pred[, j])",
      "4. wilcox.test(pred[obs == 1], pred[obs == 0], alternative = \"great\")",
      "5. wilcox.test.default(pred[obs == 1], pred[obs == 0], alternative = \"great\")",
      "6. stop(\"not enough 'y' observations\")"
     ]
    }
   ],
   "source": [
    "####ROCPLOT\n",
    "\n",
    "  roc= as.numeric(Test$FECHA_DEF)\n",
    " \n",
    "  roc.plot(x = roc, pred =yhat2,\n",
    "           threshold = seq(0, max(yhat2), 0.05),\n",
    "           plot.thres = c(0.03, 0.05, 0.1, 0.5, 0.9), main=\"Logistic\")\n",
    "  \n",
    " length(Test$FECHA_DEF)\n",
    " length(yhat2)"
   ]
  },
  {
   "cell_type": "code",
   "execution_count": 5,
   "metadata": {},
   "outputs": [
    {
     "name": "stderr",
     "output_type": "stream",
     "text": [
      "Warning message in predict.lm(object, newdata, se.fit, scale = 1, type = if (type == :\n",
      "\"prediction from a rank-deficient fit may be misleading\"\n",
      "Warning message in predict.lm(object, newdata, se.fit, scale = 1, type = if (type == :\n",
      "\"prediction from a rank-deficient fit may be misleading\"\n",
      "Warning message in predict.lm(object, newdata, se.fit, scale = 1, type = if (type == :\n",
      "\"prediction from a rank-deficient fit may be misleading\"\n",
      "Warning message in predict.lm(object, newdata, se.fit, scale = 1, type = if (type == :\n",
      "\"prediction from a rank-deficient fit may be misleading\"\n",
      "Warning message in predict.lm(object, newdata, se.fit, scale = 1, type = if (type == :\n",
      "\"prediction from a rank-deficient fit may be misleading\"\n",
      "Warning message in predict.lm(object, newdata, se.fit, scale = 1, type = if (type == :\n",
      "\"prediction from a rank-deficient fit may be misleading\"\n",
      "Warning message in predict.lm(object, newdata, se.fit, scale = 1, type = if (type == :\n",
      "\"prediction from a rank-deficient fit may be misleading\"\n",
      "Warning message in predict.lm(object, newdata, se.fit, scale = 1, type = if (type == :\n",
      "\"prediction from a rank-deficient fit may be misleading\"\n",
      "Warning message in predict.lm(object, newdata, se.fit, scale = 1, type = if (type == :\n",
      "\"prediction from a rank-deficient fit may be misleading\"\n",
      "Warning message in predict.lm(object, newdata, se.fit, scale = 1, type = if (type == :\n",
      "\"prediction from a rank-deficient fit may be misleading\"\n"
     ]
    },
    {
     "data": {
      "text/html": [
       "0.822365420280327"
      ],
      "text/latex": [
       "0.822365420280327"
      ],
      "text/markdown": [
       "0.822365420280327"
      ],
      "text/plain": [
       "[1] 0.8223654"
      ]
     },
     "metadata": {},
     "output_type": "display_data"
    },
    {
     "data": {
      "image/png": "[encoded data removed]",
      "text/plain": [
       "Plot with title \"Accuracy using  10 - fold CV\""
      ]
     },
     "metadata": {
      "image/png": {
       "height": 420,
       "width": 420
      },
      "text/plain": {
       "height": 420,
       "width": 420
      }
     },
     "output_type": "display_data"
    },
    {
     "data": {
      "image/png": "[encoded data removed]",
      "text/plain": [
       "Plot with title \"precisión\""
      ]
     },
     "metadata": {
      "image/png": {
       "height": 420,
       "width": 420
      },
      "text/plain": {
       "height": 420,
       "width": 420
      }
     },
     "output_type": "display_data"
    }
   ],
   "source": [
    "#################### k-folds\n",
    "n <- dim(cv)[1]\n",
    "k <- 10\n",
    "\n",
    "\n",
    "folds <- cut(1:n,k,labels = F)\n",
    "acc = rep(0,k) #presicion del modelo\n",
    "for (i in 1:k){\n",
    "  index = folds == i\n",
    "  test = cv[index,]\n",
    "  train = cv[-index,]\n",
    "  reg = glm.c <-glm(FECHA_DEF~ SEXO+NEUMONIA+OBESIDAD+HIPERTENSION+DIABETES+EDAD+INTUBADO+UCI+EPOC+OTRO_CASO+OTRA_CON,family=\"binomial\" ,data = train)\n",
    "  \n",
    "  y = test$FECHA_DEF\n",
    "  yhat = predict(reg,test,type = \"response\")\n",
    "  res = ifelse(yhat >b,1,0) #Si yhat > 0.5 entonces 1, si no 0\n",
    "  \n",
    "  clasiferror <- mean(y != res)\n",
    "  \n",
    "  acc[i] = 1 - clasiferror\n",
    "}\n",
    "mean(acc) #Presicion promedio del modelo\n",
    "\n",
    "hist(acc, main = paste(\"Accuracy using \", k, \"- fold CV\"))\n",
    "boxplot(acc,main=\"precisión\")\n"
   ]
  },
  {
   "cell_type": "code",
   "execution_count": 6,
   "metadata": {},
   "outputs": [
    {
     "name": "stderr",
     "output_type": "stream",
     "text": [
      "Warning message in lda.default(x, grouping, ...):\n",
      "\"variables are collinear\"\n",
      "Warning message in lda.default(x, grouping, ...):\n",
      "\"variables are collinear\"\n",
      "Warning message in lda.default(x, grouping, ...):\n",
      "\"variables are collinear\"\n",
      "Warning message in lda.default(x, grouping, ...):\n",
      "\"variables are collinear\"\n",
      "Warning message in lda.default(x, grouping, ...):\n",
      "\"variables are collinear\"\n",
      "Warning message in lda.default(x, grouping, ...):\n",
      "\"variables are collinear\"\n",
      "Warning message in lda.default(x, grouping, ...):\n",
      "\"variables are collinear\"\n",
      "Warning message in lda.default(x, grouping, ...):\n",
      "\"variables are collinear\"\n",
      "Warning message in lda.default(x, grouping, ...):\n",
      "\"variables are collinear\"\n",
      "Warning message in lda.default(x, grouping, ...):\n",
      "\"variables are collinear\"\n"
     ]
    },
    {
     "data": {
      "text/html": [
       "0.815785153757848"
      ],
      "text/latex": [
       "0.815785153757848"
      ],
      "text/markdown": [
       "0.815785153757848"
      ],
      "text/plain": [
       "[1] 0.8157852"
      ]
     },
     "metadata": {},
     "output_type": "display_data"
    },
    {
     "data": {
      "image/png": "[encoded data removed]",
      "text/plain": [
       "Plot with title \"Accuracy using  10 - fold CV\""
      ]
     },
     "metadata": {
      "image/png": {
       "height": 420,
       "width": 420
      },
      "text/plain": {
       "height": 420,
       "width": 420
      }
     },
     "output_type": "display_data"
    },
    {
     "data": {
      "image/png": "[encoded data removed]",
      "text/plain": [
       "Plot with title \"LDA\""
      ]
     },
     "metadata": {
      "image/png": {
       "height": 420,
       "width": 420
      },
      "text/plain": {
       "height": 420,
       "width": 420
      }
     },
     "output_type": "display_data"
    }
   ],
   "source": [
    "######kfolds\n",
    "n <- dim(cv)[1]\n",
    "k <- 10\n",
    "\n",
    "\n",
    "folds <- cut(1:n,k,labels = F)\n",
    "acc = rep(0,k) #presicion del modelo\n",
    "for (i in 1:k){\n",
    "  index = folds == i\n",
    "  test = cv[index,]\n",
    "  train = cv[-index,]\n",
    "  reg = lda(FECHA_DEF~ SEXO+NEUMONIA+OBESIDAD+HIPERTENSION+DIABETES+EDAD+INTUBADO+UCI+EPOC+OTRO_CASO+OTRA_CON,family=\"binomial\" ,data = train)\n",
    "  \n",
    "  y = test$FECHA_DEF\n",
    "  res = predict(reg, test)$class #Si yhat > 0.5 entonces 1, si no 0\n",
    "  \n",
    "  clasiferror <- mean(y != res)\n",
    "  \n",
    "  acc[i] = 1 - clasiferror\n",
    "}\n",
    "mean(acc) #Presicion promedio del modelo\n",
    "\n",
    "hist(acc, main = paste(\"Accuracy using \", k, \"- fold CV\"))\n",
    "boxplot(acc,main=\"LDA\",xlabel=\"Precisión\")"
   ]
  },
  {
   "cell_type": "code",
   "execution_count": null,
   "metadata": {},
   "outputs": [],
   "source": []
  }
 ],
 "metadata": {
  "kernelspec": {
   "display_name": "R",
   "language": "R",
   "name": "ir"
  },
  "language_info": {
   "codemirror_mode": "r",
   "file_extension": ".r",
   "mimetype": "text/x-r-source",
   "name": "R",
   "pygments_lexer": "r",
   "version": "3.6.2"
  }
 },
 "nbformat": 4,
 "nbformat_minor": 4
}
